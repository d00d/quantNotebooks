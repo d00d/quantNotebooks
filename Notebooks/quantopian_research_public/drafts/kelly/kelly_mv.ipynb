{
 "cells": [
  {
   "cell_type": "markdown",
   "metadata": {},
   "source": [
    "# Risk Management and The Kelly Criterion\n",
    "By Gideon Wulfsohn, Delaney Granizo-Mackenzie, and Thomas Wiecki\n",
    "\n",
    "Part of the Quantopian Lecture Series:\n",
    "\n",
    "* [quantopian.com/lectures](https://www.quantopian.com/lectures)\n",
    "* [github.com/quantopian/research_public](https://github.com/quantopian/research_public)\n",
    "\n",
    "Notebook released under the Creative Commons Attribution 4.0 License.\n",
    "\n",
    "---\n",
    "\n",
    "The Kelly Criterion is a method that was developed by John Larry Kelly Jr. while working at Bell Labs. Popularized by horse race gamblers and later by investors, the formula can be applied as a useful heuristic when deciding what percentage of your total captial should be allocated to a given strategy.\n",
    "\n",
    "Lets run through a simple application of the Kelly Criterion which is defined as follows:\n",
    "\n",
    "**Kelly Optimal Leverage = m<sub>i</sub> / s<sub>i</sub><sup>2</sup>**\n",
    "\n",
    "* m = mean returns\n",
    "\n",
    "* s = standard deviation of returns"
   ]
  },
  {
   "cell_type": "code",
   "execution_count": 2,
   "metadata": {
    "collapsed": true
   },
   "outputs": [],
   "source": [
    "# get pricing data for S&P 500 over a 13 year timeframe\n",
    "start = '2002-01-02'\n",
    "end = '2015-11-09'\n",
    "df = get_pricing('SPY', fields=['close_price'], start_date=start, end_date=end)"
   ]
  },
  {
   "cell_type": "code",
   "execution_count": 3,
   "metadata": {
    "collapsed": false,
    "scrolled": true
   },
   "outputs": [],
   "source": [
    "# compute daily returns, add as new column within dataframe\n",
    "daily_returns = (df.close_price.shift(-1) - df.close_price) / df.close_price\n",
    "df = df.ix[1:]\n",
    "df['daily_returns'] = daily_returns"
   ]
  },
  {
   "cell_type": "code",
   "execution_count": 4,
   "metadata": {
    "collapsed": false
   },
   "outputs": [
    {
     "data": {
      "text/html": [
       "<div style=\"max-height:1000px;max-width:1500px;overflow:auto;\">\n",
       "<table border=\"1\" class=\"dataframe\">\n",
       "  <thead>\n",
       "    <tr style=\"text-align: right;\">\n",
       "      <th></th>\n",
       "      <th>close_price</th>\n",
       "      <th>daily_returns</th>\n",
       "    </tr>\n",
       "  </thead>\n",
       "  <tbody>\n",
       "    <tr>\n",
       "      <th>2002-01-03 00:00:00+00:00</th>\n",
       "      <td>116.76</td>\n",
       "      <td>0.005567</td>\n",
       "    </tr>\n",
       "    <tr>\n",
       "      <th>2002-01-04 00:00:00+00:00</th>\n",
       "      <td>117.41</td>\n",
       "      <td>-0.006047</td>\n",
       "    </tr>\n",
       "    <tr>\n",
       "      <th>2002-01-07 00:00:00+00:00</th>\n",
       "      <td>116.70</td>\n",
       "      <td>-0.002913</td>\n",
       "    </tr>\n",
       "    <tr>\n",
       "      <th>2002-01-08 00:00:00+00:00</th>\n",
       "      <td>116.36</td>\n",
       "      <td>-0.005672</td>\n",
       "    </tr>\n",
       "    <tr>\n",
       "      <th>2002-01-09 00:00:00+00:00</th>\n",
       "      <td>115.70</td>\n",
       "      <td>0.002247</td>\n",
       "    </tr>\n",
       "  </tbody>\n",
       "</table>\n",
       "</div>"
      ],
      "text/plain": [
       "                           close_price  daily_returns\n",
       "2002-01-03 00:00:00+00:00       116.76       0.005567\n",
       "2002-01-04 00:00:00+00:00       117.41      -0.006047\n",
       "2002-01-07 00:00:00+00:00       116.70      -0.002913\n",
       "2002-01-08 00:00:00+00:00       116.36      -0.005672\n",
       "2002-01-09 00:00:00+00:00       115.70       0.002247"
      ]
     },
     "execution_count": 4,
     "metadata": {},
     "output_type": "execute_result"
    }
   ],
   "source": [
    "df.head()"
   ]
  },
  {
   "cell_type": "code",
   "execution_count": 5,
   "metadata": {
    "collapsed": false
   },
   "outputs": [
    {
     "name": "stdout",
     "output_type": "stream",
     "text": [
      "0.0609729006529\n",
      "0.196057542257\n"
     ]
    }
   ],
   "source": [
    "# compute mean and sd annual return using daily returns(252 trading days per year)\n",
    "mean_annual_return = df.daily_returns.mean() * 252\n",
    "annualized_std = df.daily_returns.std() * (252**.5)\n",
    "print mean_annual_return\n",
    "print annualized_std"
   ]
  },
  {
   "cell_type": "code",
   "execution_count": 6,
   "metadata": {
    "collapsed": false
   },
   "outputs": [],
   "source": [
    "mean_excess_return = mean_annual_return - .04\n",
    "sharpe_ratio = mean_excess_return / annualized_std\n",
    "\n",
    "opt_leverage = mean_excess_return / (annualized_std**2)"
   ]
  },
  {
   "cell_type": "code",
   "execution_count": 7,
   "metadata": {
    "collapsed": false
   },
   "outputs": [
    {
     "name": "stdout",
     "output_type": "stream",
     "text": [
      "Sharpe Ratio: 0.106973189664\n",
      "Kelly Optimal Leverage: 0.545621394786\n"
     ]
    }
   ],
   "source": [
    "print \"Sharpe Ratio: {}\".format(sharpe_ratio)\n",
    "print \"Kelly Optimal Leverage: {}\".format(opt_leverage)"
   ]
  },
  {
   "cell_type": "code",
   "execution_count": 8,
   "metadata": {
    "collapsed": false
   },
   "outputs": [
    {
     "name": "stdout",
     "output_type": "stream",
     "text": [
      "If the kelly optimal leverage is 0.545621394786 and you have $100000 to invest, you should buy $54562 worth of SPY under the assumption you believe the expected values of your returns by viewing them as gaussian.\n"
     ]
    }
   ],
   "source": [
    "capital = 100000\n",
    "purchase = int(capital * opt_leverage)\n",
    "print \"If the kelly optimal leverage is {} and you have ${} to invest, you should \\\n",
    "buy ${} worth of SPY under the assumption you believe the \\\n",
    "expected values of your returns by viewing them as gaussian.\".format(opt_leverage, capital, purchase)"
   ]
  },
  {
   "cell_type": "markdown",
   "metadata": {
    "collapsed": true
   },
   "source": [
    "# Mean-Varience Example"
   ]
  },
  {
   "cell_type": "code",
   "execution_count": 9,
   "metadata": {
    "collapsed": false
   },
   "outputs": [],
   "source": [
    "import math\n",
    "import numpy as np\n",
    "import cvxopt as opt\n",
    "import matplotlib.pyplot as plt\n",
    "from cvxopt import blas, solvers"
   ]
  },
  {
   "cell_type": "code",
   "execution_count": 10,
   "metadata": {
    "collapsed": true
   },
   "outputs": [],
   "source": [
    "np.random.seed(89)"
   ]
  },
  {
   "cell_type": "code",
   "execution_count": 11,
   "metadata": {
    "collapsed": false
   },
   "outputs": [],
   "source": [
    "# prevent cvxopt progress from printing\n",
    "solvers.options['show_progress'] = False\n",
    "\n",
    "# num assets\n",
    "n = 4\n",
    "\n",
    "# number of observations\n",
    "nobs = 1000\n",
    "\n",
    "def rand_weights(n):\n",
    "    ''' Produces n random weights that sum to 1 '''\n",
    "    k = np.random.randn(n)\n",
    "    return k / sum(k)\n",
    "\n",
    "def gen_returns(asset_count, nobs, drift=0.0):\n",
    "    ''' \n",
    "    Creates normally distributed series \n",
    "    :params:\n",
    "        asset_count: <int> number of series to create\n",
    "        nobs: <int> number of observations\n",
    "        drift: <float> skews the distribution to one side\n",
    "    :returns:\n",
    "        np.ndarray with <asset_count> rows and <nobs> columns\n",
    "    '''\n",
    "    return np.random.randn(asset_count, nobs) + drift\n",
    "    \n",
    "def random_portfolio(returns, weight_func):\n",
    "    ''' \n",
    "    Returns the mean and standard deviation of returns for a random portfolio\n",
    "    '''\n",
    "    w = weight_func(returns.shape[0])\n",
    "    mu = np.dot(np.mean(returns, axis=1) , w)\n",
    "    sigma = math.sqrt(np.dot(w, np.dot(np.cov(returns), w)))\n",
    "    # This recursion reduces outliers\n",
    "    if sigma > 2:\n",
    "        return random_portfolio(returns, weight_func)\n",
    "    return sigma, mu"
   ]
  },
  {
   "cell_type": "code",
   "execution_count": 12,
   "metadata": {
    "collapsed": false
   },
   "outputs": [
    {
     "data": {
      "image/png": "[encoded data removed]",
      "text/plain": [
       "<matplotlib.figure.Figure at 0x7f74fc02aad0>"
      ]
     },
     "metadata": {},
     "output_type": "display_data"
    }
   ],
   "source": [
    "# gather returns and plot\n",
    "\n",
    "return_vec = gen_returns(n, nobs, drift=0.01)\n",
    "stds, means = np.column_stack(\n",
    "    [random_portfolio(return_vec, rand_weights) for _ in xrange(500)]\n",
    ")\n",
    "\n",
    "f, ax = plt.subplots()\n",
    "\n",
    "plt.plot(stds, means, 'o')\n",
    "ax.set_xlabel('Volitility')\n",
    "ax.set_ylabel('Return')\n",
    "\n",
    "# convert to matrix\n",
    "k = np.array(return_vec)\n",
    "S = opt.matrix (np.cov(k))\n",
    "pbar = opt.matrix(np.mean(k, axis=1))\n",
    "\n",
    "# conditioning optimizer\n",
    "G = -opt.matrix(np.eye(n))   # negative n x n identity matrix\n",
    "h = opt.matrix(0.0, (n ,1))\n",
    "A = opt.matrix(1.0, (1, n))\n",
    "b = opt.matrix(1.0)\n",
    "\n",
    "# expected returns\n",
    "N = 100\n",
    "mus = [10**(5.0* t/N - 1.0) for t in range(N)]\n",
    "\n",
    "# efficient frontier weights\n",
    "portfolios = [\n",
    "    solvers.qp(mu*S, -pbar, G, h, A, b)['x'] \n",
    "    for mu in mus\n",
    "]\n",
    "\n",
    "# risk and return\n",
    "returns = [blas.dot(pbar, x) for x in portfolios]\n",
    "risks = [np.sqrt(blas.dot(x, S*x)) for x in portfolios]\n",
    "plt.plot(risks, returns, 'y-o')\n",
    "\n",
    "def get_kelly_portfolios():\n",
    "    ww = np.dot(np.linalg.inv(opt.matrix(S)), opt.matrix(pbar))\n",
    "    rks = []; res = [];\n",
    "    for i in np.arange(0.05, 20, 0.0001):\n",
    "        w = ww / i\n",
    "        rks.append(blas.dot(pbar, opt.matrix(w)))\n",
    "        res.append(np.sqrt(blas.dot(opt.matrix(w), S*opt.matrix(w))))\n",
    "    return res, rks\n",
    "\n",
    "res, rks = get_kelly_portfolios()\n",
    "    \n",
    "# display kelly portfolios for various leverages\n",
    "plt.plot(res, rks, 'ko', markersize=3)\n",
    "plt.plot(res, np.array(rks) * -1, 'ko', markersize=3);"
   ]
  }
 ],
 "metadata": {
  "kernelspec": {
   "display_name": "Python 2",
   "language": "python",
   "name": "python2"
  }
 },
 "nbformat": 4,
 "nbformat_minor": 0
}