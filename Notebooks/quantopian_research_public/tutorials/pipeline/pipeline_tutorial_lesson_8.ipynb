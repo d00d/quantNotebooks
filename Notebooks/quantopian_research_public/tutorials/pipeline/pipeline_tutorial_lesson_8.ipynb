{
 "cells": [
  {
   "cell_type": "code",
   "execution_count": 1,
   "metadata": {
    "collapsed": true
   },
   "outputs": [],
   "source": [
    "from quantopian.pipeline import Pipeline\n",
    "from quantopian.research import run_pipeline\n",
    "from quantopian.pipeline.factors import SimpleMovingAverage, AverageDollarVolume"
   ]
  },
  {
   "cell_type": "markdown",
   "metadata": {},
   "source": [
    "##Classifiers\n",
    "A classifier is a function from an asset and a moment in time to a [categorical output](https://en.wikipedia.org/wiki/Categorical_variable) such as a `string` or `integer` label:\n",
    "```\n",
    "F(asset, timestamp) -> category\n",
    "```\n",
    "An example of a classifier producing a string output is the exchange ID of a security. To create this classifier, we'll have to import `morningstar.share_class_reference.exchange_id` and use the [latest](https://www.quantopian.com/tutorials/pipeline#lesson3) attribute to instantiate our classifier:"
   ]
  },
  {
   "cell_type": "code",
   "execution_count": 2,
   "metadata": {
    "collapsed": true
   },
   "outputs": [],
   "source": [
    "from quantopian.pipeline.data import morningstar\n",
    "\n",
    "# Since the underlying data of morningstar.share_class_reference.exchange_id\n",
    "# is of type string, .latest returns a Classifier\n",
    "exchange = morningstar.share_class_reference.exchange_id.latest"
   ]
  },
  {
   "cell_type": "markdown",
   "metadata": {},
   "source": [
    "Previously, we saw that the `latest` attribute produced an instance of a `Factor`. In this case, since the underlying data is of type `string`, `latest` produces a `Classifier`.\n",
    "\n",
    "Similarly, a computation producing the latest Morningstar sector code of a security is a `Classifier`. In this case, the underlying type is an `int`, but the integer doesn't represent a numerical value (it's a category) so it produces a classifier. To get the latest sector code, we can use the built-in `Sector` classifier."
   ]
  },
  {
   "cell_type": "code",
   "execution_count": 3,
   "metadata": {
    "collapsed": false
   },
   "outputs": [],
   "source": [
    "from quantopian.pipeline.classifiers.morningstar import Sector\n",
    "morningstar_sector = Sector()"
   ]
  },
  {
   "cell_type": "markdown",
   "metadata": {},
   "source": [
    "Using `Sector` is equivalent to `morningstar.asset_classification.morningstar_sector_code.latest`."
   ]
  },
  {
   "cell_type": "markdown",
   "metadata": {},
   "source": [
    "###Building Filters from Classifiers\n",
    "Classifiers can also be used to produce filters with methods like `isnull`, `eq`, and `startswith`. The full list of `Classifier` methods producing `Filters` can be found [here](https://www.quantopian.com/help#quantopian_pipeline_classifiers_Classifier).\n",
    "\n",
    "As an example, if we wanted a filter to select for securities trading on the New York Stock Exchange, we can use the `eq` method of our `exchange` classifier."
   ]
  },
  {
   "cell_type": "code",
   "execution_count": 4,
   "metadata": {
    "collapsed": true
   },
   "outputs": [],
   "source": [
    "nyse_filter = exchange.eq('NYS')"
   ]
  },
  {
   "cell_type": "markdown",
   "metadata": {},
   "source": [
    "This filter will return `True` for securities having `'NYS'` as their most recent `exchange_id`."
   ]
  },
  {
   "cell_type": "markdown",
   "metadata": {},
   "source": [
    "###Quantiles\n",
    "Classifiers can also be produced from various `Factor` methods. The most general of these is the `quantiles` method which accepts a bin count as an argument. The `quantiles` method assigns a label from 0 to (bins - 1) to every non-NaN data point in the factor output and returns a `Classifier` with these labels. `NaN`s are labeled with -1. Aliases are available for [quartiles](https://www.quantopian.com/help/#quantopian_pipeline_factors_Factor_quartiles) (`quantiles(4)`), [quintiles](https://www.quantopian.com/help/#quantopian_pipeline_factors_Factor_quintiles) (`quantiles(5)`), and [deciles](https://www.quantopian.com/help/#quantopian_pipeline_factors_Factor_deciles) (`quantiles(10)`). As an example, this is what a filter for the top decile of a factor might look like:"
   ]
  },
  {
   "cell_type": "code",
   "execution_count": 5,
   "metadata": {
    "collapsed": true
   },
   "outputs": [],
   "source": [
    "dollar_volume_decile = AverageDollarVolume(window_length=10).deciles()\n",
    "top_decile = (dollar_volume_decile.eq(9))"
   ]
  },
  {
   "cell_type": "markdown",
   "metadata": {},
   "source": [
    "Let's put each of our classifiers into a pipeline and run it to see what they look like."
   ]
  },
  {
   "cell_type": "code",
   "execution_count": 6,
   "metadata": {
    "collapsed": false
   },
   "outputs": [],
   "source": [
    "def make_pipeline():\n",
    "\n",
    "    exchange = morningstar.share_class_reference.exchange_id.latest\n",
    "    nyse_filter = exchange.eq('NYS')\n",
    "\n",
    "    morningstar_sector = Sector()\n",
    "\n",
    "    dollar_volume_decile = AverageDollarVolume(window_length=10).deciles()\n",
    "    top_decile = (dollar_volume_decile.eq(9))\n",
    "\n",
    "    return Pipeline(\n",
    "        columns={\n",
    "            'exchange': exchange,\n",
    "            'sector_code': morningstar_sector,\n",
    "            'dollar_volume_decile': dollar_volume_decile\n",
    "        },\n",
    "        screen=(nyse_filter & top_decile)\n",
    "    )"
   ]
  },
  {
   "cell_type": "code",
   "execution_count": 7,
   "metadata": {
    "collapsed": false
   },
   "outputs": [
    {
     "name": "stdout",
     "output_type": "stream",
     "text": [
      "Number of securities that passed the filter: 507\n"
     ]
    },
    {
     "data": {
      "text/html": [
       "<div style=\"max-height:1000px;max-width:1500px;overflow:auto;\">\n",
       "<table border=\"1\" class=\"dataframe\">\n",
       "  <thead>\n",
       "    <tr style=\"text-align: right;\">\n",
       "      <th></th>\n",
       "      <th></th>\n",
       "      <th>dollar_volume_decile</th>\n",
       "      <th>exchange</th>\n",
       "      <th>sector_code</th>\n",
       "    </tr>\n",
       "  </thead>\n",
       "  <tbody>\n",
       "    <tr>\n",
       "      <th rowspan=\"5\" valign=\"top\">2015-05-05 00:00:00+00:00</th>\n",
       "      <th>Equity(2 [AA])</th>\n",
       "      <td>9</td>\n",
       "      <td>NYS</td>\n",
       "      <td>101</td>\n",
       "    </tr>\n",
       "    <tr>\n",
       "      <th>Equity(62 [ABT])</th>\n",
       "      <td>9</td>\n",
       "      <td>NYS</td>\n",
       "      <td>206</td>\n",
       "    </tr>\n",
       "    <tr>\n",
       "      <th>Equity(64 [ABX])</th>\n",
       "      <td>9</td>\n",
       "      <td>NYS</td>\n",
       "      <td>101</td>\n",
       "    </tr>\n",
       "    <tr>\n",
       "      <th>Equity(76 [TAP])</th>\n",
       "      <td>9</td>\n",
       "      <td>NYS</td>\n",
       "      <td>205</td>\n",
       "    </tr>\n",
       "    <tr>\n",
       "      <th>Equity(128 [ADM])</th>\n",
       "      <td>9</td>\n",
       "      <td>NYS</td>\n",
       "      <td>205</td>\n",
       "    </tr>\n",
       "  </tbody>\n",
       "</table>\n",
       "</div>"
      ],
      "text/plain": [
       "                                             dollar_volume_decile exchange  \\\n",
       "2015-05-05 00:00:00+00:00 Equity(2 [AA])                        9      NYS   \n",
       "                          Equity(62 [ABT])                      9      NYS   \n",
       "                          Equity(64 [ABX])                      9      NYS   \n",
       "                          Equity(76 [TAP])                      9      NYS   \n",
       "                          Equity(128 [ADM])                     9      NYS   \n",
       "\n",
       "                                             sector_code  \n",
       "2015-05-05 00:00:00+00:00 Equity(2 [AA])             101  \n",
       "                          Equity(62 [ABT])           206  \n",
       "                          Equity(64 [ABX])           101  \n",
       "                          Equity(76 [TAP])           205  \n",
       "                          Equity(128 [ADM])          205  "
      ]
     },
     "execution_count": 7,
     "metadata": {},
     "output_type": "execute_result"
    }
   ],
   "source": [
    "result = run_pipeline(make_pipeline(), '2015-05-05', '2015-05-05')\n",
    "print 'Number of securities that passed the filter: %d' % len(result)\n",
    "result.head(5)"
   ]
  },
  {
   "cell_type": "markdown",
   "metadata": {},
   "source": [
    "Classifiers are also useful for describing grouping keys for complex transformations on Factor outputs. Grouping operations such as [demean](https://www.quantopian.com/help#quantopian_pipeline_factors_Factor_demean) and [groupby](https://www.quantopian.com/help#quantopian_pipeline_factors_Factor_groupby) are outside the scope of this tutorial. A future tutorial will cover more advanced uses for classifiers.\n",
    "\n",
    "In the next lesson, we'll look at the different datasets that we can use in pipeline."
   ]
  }
 ],
 "metadata": {
  "kernelspec": {
   "display_name": "Python 2",
   "language": "python",
   "name": "python2"
  },
  "language_info": {
   "codemirror_mode": {
    "name": "ipython",
    "version": 2
   },
   "file_extension": ".py",
   "mimetype": "text/x-python",
   "name": "python",
   "nbconvert_exporter": "python",
   "pygments_lexer": "ipython2",
   "version": "2.7.11"
  }
 },
 "nbformat": 4,
 "nbformat_minor": 0
}