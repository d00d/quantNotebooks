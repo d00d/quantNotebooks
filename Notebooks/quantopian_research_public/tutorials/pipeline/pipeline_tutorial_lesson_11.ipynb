{
 "cells": [
  {
   "cell_type": "code",
   "execution_count": 1,
   "metadata": {
    "collapsed": true
   },
   "outputs": [],
   "source": [
    "from quantopian.pipeline import Pipeline\n",
    "from quantopian.research import run_pipeline\n",
    "from quantopian.pipeline.data.builtin import USEquityPricing\n",
    "from quantopian.pipeline.factors import SimpleMovingAverage, AverageDollarVolume"
   ]
  },
  {
   "cell_type": "markdown",
   "metadata": {},
   "source": [
    "##Putting It All Together\n",
    "Now that we've covered the basic components of the Pipeline API, let's construct a pipeline that we might want to use in an algorithm.\n",
    "\n",
    "To start, let's first create a filter to narrow down the types of securities coming out of our pipeline. In this example, we will create a filter to select for securities that meet all of the following criteria:\n",
    "- Is a primary share\n",
    "- Is listed as a common stock\n",
    "- Is not a [depositary receipt](http://www.investopedia.com/terms/d/depositaryreceipt.asp) (ADR/GDR)\n",
    "- Is not trading [over-the-counter](http://www.investopedia.com/terms/o/otc.asp) (OTC)\n",
    "- Is not [when-issued](http://www.investopedia.com/terms/w/wi.asp) (WI)\n",
    "- Doesn't have a name indicating it's a [limited partnership](http://www.investopedia.com/terms/l/limitedpartnership.asp) (LP)\n",
    "- Doesn't have a company reference entry indicating it's a LP\n",
    "- Is not an [ETF](http://www.investopedia.com/terms/e/etf.asp) (has Morningstar fundamental data)\n",
    "\n",
    "\n",
    "####Why These Criteria?\n",
    "Selecting for primary shares and common stock helps us to select only a single security for each company. In general, primary shares are a good representative asset of a company so we will select for these in our pipeline.\n",
    "\n",
    "ADRs and GDRs are issuances in the US equity market for stocks that trade on other exchanges. Frequently, there is inherent risk associated with depositary receipts due to currency fluctuations so we exclude them from our pipeline.\n",
    "\n",
    "OTC, WI, and LP securities are not tradeable with most brokers. As a result, we exclude them from our pipeline.\n",
    "\n",
    "###Creating Our Pipeline\n",
    "Let's create a filter for each criterion and combine them together to create a `tradeable_stocks` filter. First, we need to import the Morningstar `DataSet` as well as the `IsPrimaryShare` builtin filter."
   ]
  },
  {
   "cell_type": "code",
   "execution_count": 2,
   "metadata": {
    "collapsed": true
   },
   "outputs": [],
   "source": [
    "from quantopian.pipeline.data import morningstar\n",
    "from quantopian.pipeline.filters.morningstar import IsPrimaryShare"
   ]
  },
  {
   "cell_type": "markdown",
   "metadata": {},
   "source": [
    "Now we can define our filters:"
   ]
  },
  {
   "cell_type": "code",
   "execution_count": 3,
   "metadata": {
    "collapsed": false
   },
   "outputs": [],
   "source": [
    "# Filter for primary share equities. IsPrimaryShare is a built-in filter.\n",
    "primary_share = IsPrimaryShare()\n",
    "\n",
    "# Equities listed as common stock (as opposed to, say, preferred stock).\n",
    "# 'ST00000001' indicates common stock.\n",
    "common_stock = morningstar.share_class_reference.security_type.latest.eq('ST00000001')\n",
    "\n",
    "# Non-depositary receipts. Recall that the ~ operator inverts filters,\n",
    "# turning Trues into Falses and vice versa\n",
    "not_depositary = ~morningstar.share_class_reference.is_depositary_receipt.latest\n",
    "\n",
    "# Equities not trading over-the-counter.\n",
    "not_otc = ~morningstar.share_class_reference.exchange_id.latest.startswith('OTC')\n",
    "\n",
    "# Not when-issued equities.\n",
    "not_wi = ~morningstar.share_class_reference.symbol.latest.endswith('.WI')\n",
    "\n",
    "# Equities without LP in their name, .matches does a match using a regular\n",
    "# expression\n",
    "not_lp_name = ~morningstar.company_reference.standard_name.latest.matches('.* L[. ]?P.?$')\n",
    "\n",
    "# Equities with a null value in the limited_partnership Morningstar\n",
    "# fundamental field.\n",
    "not_lp_balance_sheet = morningstar.balance_sheet.limited_partnership.latest.isnull()\n",
    "\n",
    "# Equities whose most recent Morningstar market cap is not null have\n",
    "# fundamental data and therefore are not ETFs.\n",
    "have_market_cap = morningstar.valuation.market_cap.latest.notnull()\n",
    "\n",
    "# Filter for stocks that pass all of our previous filters.\n",
    "tradeable_stocks = (\n",
    "    primary_share\n",
    "    & common_stock\n",
    "    & not_depositary\n",
    "    & not_otc\n",
    "    & not_wi\n",
    "    & not_lp_name\n",
    "    & not_lp_balance_sheet\n",
    "    & have_market_cap\n",
    ")"
   ]
  },
  {
   "cell_type": "markdown",
   "metadata": {},
   "source": [
    "Note that when defining our filters, we used several `Classifier` methods that we haven't yet seen including `notnull`, `startswith`, `endswith`, and `matches`. Documentation on these methods is available [here](https://www.quantopian.com/help#quantopian_pipeline_classifiers_Classifier).\n",
    "\n",
    "Next, let's create a filter for the top 30% of tradeable stocks by 20-day average dollar volume. We'll call this our `base_universe`."
   ]
  },
  {
   "cell_type": "code",
   "execution_count": 4,
   "metadata": {
    "collapsed": true
   },
   "outputs": [],
   "source": [
    "base_universe = AverageDollarVolume(window_length=20, mask=tradeable_stocks).percentile_between(70, 100)"
   ]
  },
  {
   "cell_type": "markdown",
   "metadata": {},
   "source": [
    "####Built-in Base Universe\n",
    "\n",
    "We have just defined our own base universe to select 'tradeable' securities with high dollar volume. However, Quantopian has two built-in filters that do something similar. The [Q500US](https://www.quantopian.com/help#quantopian_pipeline_filters_Q500US) and the [Q1500US](https://www.quantopian.com/help#quantopian_pipeline_filters_Q1500US) are built-in pipeline filters that select a group of 500 or 1500 tradeable, liquid stocks each day. Constituents of these groups are chosen at the start of each calendar month by selecting the top 'tradeable' stocks by 200-day average dollar volume, capped at 30% of equities allocated to any single sector (more detail on the selection criteria of these filters can be found [here](https://www.quantopian.com/posts/the-q500us-and-q1500us)).\n",
    "\n",
    "To simplify our pipeline, let's replace what we've already written for our `base_universe` with the `Q1500US` built-in filter. First, we need to import it."
   ]
  },
  {
   "cell_type": "code",
   "execution_count": 5,
   "metadata": {
    "collapsed": true
   },
   "outputs": [],
   "source": [
    "from quantopian.pipeline.filters.morningstar import Q1500US"
   ]
  },
  {
   "cell_type": "markdown",
   "metadata": {},
   "source": [
    "Then, let's set our base_universe to the `Q1500US`."
   ]
  },
  {
   "cell_type": "code",
   "execution_count": 6,
   "metadata": {
    "collapsed": true
   },
   "outputs": [],
   "source": [
    "base_universe = Q1500US()"
   ]
  },
  {
   "cell_type": "markdown",
   "metadata": {},
   "source": [
    "Now that we have a filter `base_universe` that we can use to select a subset of securities, let's focus on creating factors for this subset. For this example, let's create a pipeline for a mean reversion strategy. In this strategy, we'll look at the 10-day and 30-day moving averages (close price). Let's plan to open equally weighted long positions in the 25 securities with the least (most negative) percent difference and equally weighted short positions in the 25 with the greatest percent difference. To do this, let's create two moving average factors using our `base_universe` filter as a mask. Then let's combine them into a factor computing the percent difference."
   ]
  },
  {
   "cell_type": "code",
   "execution_count": 7,
   "metadata": {
    "collapsed": false
   },
   "outputs": [],
   "source": [
    "# 10-day close price average.\n",
    "mean_10 = SimpleMovingAverage(inputs=[USEquityPricing.close], window_length=10, mask=base_universe)\n",
    "\n",
    "# 30-day close price average.\n",
    "mean_30 = SimpleMovingAverage(inputs=[USEquityPricing.close], window_length=30, mask=base_universe)\n",
    "\n",
    "percent_difference = (mean_10 - mean_30) / mean_30"
   ]
  },
  {
   "cell_type": "markdown",
   "metadata": {},
   "source": [
    "Next, let's create filters for the top 25 and bottom 25 equities by `percent_difference`."
   ]
  },
  {
   "cell_type": "code",
   "execution_count": 8,
   "metadata": {
    "collapsed": true
   },
   "outputs": [],
   "source": [
    "# Create a filter to select securities to short.\n",
    "shorts = percent_difference.top(25)\n",
    "\n",
    "# Create a filter to select securities to long.\n",
    "longs = percent_difference.bottom(25)"
   ]
  },
  {
   "cell_type": "markdown",
   "metadata": {},
   "source": [
    "Let's then combine `shorts` and `longs` to create a new filter that we can use as the screen of our pipeline:"
   ]
  },
  {
   "cell_type": "code",
   "execution_count": 9,
   "metadata": {
    "collapsed": true
   },
   "outputs": [],
   "source": [
    "securities_to_trade = (shorts | longs)"
   ]
  },
  {
   "cell_type": "markdown",
   "metadata": {},
   "source": [
    "Since our earlier filters were used as masks as we built up to this final filter, when we use `securities_to_trade` as a screen, the output securities will meet the criteria outlined at the beginning of the lesson (primary shares, non-ETFs, etc.). They will also have high dollar volume."
   ]
  },
  {
   "cell_type": "markdown",
   "metadata": {
    "collapsed": true
   },
   "source": [
    "Finally, let's instantiate our pipeline. Since we are planning on opening equally weighted long and short positions later, the only information that we actually need from our pipeline is which securities we want to trade (the pipeline index) and whether or not to open a long or a short position. Let's add our `longs` and `shorts` filters to our pipeline and set our screen to be `securities_to_trade`."
   ]
  },
  {
   "cell_type": "code",
   "execution_count": 10,
   "metadata": {
    "collapsed": true
   },
   "outputs": [],
   "source": [
    "def make_pipeline():\n",
    "    \n",
    "    # Base universe filter.\n",
    "    base_universe = Q1500US()\n",
    "    \n",
    "    # 10-day close price average.\n",
    "    mean_10 = SimpleMovingAverage(inputs=[USEquityPricing.close], window_length=10, mask=base_universe)\n",
    "\n",
    "    # 30-day close price average.\n",
    "    mean_30 = SimpleMovingAverage(inputs=[USEquityPricing.close], window_length=30, mask=base_universe)\n",
    "\n",
    "    # Percent difference factor.\n",
    "    percent_difference = (mean_10 - mean_30) / mean_30\n",
    "    \n",
    "    # Create a filter to select securities to short.\n",
    "    shorts = percent_difference.top(25)\n",
    "\n",
    "    # Create a filter to select securities to long.\n",
    "    longs = percent_difference.bottom(25)\n",
    "    \n",
    "    # Filter for the securities that we want to trade.\n",
    "    securities_to_trade = (shorts | longs)\n",
    "    \n",
    "    return Pipeline(\n",
    "        columns={\n",
    "            'longs': longs,\n",
    "            'shorts': shorts\n",
    "        },\n",
    "        screen=securities_to_trade\n",
    "    )"
   ]
  },
  {
   "cell_type": "markdown",
   "metadata": {},
   "source": [
    "Running this pipeline will result in a DataFrame with 50 rows and 2 columns each day. Each day, the columns will contain boolean values that we can use to decide whether we want to open a long or short position in each security."
   ]
  },
  {
   "cell_type": "code",
   "execution_count": 11,
   "metadata": {
    "collapsed": false
   },
   "outputs": [
    {
     "data": {
      "text/html": [
       "<div style=\"max-height:1000px;max-width:1500px;overflow:auto;\">\n",
       "<table border=\"1\" class=\"dataframe\">\n",
       "  <thead>\n",
       "    <tr style=\"text-align: right;\">\n",
       "      <th></th>\n",
       "      <th></th>\n",
       "      <th>longs</th>\n",
       "      <th>shorts</th>\n",
       "    </tr>\n",
       "  </thead>\n",
       "  <tbody>\n",
       "    <tr>\n",
       "      <th rowspan=\"50\" valign=\"top\">2015-05-05 00:00:00+00:00</th>\n",
       "      <th>Equity(351 [AMD])</th>\n",
       "      <td>True</td>\n",
       "      <td>False</td>\n",
       "    </tr>\n",
       "    <tr>\n",
       "      <th>Equity(523 [AAN])</th>\n",
       "      <td>False</td>\n",
       "      <td>True</td>\n",
       "    </tr>\n",
       "    <tr>\n",
       "      <th>Equity(1068 [BPT])</th>\n",
       "      <td>False</td>\n",
       "      <td>True</td>\n",
       "    </tr>\n",
       "    <tr>\n",
       "      <th>Equity(1663 [CRK])</th>\n",
       "      <td>False</td>\n",
       "      <td>True</td>\n",
       "    </tr>\n",
       "    <tr>\n",
       "      <th>Equity(4668 [MAT])</th>\n",
       "      <td>False</td>\n",
       "      <td>True</td>\n",
       "    </tr>\n",
       "    <tr>\n",
       "      <th>Equity(4752 [MDR])</th>\n",
       "      <td>False</td>\n",
       "      <td>True</td>\n",
       "    </tr>\n",
       "    <tr>\n",
       "      <th>Equity(5166 [MYL])</th>\n",
       "      <td>False</td>\n",
       "      <td>True</td>\n",
       "    </tr>\n",
       "    <tr>\n",
       "      <th>Equity(6825 [SFY])</th>\n",
       "      <td>False</td>\n",
       "      <td>True</td>\n",
       "    </tr>\n",
       "    <tr>\n",
       "      <th>Equity(6856 [ICON])</th>\n",
       "      <td>True</td>\n",
       "      <td>False</td>\n",
       "    </tr>\n",
       "    <tr>\n",
       "      <th>Equity(7064 [SPNC])</th>\n",
       "      <td>True</td>\n",
       "      <td>False</td>\n",
       "    </tr>\n",
       "    <tr>\n",
       "      <th>Equity(7233 [SVU])</th>\n",
       "      <td>True</td>\n",
       "      <td>False</td>\n",
       "    </tr>\n",
       "    <tr>\n",
       "      <th>Equity(7583 [TRN])</th>\n",
       "      <td>True</td>\n",
       "      <td>False</td>\n",
       "    </tr>\n",
       "    <tr>\n",
       "      <th>Equity(8863 [RCL])</th>\n",
       "      <td>True</td>\n",
       "      <td>False</td>\n",
       "    </tr>\n",
       "    <tr>\n",
       "      <th>Equity(8869 [SANM])</th>\n",
       "      <td>True</td>\n",
       "      <td>False</td>\n",
       "    </tr>\n",
       "    <tr>\n",
       "      <th>Equity(10073 [AEC])</th>\n",
       "      <td>False</td>\n",
       "      <td>True</td>\n",
       "    </tr>\n",
       "    <tr>\n",
       "      <th>Equity(11718 [ADTN])</th>\n",
       "      <td>True</td>\n",
       "      <td>False</td>\n",
       "    </tr>\n",
       "    <tr>\n",
       "      <th>Equity(12107 [SSYS])</th>\n",
       "      <td>True</td>\n",
       "      <td>False</td>\n",
       "    </tr>\n",
       "    <tr>\n",
       "      <th>Equity(20284 [SKX])</th>\n",
       "      <td>False</td>\n",
       "      <td>True</td>\n",
       "    </tr>\n",
       "    <tr>\n",
       "      <th>Equity(21448 [SINA])</th>\n",
       "      <td>False</td>\n",
       "      <td>True</td>\n",
       "    </tr>\n",
       "    <tr>\n",
       "      <th>Equity(21813 [SOHU])</th>\n",
       "      <td>False</td>\n",
       "      <td>True</td>\n",
       "    </tr>\n",
       "    <tr>\n",
       "      <th>Equity(22284 [UTIW])</th>\n",
       "      <td>True</td>\n",
       "      <td>False</td>\n",
       "    </tr>\n",
       "    <tr>\n",
       "      <th>Equity(22660 [BTU])</th>\n",
       "      <td>True</td>\n",
       "      <td>False</td>\n",
       "    </tr>\n",
       "    <tr>\n",
       "      <th>Equity(22846 [TASR])</th>\n",
       "      <td>False</td>\n",
       "      <td>True</td>\n",
       "    </tr>\n",
       "    <tr>\n",
       "      <th>Equity(23709 [NFLX])</th>\n",
       "      <td>False</td>\n",
       "      <td>True</td>\n",
       "    </tr>\n",
       "    <tr>\n",
       "      <th>Equity(23846 [BDSI])</th>\n",
       "      <td>True</td>\n",
       "      <td>False</td>\n",
       "    </tr>\n",
       "    <tr>\n",
       "      <th>Equity(25134 [ARRS])</th>\n",
       "      <td>False</td>\n",
       "      <td>True</td>\n",
       "    </tr>\n",
       "    <tr>\n",
       "      <th>Equity(26960 [CE])</th>\n",
       "      <td>False</td>\n",
       "      <td>True</td>\n",
       "    </tr>\n",
       "    <tr>\n",
       "      <th>Equity(27035 [ANR])</th>\n",
       "      <td>True</td>\n",
       "      <td>False</td>\n",
       "    </tr>\n",
       "    <tr>\n",
       "      <th>Equity(27496 [FTK])</th>\n",
       "      <td>True</td>\n",
       "      <td>False</td>\n",
       "    </tr>\n",
       "    <tr>\n",
       "      <th>Equity(27886 [BAS])</th>\n",
       "      <td>False</td>\n",
       "      <td>True</td>\n",
       "    </tr>\n",
       "    <tr>\n",
       "      <th>Equity(27993 [LINE])</th>\n",
       "      <td>False</td>\n",
       "      <td>True</td>\n",
       "    </tr>\n",
       "    <tr>\n",
       "      <th>Equity(31032 [HK])</th>\n",
       "      <td>True</td>\n",
       "      <td>False</td>\n",
       "    </tr>\n",
       "    <tr>\n",
       "      <th>Equity(32541 [MHR])</th>\n",
       "      <td>True</td>\n",
       "      <td>False</td>\n",
       "    </tr>\n",
       "    <tr>\n",
       "      <th>Equity(33566 [GLUU])</th>\n",
       "      <td>False</td>\n",
       "      <td>True</td>\n",
       "    </tr>\n",
       "    <tr>\n",
       "      <th>Equity(33609 [SMCI])</th>\n",
       "      <td>True</td>\n",
       "      <td>False</td>\n",
       "    </tr>\n",
       "    <tr>\n",
       "      <th>Equity(38150 [HTWR])</th>\n",
       "      <td>True</td>\n",
       "      <td>False</td>\n",
       "    </tr>\n",
       "    <tr>\n",
       "      <th>Equity(38633 [ASPS])</th>\n",
       "      <td>False</td>\n",
       "      <td>True</td>\n",
       "    </tr>\n",
       "    <tr>\n",
       "      <th>Equity(40815 [PCRX])</th>\n",
       "      <td>True</td>\n",
       "      <td>False</td>\n",
       "    </tr>\n",
       "    <tr>\n",
       "      <th>Equity(41484 [YNDX])</th>\n",
       "      <td>False</td>\n",
       "      <td>True</td>\n",
       "    </tr>\n",
       "    <tr>\n",
       "      <th>Equity(42461 [CZR])</th>\n",
       "      <td>True</td>\n",
       "      <td>False</td>\n",
       "    </tr>\n",
       "    <tr>\n",
       "      <th>Equity(42856 [FRGI])</th>\n",
       "      <td>True</td>\n",
       "      <td>False</td>\n",
       "    </tr>\n",
       "    <tr>\n",
       "      <th>Equity(43472 [RGLS])</th>\n",
       "      <td>True</td>\n",
       "      <td>False</td>\n",
       "    </tr>\n",
       "    <tr>\n",
       "      <th>Equity(43478 [OVAS])</th>\n",
       "      <td>True</td>\n",
       "      <td>False</td>\n",
       "    </tr>\n",
       "    <tr>\n",
       "      <th>Equity(43513 [LNCO])</th>\n",
       "      <td>False</td>\n",
       "      <td>True</td>\n",
       "    </tr>\n",
       "    <tr>\n",
       "      <th>Equity(44863 [RCAP])</th>\n",
       "      <td>True</td>\n",
       "      <td>False</td>\n",
       "    </tr>\n",
       "    <tr>\n",
       "      <th>Equity(46191 [EPE])</th>\n",
       "      <td>False</td>\n",
       "      <td>True</td>\n",
       "    </tr>\n",
       "    <tr>\n",
       "      <th>Equity(46939 [CVEO])</th>\n",
       "      <td>False</td>\n",
       "      <td>True</td>\n",
       "    </tr>\n",
       "    <tr>\n",
       "      <th>Equity(47779 [CYBR])</th>\n",
       "      <td>False</td>\n",
       "      <td>True</td>\n",
       "    </tr>\n",
       "    <tr>\n",
       "      <th>Equity(48317 [JUNO])</th>\n",
       "      <td>True</td>\n",
       "      <td>False</td>\n",
       "    </tr>\n",
       "    <tr>\n",
       "      <th>Equity(48543 [SHAK])</th>\n",
       "      <td>False</td>\n",
       "      <td>True</td>\n",
       "    </tr>\n",
       "  </tbody>\n",
       "</table>\n",
       "</div>"
      ],
      "text/plain": [
       "                                                longs shorts\n",
       "2015-05-05 00:00:00+00:00 Equity(351 [AMD])      True  False\n",
       "                          Equity(523 [AAN])     False   True\n",
       "                          Equity(1068 [BPT])    False   True\n",
       "                          Equity(1663 [CRK])    False   True\n",
       "                          Equity(4668 [MAT])    False   True\n",
       "                          Equity(4752 [MDR])    False   True\n",
       "                          Equity(5166 [MYL])    False   True\n",
       "                          Equity(6825 [SFY])    False   True\n",
       "                          Equity(6856 [ICON])    True  False\n",
       "                          Equity(7064 [SPNC])    True  False\n",
       "                          Equity(7233 [SVU])     True  False\n",
       "                          Equity(7583 [TRN])     True  False\n",
       "                          Equity(8863 [RCL])     True  False\n",
       "                          Equity(8869 [SANM])    True  False\n",
       "                          Equity(10073 [AEC])   False   True\n",
       "                          Equity(11718 [ADTN])   True  False\n",
       "                          Equity(12107 [SSYS])   True  False\n",
       "                          Equity(20284 [SKX])   False   True\n",
       "                          Equity(21448 [SINA])  False   True\n",
       "                          Equity(21813 [SOHU])  False   True\n",
       "                          Equity(22284 [UTIW])   True  False\n",
       "                          Equity(22660 [BTU])    True  False\n",
       "                          Equity(22846 [TASR])  False   True\n",
       "                          Equity(23709 [NFLX])  False   True\n",
       "                          Equity(23846 [BDSI])   True  False\n",
       "                          Equity(25134 [ARRS])  False   True\n",
       "                          Equity(26960 [CE])    False   True\n",
       "                          Equity(27035 [ANR])    True  False\n",
       "                          Equity(27496 [FTK])    True  False\n",
       "                          Equity(27886 [BAS])   False   True\n",
       "                          Equity(27993 [LINE])  False   True\n",
       "                          Equity(31032 [HK])     True  False\n",
       "                          Equity(32541 [MHR])    True  False\n",
       "                          Equity(33566 [GLUU])  False   True\n",
       "                          Equity(33609 [SMCI])   True  False\n",
       "                          Equity(38150 [HTWR])   True  False\n",
       "                          Equity(38633 [ASPS])  False   True\n",
       "                          Equity(40815 [PCRX])   True  False\n",
       "                          Equity(41484 [YNDX])  False   True\n",
       "                          Equity(42461 [CZR])    True  False\n",
       "                          Equity(42856 [FRGI])   True  False\n",
       "                          Equity(43472 [RGLS])   True  False\n",
       "                          Equity(43478 [OVAS])   True  False\n",
       "                          Equity(43513 [LNCO])  False   True\n",
       "                          Equity(44863 [RCAP])   True  False\n",
       "                          Equity(46191 [EPE])   False   True\n",
       "                          Equity(46939 [CVEO])  False   True\n",
       "                          Equity(47779 [CYBR])  False   True\n",
       "                          Equity(48317 [JUNO])   True  False\n",
       "                          Equity(48543 [SHAK])  False   True"
      ]
     },
     "execution_count": 11,
     "metadata": {},
     "output_type": "execute_result"
    }
   ],
   "source": [
    "result = run_pipeline(make_pipeline(), '2015-05-05', '2015-05-05')\n",
    "result"
   ]
  },
  {
   "cell_type": "markdown",
   "metadata": {},
   "source": [
    "In the next lesson, we'll add this pipeline to an algorithm."
   ]
  }
 ],
 "metadata": {
  "kernelspec": {
   "display_name": "Python 2",
   "language": "python",
   "name": "python2"
  },
  "language_info": {
   "codemirror_mode": {
    "name": "ipython",
    "version": 2
   },
   "file_extension": ".py",
   "mimetype": "text/x-python",
   "name": "python",
   "nbconvert_exporter": "python",
   "pygments_lexer": "ipython2",
   "version": "2.7.12"
  }
 },
 "nbformat": 4,
 "nbformat_minor": 0
}