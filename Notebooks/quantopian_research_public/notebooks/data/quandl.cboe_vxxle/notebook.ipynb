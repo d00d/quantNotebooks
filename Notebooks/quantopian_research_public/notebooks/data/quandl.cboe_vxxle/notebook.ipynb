{
 "cells": [
  {
   "cell_type": "markdown",
   "metadata": {
    "collapsed": true
   },
   "source": [
    "# CBOE VXXLE  Index\n",
    "\n",
    "In this notebook, we'll take a look at the CBOE VXXLE Index dataset, available on the [Quantopian Store](https://www.quantopian.com/store). This dataset spans 16 Mar 2011 through the current day. This data has a daily frequency. VXXLE is the CBOE Energy Sector ETF Volatility Index, reflecting the implied volatility of the XLE ETF\n",
    "\n",
    "## Notebook Contents\n",
    "\n",
    "There are two ways to access the data and you'll find both of them listed below. Just click on the section you'd like to read through.\n",
    "\n",
    "- <a href='#interactive'><strong>Interactive overview</strong></a>: This is only available on Research and uses blaze to give you access to large amounts of data. Recommended for exploration and plotting.\n",
    "- <a href='#pipeline'><strong>Pipeline overview</strong></a>: Data is made available through pipeline which is available on both the Research & Backtesting environment. Recommended for custom factor development and moving back & forth between research/backtesting.\n",
    "\n",
    "\n",
    "### Limits\n",
    "One key caveat: we limit the number of results returned from any given expression to 10,000 to protect against runaway memory usage. To be clear, you have access to all the data server side. We are limiting the size of the responses back from Blaze.\n",
    "\n",
    "With preamble in place, let's get started:\n",
    "\n",
    "<a id='interactive'></a>\n",
    "#Interactive Overview\n",
    "### Accessing the data with Blaze and Interactive on Research\n",
    "Partner datasets are available on Quantopian Research through an API service known as [Blaze](http://blaze.pydata.org). Blaze provides the Quantopian user with a convenient interface to access very large datasets, in an interactive, generic manner.\n",
    "\n",
    "Blaze provides an important function for accessing these datasets. Some of these sets are many millions of records. Bringing that data directly into Quantopian Research directly just is not viable. So Blaze allows us to provide a simple querying interface and shift the burden over to the server side.\n",
    "\n",
    "It is common to use Blaze to reduce your dataset in size, convert it over to Pandas and then to use Pandas for further computation, manipulation and visualization.\n",
    "\n",
    "Helpful links:\n",
    "* [Query building for Blaze](http://blaze.readthedocs.io/en/latest/queries.html)\n",
    "* [Pandas-to-Blaze dictionary](http://blaze.readthedocs.io/en/latest/rosetta-pandas.html)\n",
    "* [SQL-to-Blaze dictionary](http://blaze.readthedocs.io/en/latest/rosetta-sql.html).\n",
    "\n",
    "\n",
    "Once you've limited the size of your Blaze object, you can convert it to a Pandas DataFrames using:\n",
    "> `from odo import odo`  \n",
    "> `odo(expr, pandas.DataFrame)`\n",
    "\n",
    "\n",
    "###To see how this data can be used in your algorithm, search for the `Pipeline Overview` section of this notebook or head straight to <a href='#pipeline'>Pipeline Overview</a>"
   ]
  },
  {
   "cell_type": "code",
   "execution_count": 2,
   "metadata": {
    "collapsed": false
   },
   "outputs": [],
   "source": [
    "# For use in Quantopian Research, exploring interactively\n",
    "from quantopian.interactive.data.quandl import cboe_vxxle as dataset\n",
    "\n",
    "# import data operations\n",
    "from odo import odo\n",
    "# import other libraries we will use\n",
    "import pandas as pd"
   ]
  },
  {
   "cell_type": "code",
   "execution_count": 3,
   "metadata": {
    "collapsed": false
   },
   "outputs": [
    {
     "data": {
      "text/plain": [
       "dshape(\"\"\"var * {\n",
       "  open_: float64,\n",
       "  high: float64,\n",
       "  low: float64,\n",
       "  close: float64,\n",
       "  asof_date: datetime,\n",
       "  timestamp: datetime\n",
       "  }\"\"\")"
      ]
     },
     "execution_count": 3,
     "metadata": {},
     "output_type": "execute_result"
    }
   ],
   "source": [
    "# Let's use blaze to understand the data a bit using Blaze dshape()\n",
    "dataset.dshape"
   ]
  },
  {
   "cell_type": "code",
   "execution_count": 4,
   "metadata": {
    "collapsed": false
   },
   "outputs": [
    {
     "data": {
      "text/html": [
       "1307"
      ],
      "text/plain": [
       "1307"
      ]
     },
     "execution_count": 4,
     "metadata": {},
     "output_type": "execute_result"
    }
   ],
   "source": [
    "# And how many rows are there?\n",
    "# N.B. we're using a Blaze function to do this, not len()\n",
    "dataset.count()"
   ]
  },
  {
   "cell_type": "code",
   "execution_count": 5,
   "metadata": {
    "collapsed": false
   },
   "outputs": [
    {
     "data": {
      "text/html": [
       "<table border=\"1\" class=\"dataframe\">\n",
       "  <thead>\n",
       "    <tr style=\"text-align: right;\">\n",
       "      <th></th>\n",
       "      <th>open_</th>\n",
       "      <th>high</th>\n",
       "      <th>low</th>\n",
       "      <th>close</th>\n",
       "      <th>asof_date</th>\n",
       "      <th>timestamp</th>\n",
       "    </tr>\n",
       "  </thead>\n",
       "  <tbody>\n",
       "    <tr>\n",
       "      <th>0</th>\n",
       "      <td>34.43</td>\n",
       "      <td>35.66</td>\n",
       "      <td>34.05</td>\n",
       "      <td>35.14</td>\n",
       "      <td>2016-02-23</td>\n",
       "      <td>2016-02-24 12:03:41.481355</td>\n",
       "    </tr>\n",
       "    <tr>\n",
       "      <th>1</th>\n",
       "      <td>37.26</td>\n",
       "      <td>37.69</td>\n",
       "      <td>35.63</td>\n",
       "      <td>35.64</td>\n",
       "      <td>2016-02-24</td>\n",
       "      <td>2016-02-25 12:02:01.622172</td>\n",
       "    </tr>\n",
       "    <tr>\n",
       "      <th>2</th>\n",
       "      <td>35.30</td>\n",
       "      <td>36.46</td>\n",
       "      <td>35.10</td>\n",
       "      <td>35.15</td>\n",
       "      <td>2016-02-25</td>\n",
       "      <td>2016-02-26 12:03:31.237381</td>\n",
       "    </tr>\n",
       "  </tbody>\n",
       "</table>"
      ],
      "text/plain": [
       "   open_   high    low  close  asof_date                  timestamp\n",
       "0  34.43  35.66  34.05  35.14 2016-02-23 2016-02-24 12:03:41.481355\n",
       "1  37.26  37.69  35.63  35.64 2016-02-24 2016-02-25 12:02:01.622172\n",
       "2  35.30  36.46  35.10  35.15 2016-02-25 2016-02-26 12:03:31.237381"
      ]
     },
     "execution_count": 5,
     "metadata": {},
     "output_type": "execute_result"
    }
   ],
   "source": [
    "# Let's see what the data looks like. We'll grab the first three rows.\n",
    "dataset[:3]"
   ]
  },
  {
   "cell_type": "markdown",
   "metadata": {},
   "source": [
    "Let's go over the columns:\n",
    "- **open**: open price for vxxle\n",
    "- **high**: daily high for vxxle\n",
    "- **low**: daily low for vxxle\n",
    "- **close**: close price for vxxle\n",
    "- **asof_date**: the timeframe to which this data applies\n",
    "- **timestamp**: this is our timestamp on when we registered the data.\n",
    "\n",
    "We've done much of the data processing for you. Fields like `timestamp` are standardized across all our Store Datasets, so the datasets are easy to combine.\n",
    "\n",
    "We can select columns and rows with ease. Below, we'll do a simple plot."
   ]
  },
  {
   "cell_type": "code",
   "execution_count": 6,
   "metadata": {
    "collapsed": false
   },
   "outputs": [
    {
     "data": {
      "text/html": [
       "<div style=\"max-height:1000px;max-width:1500px;overflow:auto;\">\n",
       "<table border=\"1\" class=\"dataframe\">\n",
       "  <thead>\n",
       "    <tr style=\"text-align: right;\">\n",
       "      <th></th>\n",
       "      <th>open_</th>\n",
       "      <th>high</th>\n",
       "      <th>low</th>\n",
       "      <th>close</th>\n",
       "      <th>asof_date</th>\n",
       "      <th>timestamp</th>\n",
       "    </tr>\n",
       "  </thead>\n",
       "  <tbody>\n",
       "    <tr>\n",
       "      <th>0</th>\n",
       "      <td>34.43</td>\n",
       "      <td>35.66</td>\n",
       "      <td>34.05</td>\n",
       "      <td>35.14</td>\n",
       "      <td>2016-02-23</td>\n",
       "      <td>2016-02-24 12:03:41.481355</td>\n",
       "    </tr>\n",
       "    <tr>\n",
       "      <th>1</th>\n",
       "      <td>37.26</td>\n",
       "      <td>37.69</td>\n",
       "      <td>35.63</td>\n",
       "      <td>35.64</td>\n",
       "      <td>2016-02-24</td>\n",
       "      <td>2016-02-25 12:02:01.622172</td>\n",
       "    </tr>\n",
       "    <tr>\n",
       "      <th>2</th>\n",
       "      <td>35.30</td>\n",
       "      <td>36.46</td>\n",
       "      <td>35.10</td>\n",
       "      <td>35.15</td>\n",
       "      <td>2016-02-25</td>\n",
       "      <td>2016-02-26 12:03:31.237381</td>\n",
       "    </tr>\n",
       "    <tr>\n",
       "      <th>3</th>\n",
       "      <td>33.62</td>\n",
       "      <td>34.09</td>\n",
       "      <td>33.49</td>\n",
       "      <td>33.78</td>\n",
       "      <td>2016-02-26</td>\n",
       "      <td>2016-02-29 12:02:15.245695</td>\n",
       "    </tr>\n",
       "    <tr>\n",
       "      <th>4</th>\n",
       "      <td>34.85</td>\n",
       "      <td>34.91</td>\n",
       "      <td>34.10</td>\n",
       "      <td>34.30</td>\n",
       "      <td>2016-02-29</td>\n",
       "      <td>2016-03-01 12:02:40.003945</td>\n",
       "    </tr>\n",
       "  </tbody>\n",
       "</table>\n",
       "</div>"
      ],
      "text/plain": [
       "   open_   high    low  close  asof_date                  timestamp\n",
       "0  34.43  35.66  34.05  35.14 2016-02-23 2016-02-24 12:03:41.481355\n",
       "1  37.26  37.69  35.63  35.64 2016-02-24 2016-02-25 12:02:01.622172\n",
       "2  35.30  36.46  35.10  35.15 2016-02-25 2016-02-26 12:03:31.237381\n",
       "3  33.62  34.09  33.49  33.78 2016-02-26 2016-02-29 12:02:15.245695\n",
       "4  34.85  34.91  34.10  34.30 2016-02-29 2016-03-01 12:02:40.003945"
      ]
     },
     "execution_count": 6,
     "metadata": {},
     "output_type": "execute_result"
    }
   ],
   "source": [
    "# Plotting this DataFrame\n",
    "df = odo(dataset, pd.DataFrame)\n",
    "df.head(5)"
   ]
  },
  {
   "cell_type": "code",
   "execution_count": 7,
   "metadata": {
    "collapsed": false
   },
   "outputs": [
    {
     "data": {
      "text/html": [
       "<div style=\"max-height:1000px;max-width:1500px;overflow:auto;\">\n",
       "<table border=\"1\" class=\"dataframe\">\n",
       "  <thead>\n",
       "    <tr style=\"text-align: right;\">\n",
       "      <th></th>\n",
       "      <th>open_</th>\n",
       "      <th>high</th>\n",
       "      <th>low</th>\n",
       "      <th>close</th>\n",
       "      <th>timestamp</th>\n",
       "    </tr>\n",
       "    <tr>\n",
       "      <th>asof_date</th>\n",
       "      <th></th>\n",
       "      <th></th>\n",
       "      <th></th>\n",
       "      <th></th>\n",
       "      <th></th>\n",
       "    </tr>\n",
       "  </thead>\n",
       "  <tbody>\n",
       "    <tr>\n",
       "      <th>2016-02-23</th>\n",
       "      <td>34.43</td>\n",
       "      <td>35.66</td>\n",
       "      <td>34.05</td>\n",
       "      <td>35.14</td>\n",
       "      <td>2016-02-24 12:03:41.481355</td>\n",
       "    </tr>\n",
       "    <tr>\n",
       "      <th>2016-02-24</th>\n",
       "      <td>37.26</td>\n",
       "      <td>37.69</td>\n",
       "      <td>35.63</td>\n",
       "      <td>35.64</td>\n",
       "      <td>2016-02-25 12:02:01.622172</td>\n",
       "    </tr>\n",
       "    <tr>\n",
       "      <th>2016-02-25</th>\n",
       "      <td>35.30</td>\n",
       "      <td>36.46</td>\n",
       "      <td>35.10</td>\n",
       "      <td>35.15</td>\n",
       "      <td>2016-02-26 12:03:31.237381</td>\n",
       "    </tr>\n",
       "    <tr>\n",
       "      <th>2016-02-26</th>\n",
       "      <td>33.62</td>\n",
       "      <td>34.09</td>\n",
       "      <td>33.49</td>\n",
       "      <td>33.78</td>\n",
       "      <td>2016-02-29 12:02:15.245695</td>\n",
       "    </tr>\n",
       "    <tr>\n",
       "      <th>2016-02-29</th>\n",
       "      <td>34.85</td>\n",
       "      <td>34.91</td>\n",
       "      <td>34.10</td>\n",
       "      <td>34.30</td>\n",
       "      <td>2016-03-01 12:02:40.003945</td>\n",
       "    </tr>\n",
       "  </tbody>\n",
       "</table>\n",
       "</div>"
      ],
      "text/plain": [
       "            open_   high    low  close                  timestamp\n",
       "asof_date                                                        \n",
       "2016-02-23  34.43  35.66  34.05  35.14 2016-02-24 12:03:41.481355\n",
       "2016-02-24  37.26  37.69  35.63  35.64 2016-02-25 12:02:01.622172\n",
       "2016-02-25  35.30  36.46  35.10  35.15 2016-02-26 12:03:31.237381\n",
       "2016-02-26  33.62  34.09  33.49  33.78 2016-02-29 12:02:15.245695\n",
       "2016-02-29  34.85  34.91  34.10  34.30 2016-03-01 12:02:40.003945"
      ]
     },
     "execution_count": 7,
     "metadata": {},
     "output_type": "execute_result"
    }
   ],
   "source": [
    "# So we can plot it, we'll set the index as the `asof_date`\n",
    "df['asof_date'] = pd.to_datetime(df['asof_date'])\n",
    "df = df.set_index(['asof_date'])\n",
    "df.head(5)"
   ]
  },
  {
   "cell_type": "code",
   "execution_count": 8,
   "metadata": {
    "collapsed": false
   },
   "outputs": [
    {
     "data": {
      "text/plain": [
       "<matplotlib.text.Text at 0x7f143b640a10>"
      ]
     },
     "execution_count": 8,
     "metadata": {},
     "output_type": "execute_result"
    },
    {
     "data": {
      "image/png": "[encoded data removed]",
      "text/plain": [
       "<matplotlib.figure.Figure at 0x7f143b68e590>"
      ]
     },
     "metadata": {},
     "output_type": "display_data"
    }
   ],
   "source": [
    "import matplotlib.pyplot as plt\n",
    "df['open_'].plot(label=str(dataset))\n",
    "plt.ylabel(str(dataset))\n",
    "plt.legend()\n",
    "plt.title(\"Graphing %s since %s\" % (str(dataset), min(df.index)))"
   ]
  },
  {
   "cell_type": "markdown",
   "metadata": {},
   "source": [
    "<a id='pipeline'></a>\n",
    "\n",
    "#Pipeline Overview\n",
    "\n",
    "### Accessing the data in your algorithms & research\n",
    "The only method for accessing partner data within algorithms running on Quantopian is via the pipeline API. Different data sets work differently but in the case of this data, you can add this data to your pipeline as follows:\n",
    "\n",
    "Import the data set here\n",
    "> `from quantopian.pipeline.data.quandl import cboe_vxxle`\n",
    "\n",
    "Then in intialize() you could do something simple like adding the raw value of one of the fields to your pipeline:\n",
    "> `pipe.add(cboe_vxxle.open_.latest, 'open')`\n",
    "\n",
    "Pipeline usage is very similar between the backtester and Research so let's go over how to import this data through pipeline and view its outputs."
   ]
  },
  {
   "cell_type": "code",
   "execution_count": 9,
   "metadata": {
    "collapsed": true
   },
   "outputs": [],
   "source": [
    "# Import necessary Pipeline modules\n",
    "from quantopian.pipeline import Pipeline\n",
    "from quantopian.research import run_pipeline\n",
    "from quantopian.pipeline.factors import AverageDollarVolume"
   ]
  },
  {
   "cell_type": "code",
   "execution_count": 10,
   "metadata": {
    "collapsed": false
   },
   "outputs": [],
   "source": [
    "# Import the datasets available\n",
    "from quantopian.pipeline.data.quandl import cboe_vxxle"
   ]
  },
  {
   "cell_type": "markdown",
   "metadata": {},
   "source": [
    "Now that we've imported the data, let's take a look at which fields are available for each dataset.\n",
    "\n",
    "You'll find the dataset, the available fields, and the datatypes for each of those fields."
   ]
  },
  {
   "cell_type": "code",
   "execution_count": 11,
   "metadata": {
    "collapsed": false
   },
   "outputs": [
    {
     "name": "stdout",
     "output_type": "stream",
     "text": [
      "Here are the list of available fields per dataset:\n",
      "---------------------------------------------------\n",
      "\n",
      "Dataset: cboe_vxxle\n",
      "\n",
      "Fields:\n",
      "high - float64\n",
      "low - float64\n",
      "close - float64\n",
      "open_ - float64\n",
      "\n",
      "\n",
      "---------------------------------------------------\n",
      "\n"
     ]
    }
   ],
   "source": [
    "print \"Here are the list of available fields per dataset:\"\n",
    "print \"---------------------------------------------------\\n\"\n",
    "\n",
    "def _print_fields(dataset):\n",
    "    print \"Dataset: %s\\n\" % dataset.__name__\n",
    "    print \"Fields:\"\n",
    "    for field in list(dataset.columns):\n",
    "        print \"%s - %s\" % (field.name, field.dtype)\n",
    "    print \"\\n\"\n",
    "\n",
    "_print_fields(cboe_vxxle)\n",
    "\n",
    "\n",
    "print \"---------------------------------------------------\\n\""
   ]
  },
  {
   "cell_type": "markdown",
   "metadata": {},
   "source": [
    "Now that we know what fields we have access to, let's see what this data looks like when we run it through Pipeline.\n",
    "\n",
    "\n",
    "This is constructed the same way as you would in the backtester. For more information on using Pipeline in Research view this thread:\n",
    "https://www.quantopian.com/posts/pipeline-in-research-build-test-and-visualize-your-factors-and-filters"
   ]
  },
  {
   "cell_type": "code",
   "execution_count": 12,
   "metadata": {
    "collapsed": false
   },
   "outputs": [],
   "source": [
    "pipe = Pipeline()\n",
    "       \n",
    "pipe.add(cboe_vxxle.open_.latest, 'open_vxxle')"
   ]
  },
  {
   "cell_type": "code",
   "execution_count": 15,
   "metadata": {
    "collapsed": false
   },
   "outputs": [],
   "source": [
    "# Setting some basic liquidity strings (just for good habit)\n",
    "dollar_volume = AverageDollarVolume(window_length=20)\n",
    "top_1000_most_liquid = dollar_volume.rank(ascending=False) < 1000\n",
    "\n",
    "pipe.set_screen(top_1000_most_liquid & cboe_vxxle.open_.latest.notnan())"
   ]
  },
  {
   "cell_type": "code",
   "execution_count": 16,
   "metadata": {
    "collapsed": false
   },
   "outputs": [
    {
     "data": {
      "image/png": "[encoded data removed]",
      "text/plain": [
       "<IPython.core.display.Image object>"
      ]
     },
     "execution_count": 16,
     "metadata": {},
     "output_type": "execute_result"
    }
   ],
   "source": [
    "# The show_graph() method of pipeline objects produces a graph to show how it is being calculated.\n",
    "pipe.show_graph(format='png')"
   ]
  },
  {
   "cell_type": "code",
   "execution_count": 17,
   "metadata": {
    "collapsed": false
   },
   "outputs": [
    {
     "data": {
      "text/html": [
       "<div style=\"max-height:1000px;max-width:1500px;overflow:auto;\">\n",
       "<table border=\"1\" class=\"dataframe\">\n",
       "  <thead>\n",
       "    <tr style=\"text-align: right;\">\n",
       "      <th></th>\n",
       "      <th></th>\n",
       "      <th>open_vxxle</th>\n",
       "    </tr>\n",
       "  </thead>\n",
       "  <tbody>\n",
       "    <tr>\n",
       "      <th rowspan=\"30\" valign=\"top\">2013-11-01 00:00:00+00:00</th>\n",
       "      <th>Equity(21 [AAME])</th>\n",
       "      <td>16.42</td>\n",
       "    </tr>\n",
       "    <tr>\n",
       "      <th>Equity(25 [AA_PR])</th>\n",
       "      <td>16.42</td>\n",
       "    </tr>\n",
       "    <tr>\n",
       "      <th>Equity(117 [AEY])</th>\n",
       "      <td>16.42</td>\n",
       "    </tr>\n",
       "    <tr>\n",
       "      <th>Equity(225 [AHPI])</th>\n",
       "      <td>16.42</td>\n",
       "    </tr>\n",
       "    <tr>\n",
       "      <th>Equity(312 [ALOT])</th>\n",
       "      <td>16.42</td>\n",
       "    </tr>\n",
       "    <tr>\n",
       "      <th>Equity(392 [AMS])</th>\n",
       "      <td>16.42</td>\n",
       "    </tr>\n",
       "    <tr>\n",
       "      <th>Equity(468 [API])</th>\n",
       "      <td>16.42</td>\n",
       "    </tr>\n",
       "    <tr>\n",
       "      <th>Equity(548 [ASBI])</th>\n",
       "      <td>16.42</td>\n",
       "    </tr>\n",
       "    <tr>\n",
       "      <th>Equity(717 [BAMM])</th>\n",
       "      <td>16.42</td>\n",
       "    </tr>\n",
       "    <tr>\n",
       "      <th>Equity(790 [BDL])</th>\n",
       "      <td>16.42</td>\n",
       "    </tr>\n",
       "    <tr>\n",
       "      <th>Equity(880 [BIO_B])</th>\n",
       "      <td>16.42</td>\n",
       "    </tr>\n",
       "    <tr>\n",
       "      <th>Equity(925 [BKSC])</th>\n",
       "      <td>16.42</td>\n",
       "    </tr>\n",
       "    <tr>\n",
       "      <th>Equity(1088 [BRID])</th>\n",
       "      <td>16.42</td>\n",
       "    </tr>\n",
       "    <tr>\n",
       "      <th>Equity(1095 [BRN])</th>\n",
       "      <td>16.42</td>\n",
       "    </tr>\n",
       "    <tr>\n",
       "      <th>Equity(1157 [BTUI])</th>\n",
       "      <td>16.42</td>\n",
       "    </tr>\n",
       "    <tr>\n",
       "      <th>Equity(1190 [BWIN_A])</th>\n",
       "      <td>16.42</td>\n",
       "    </tr>\n",
       "    <tr>\n",
       "      <th>Equity(1193 [BWL_A])</th>\n",
       "      <td>16.42</td>\n",
       "    </tr>\n",
       "    <tr>\n",
       "      <th>Equity(1323 [CAW])</th>\n",
       "      <td>16.42</td>\n",
       "    </tr>\n",
       "    <tr>\n",
       "      <th>Equity(1653 [MOC])</th>\n",
       "      <td>16.42</td>\n",
       "    </tr>\n",
       "    <tr>\n",
       "      <th>Equity(1668 [CMS_PRB])</th>\n",
       "      <td>16.42</td>\n",
       "    </tr>\n",
       "    <tr>\n",
       "      <th>Equity(1988 [CUO])</th>\n",
       "      <td>16.42</td>\n",
       "    </tr>\n",
       "    <tr>\n",
       "      <th>Equity(2078 [DAIO])</th>\n",
       "      <td>16.42</td>\n",
       "    </tr>\n",
       "    <tr>\n",
       "      <th>Equity(2103 [ESCR])</th>\n",
       "      <td>16.42</td>\n",
       "    </tr>\n",
       "    <tr>\n",
       "      <th>Equity(2124 [DD_PRA])</th>\n",
       "      <td>16.42</td>\n",
       "    </tr>\n",
       "    <tr>\n",
       "      <th>Equity(2209 [DGSE])</th>\n",
       "      <td>16.42</td>\n",
       "    </tr>\n",
       "    <tr>\n",
       "      <th>Equity(2292 [DRCO])</th>\n",
       "      <td>16.42</td>\n",
       "    </tr>\n",
       "    <tr>\n",
       "      <th>Equity(2344 [DRAM])</th>\n",
       "      <td>16.42</td>\n",
       "    </tr>\n",
       "    <tr>\n",
       "      <th>Equity(2382 [DXR])</th>\n",
       "      <td>16.42</td>\n",
       "    </tr>\n",
       "    <tr>\n",
       "      <th>Equity(2389 [COBR])</th>\n",
       "      <td>16.42</td>\n",
       "    </tr>\n",
       "    <tr>\n",
       "      <th>Equity(2391 [DYNT])</th>\n",
       "      <td>16.42</td>\n",
       "    </tr>\n",
       "    <tr>\n",
       "      <th>...</th>\n",
       "      <th>...</th>\n",
       "      <td>...</td>\n",
       "    </tr>\n",
       "    <tr>\n",
       "      <th rowspan=\"30\" valign=\"top\">2013-11-25 00:00:00+00:00</th>\n",
       "      <th>Equity(45179 [ERW])</th>\n",
       "      <td>16.22</td>\n",
       "    </tr>\n",
       "    <tr>\n",
       "      <th>Equity(45195 [LGL_WS])</th>\n",
       "      <td>16.22</td>\n",
       "    </tr>\n",
       "    <tr>\n",
       "      <th>Equity(45203 [NASH])</th>\n",
       "      <td>16.22</td>\n",
       "    </tr>\n",
       "    <tr>\n",
       "      <th>Equity(45222 [QPAC_U])</th>\n",
       "      <td>16.22</td>\n",
       "    </tr>\n",
       "    <tr>\n",
       "      <th>Equity(45240 [INTL_L])</th>\n",
       "      <td>16.22</td>\n",
       "    </tr>\n",
       "    <tr>\n",
       "      <th>Equity(45270 [TIPT])</th>\n",
       "      <td>16.22</td>\n",
       "    </tr>\n",
       "    <tr>\n",
       "      <th>Equity(45288 [EMHD])</th>\n",
       "      <td>16.22</td>\n",
       "    </tr>\n",
       "    <tr>\n",
       "      <th>Equity(45301 [TRC_WS])</th>\n",
       "      <td>16.22</td>\n",
       "    </tr>\n",
       "    <tr>\n",
       "      <th>Equity(45390 [CPXX])</th>\n",
       "      <td>16.22</td>\n",
       "    </tr>\n",
       "    <tr>\n",
       "      <th>Equity(45412 [EAGL])</th>\n",
       "      <td>16.22</td>\n",
       "    </tr>\n",
       "    <tr>\n",
       "      <th>Equity(45414 [EAGL_W])</th>\n",
       "      <td>16.22</td>\n",
       "    </tr>\n",
       "    <tr>\n",
       "      <th>Equity(45420 [ROIQ_U])</th>\n",
       "      <td>16.22</td>\n",
       "    </tr>\n",
       "    <tr>\n",
       "      <th>Equity(45432 [SPCB])</th>\n",
       "      <td>16.22</td>\n",
       "    </tr>\n",
       "    <tr>\n",
       "      <th>Equity(45510 [MLPC])</th>\n",
       "      <td>16.22</td>\n",
       "    </tr>\n",
       "    <tr>\n",
       "      <th>Equity(45524 [NVEE])</th>\n",
       "      <td>16.22</td>\n",
       "    </tr>\n",
       "    <tr>\n",
       "      <th>Equity(45525 [NVEE_W])</th>\n",
       "      <td>16.22</td>\n",
       "    </tr>\n",
       "    <tr>\n",
       "      <th>Equity(45527 [JASN])</th>\n",
       "      <td>16.22</td>\n",
       "    </tr>\n",
       "    <tr>\n",
       "      <th>Equity(45536 [JASN_W])</th>\n",
       "      <td>16.22</td>\n",
       "    </tr>\n",
       "    <tr>\n",
       "      <th>Equity(45562 [ESBA])</th>\n",
       "      <td>16.22</td>\n",
       "    </tr>\n",
       "    <tr>\n",
       "      <th>Equity(45563 [OGCP])</th>\n",
       "      <td>16.22</td>\n",
       "    </tr>\n",
       "    <tr>\n",
       "      <th>Equity(45564 [FISK])</th>\n",
       "      <td>16.22</td>\n",
       "    </tr>\n",
       "    <tr>\n",
       "      <th>Equity(45646 [CHNA])</th>\n",
       "      <td>16.22</td>\n",
       "    </tr>\n",
       "    <tr>\n",
       "      <th>Equity(45678 [SLQD])</th>\n",
       "      <td>16.22</td>\n",
       "    </tr>\n",
       "    <tr>\n",
       "      <th>Equity(45680 [ADXS_W])</th>\n",
       "      <td>16.22</td>\n",
       "    </tr>\n",
       "    <tr>\n",
       "      <th>Equity(45717 [FTGC])</th>\n",
       "      <td>16.22</td>\n",
       "    </tr>\n",
       "    <tr>\n",
       "      <th>Equity(45768 [KODK_WS])</th>\n",
       "      <td>16.22</td>\n",
       "    </tr>\n",
       "    <tr>\n",
       "      <th>Equity(45792 [FTSD])</th>\n",
       "      <td>16.22</td>\n",
       "    </tr>\n",
       "    <tr>\n",
       "      <th>Equity(45824 [ROIQ_W])</th>\n",
       "      <td>16.22</td>\n",
       "    </tr>\n",
       "    <tr>\n",
       "      <th>Equity(45854 [PGAL])</th>\n",
       "      <td>16.22</td>\n",
       "    </tr>\n",
       "    <tr>\n",
       "      <th>Equity(45895 [EMSH])</th>\n",
       "      <td>16.22</td>\n",
       "    </tr>\n",
       "  </tbody>\n",
       "</table>\n",
       "<p>16983 rows × 1 columns</p>\n",
       "</div>"
      ],
      "text/plain": [
       "                                                   open_vxxle\n",
       "2013-11-01 00:00:00+00:00 Equity(21 [AAME])             16.42\n",
       "                          Equity(25 [AA_PR])            16.42\n",
       "                          Equity(117 [AEY])             16.42\n",
       "                          Equity(225 [AHPI])            16.42\n",
       "                          Equity(312 [ALOT])            16.42\n",
       "                          Equity(392 [AMS])             16.42\n",
       "                          Equity(468 [API])             16.42\n",
       "                          Equity(548 [ASBI])            16.42\n",
       "                          Equity(717 [BAMM])            16.42\n",
       "                          Equity(790 [BDL])             16.42\n",
       "                          Equity(880 [BIO_B])           16.42\n",
       "                          Equity(925 [BKSC])            16.42\n",
       "                          Equity(1088 [BRID])           16.42\n",
       "                          Equity(1095 [BRN])            16.42\n",
       "                          Equity(1157 [BTUI])           16.42\n",
       "                          Equity(1190 [BWIN_A])         16.42\n",
       "                          Equity(1193 [BWL_A])          16.42\n",
       "                          Equity(1323 [CAW])            16.42\n",
       "                          Equity(1653 [MOC])            16.42\n",
       "                          Equity(1668 [CMS_PRB])        16.42\n",
       "                          Equity(1988 [CUO])            16.42\n",
       "                          Equity(2078 [DAIO])           16.42\n",
       "                          Equity(2103 [ESCR])           16.42\n",
       "                          Equity(2124 [DD_PRA])         16.42\n",
       "                          Equity(2209 [DGSE])           16.42\n",
       "                          Equity(2292 [DRCO])           16.42\n",
       "                          Equity(2344 [DRAM])           16.42\n",
       "                          Equity(2382 [DXR])            16.42\n",
       "                          Equity(2389 [COBR])           16.42\n",
       "                          Equity(2391 [DYNT])           16.42\n",
       "...                                                       ...\n",
       "2013-11-25 00:00:00+00:00 Equity(45179 [ERW])           16.22\n",
       "                          Equity(45195 [LGL_WS])        16.22\n",
       "                          Equity(45203 [NASH])          16.22\n",
       "                          Equity(45222 [QPAC_U])        16.22\n",
       "                          Equity(45240 [INTL_L])        16.22\n",
       "                          Equity(45270 [TIPT])          16.22\n",
       "                          Equity(45288 [EMHD])          16.22\n",
       "                          Equity(45301 [TRC_WS])        16.22\n",
       "                          Equity(45390 [CPXX])          16.22\n",
       "                          Equity(45412 [EAGL])          16.22\n",
       "                          Equity(45414 [EAGL_W])        16.22\n",
       "                          Equity(45420 [ROIQ_U])        16.22\n",
       "                          Equity(45432 [SPCB])          16.22\n",
       "                          Equity(45510 [MLPC])          16.22\n",
       "                          Equity(45524 [NVEE])          16.22\n",
       "                          Equity(45525 [NVEE_W])        16.22\n",
       "                          Equity(45527 [JASN])          16.22\n",
       "                          Equity(45536 [JASN_W])        16.22\n",
       "                          Equity(45562 [ESBA])          16.22\n",
       "                          Equity(45563 [OGCP])          16.22\n",
       "                          Equity(45564 [FISK])          16.22\n",
       "                          Equity(45646 [CHNA])          16.22\n",
       "                          Equity(45678 [SLQD])          16.22\n",
       "                          Equity(45680 [ADXS_W])        16.22\n",
       "                          Equity(45717 [FTGC])          16.22\n",
       "                          Equity(45768 [KODK_WS])       16.22\n",
       "                          Equity(45792 [FTSD])          16.22\n",
       "                          Equity(45824 [ROIQ_W])        16.22\n",
       "                          Equity(45854 [PGAL])          16.22\n",
       "                          Equity(45895 [EMSH])          16.22\n",
       "\n",
       "[16983 rows x 1 columns]"
      ]
     },
     "execution_count": 17,
     "metadata": {},
     "output_type": "execute_result"
    }
   ],
   "source": [
    "# run_pipeline will show the output of your pipeline\n",
    "pipe_output = run_pipeline(pipe, start_date='2013-11-01', end_date='2013-11-25')\n",
    "pipe_output"
   ]
  },
  {
   "cell_type": "markdown",
   "metadata": {},
   "source": [
    "Here, you'll notice that each security is mapped to the corresponding value, so you could grab any security to get what you need.\n",
    "\n",
    "Taking what we've seen from above, let's see how we'd move that into the backtester."
   ]
  },
  {
   "cell_type": "code",
   "execution_count": 17,
   "metadata": {
    "collapsed": false
   },
   "outputs": [],
   "source": [
    "# This section is only importable in the backtester\n",
    "from quantopian.algorithm import attach_pipeline, pipeline_output\n",
    "\n",
    "# General pipeline imports\n",
    "from quantopian.pipeline import Pipeline\n",
    "from quantopian.pipeline.factors import AverageDollarVolume\n",
    "\n",
    "# For use in your algorithms via the pipeline API\n",
    "from quantopian.pipeline.data.quandl import cboe_vxxle\n",
    "\n",
    "def make_pipeline():\n",
    "    # Create our pipeline\n",
    "    pipe = Pipeline()\n",
    "    \n",
    "    # Screen out penny stocks and low liquidity securities.\n",
    "    dollar_volume = AverageDollarVolume(window_length=20)\n",
    "    is_liquid = dollar_volume.rank(ascending=False) < 1000\n",
    "    \n",
    "    # Create the mask that we will use for our percentile methods.\n",
    "    base_universe = (is_liquid)\n",
    "\n",
    "    # Add the datasets available\n",
    "    pipe.add(cboe_vxxle.open_.latest, 'vxxle_open')\n",
    "\n",
    "    # Set our pipeline screens\n",
    "    pipe.set_screen(is_liquid)\n",
    "    return pipe\n",
    "\n",
    "def initialize(context):\n",
    "    attach_pipeline(make_pipeline(), \"pipeline\")\n",
    "    \n",
    "def before_trading_start(context, data):\n",
    "    results = pipeline_output('pipeline')"
   ]
  },
  {
   "cell_type": "markdown",
   "metadata": {},
   "source": [
    "Now you can take that and begin to use it as a building block for your algorithms, for more examples on how to do that you can visit our <a href='https://www.quantopian.com/posts/pipeline-factor-library-for-data'>data pipeline factor library</a>"
   ]
  }
 ],
 "metadata": {
  "kernelspec": {
   "display_name": "Python 2",
   "language": "python",
   "name": "python2"
  },
  "language_info": {
   "codemirror_mode": {
    "name": "ipython",
    "version": 2
   },
   "file_extension": ".py",
   "mimetype": "text/x-python",
   "name": "python",
   "nbconvert_exporter": "python",
   "pygments_lexer": "ipython2",
   "version": "2.7.11"
  }
 },
 "nbformat": 4,
 "nbformat_minor": 0
}