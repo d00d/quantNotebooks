{
 "cells": [
  {
   "cell_type": "markdown",
   "metadata": {
    "collapsed": true
   },
   "source": [
    "# EventVestor: Legal and Regulatory\n",
    "\n",
    "In this notebook, we'll take a look at EventVestor's *Legal and Regulatory* dataset, available on the [Quantopian Store](https://www.quantopian.com/store). This dataset spans January 01, 2007 through the current day, and documents major legal and regulatory events affecting publicly traded companies.\n",
    "\n",
    "### Blaze\n",
    "Before we dig into the data, we want to tell you about how  you generally access Quantopian Store data sets. These datasets are available through an API service known as [Blaze](http://blaze.pydata.org). Blaze provides the Quantopian user with a convenient interface to access very large datasets.\n",
    "\n",
    "Blaze provides an important function for accessing these datasets. Some of these sets are many millions of records. Bringing that data directly into Quantopian Research directly just is not viable. So Blaze allows us to provide a simple querying interface and shift the burden over to the server side.\n",
    "\n",
    "It is common to use Blaze to reduce your dataset in size, convert it over to Pandas and then to use Pandas for further computation, manipulation and visualization.\n",
    "\n",
    "Helpful links:\n",
    "* [Query building for Blaze](http://blaze.pydata.org/en/latest/queries.html)\n",
    "* [Pandas-to-Blaze dictionary](http://blaze.pydata.org/en/latest/rosetta-pandas.html)\n",
    "* [SQL-to-Blaze dictionary](http://blaze.pydata.org/en/latest/rosetta-sql.html).\n",
    "\n",
    "Once you've limited the size of your Blaze object, you can convert it to a Pandas DataFrames using:\n",
    "> `from odo import odo`  \n",
    "> `odo(expr, pandas.DataFrame)`\n",
    "\n",
    "### Free samples and limits\n",
    "One other key caveat: we limit the number of results returned from any given expression to 10,000 to protect against runaway memory usage. To be clear, you have access to all the data server side. We are limiting the size of the responses back from Blaze.\n",
    "\n",
    "There is a *free* version of this dataset as well as a paid one. The free one includes about three years of historical data, though not up to the current day.\n",
    "\n",
    "With preamble in place, let's get started:"
   ]
  },
  {
   "cell_type": "code",
   "execution_count": 2,
   "metadata": {
    "collapsed": false
   },
   "outputs": [],
   "source": [
    "# import the dataset\n",
    "from quantopian.interactive.data.eventvestor import legal_and_regulatory\n",
    "# or if you want to import the free dataset, use:\n",
    "# from quantopian.interactive.data.eventvestor import legal_and_regulatory_free\n",
    "\n",
    "# import data operations\n",
    "from odo import odo\n",
    "# import other libraries we will use\n",
    "import pandas as pd"
   ]
  },
  {
   "cell_type": "code",
   "execution_count": 3,
   "metadata": {
    "collapsed": false
   },
   "outputs": [
    {
     "data": {
      "text/plain": [
       "dshape(\"\"\"var * {\n",
       "  event_id: ?float64,\n",
       "  asof_date: datetime,\n",
       "  trade_date: ?datetime,\n",
       "  symbol: ?string,\n",
       "  event_type: ?string,\n",
       "  event_headline: ?string,\n",
       "  legal_amount: ?float64,\n",
       "  legal_units: ?string,\n",
       "  legal_entity: ?string,\n",
       "  event_rating: ?float64,\n",
       "  timestamp: datetime,\n",
       "  sid: ?int64\n",
       "  }\"\"\")"
      ]
     },
     "execution_count": 3,
     "metadata": {},
     "output_type": "execute_result"
    }
   ],
   "source": [
    "# Let's use blaze to understand the data a bit using Blaze dshape()\n",
    "legal_and_regulatory.dshape"
   ]
  },
  {
   "cell_type": "code",
   "execution_count": 4,
   "metadata": {
    "collapsed": false
   },
   "outputs": [
    {
     "data": {
      "text/html": [
       "8180"
      ],
      "text/plain": [
       "8180"
      ]
     },
     "execution_count": 4,
     "metadata": {},
     "output_type": "execute_result"
    }
   ],
   "source": [
    "# And how many rows are there?\n",
    "# N.B. we're using a Blaze function to do this, not len()\n",
    "legal_and_regulatory.count()"
   ]
  },
  {
   "cell_type": "code",
   "execution_count": 5,
   "metadata": {
    "collapsed": false
   },
   "outputs": [
    {
     "data": {
      "text/html": [
       "<table border=\"1\" class=\"dataframe\">\n",
       "  <thead>\n",
       "    <tr style=\"text-align: right;\">\n",
       "      <th></th>\n",
       "      <th>event_id</th>\n",
       "      <th>asof_date</th>\n",
       "      <th>trade_date</th>\n",
       "      <th>symbol</th>\n",
       "      <th>event_type</th>\n",
       "      <th>event_headline</th>\n",
       "      <th>legal_amount</th>\n",
       "      <th>legal_units</th>\n",
       "      <th>legal_entity</th>\n",
       "      <th>event_rating</th>\n",
       "      <th>timestamp</th>\n",
       "      <th>sid</th>\n",
       "    </tr>\n",
       "  </thead>\n",
       "  <tbody>\n",
       "    <tr>\n",
       "      <th>0</th>\n",
       "      <td>77848</td>\n",
       "      <td>2007-01-05</td>\n",
       "      <td>2007-01-08</td>\n",
       "      <td>AMAT</td>\n",
       "      <td>Legal/Regulatory</td>\n",
       "      <td>Applied Materials' Review under the HSR Antitr...</td>\n",
       "      <td>0.0</td>\n",
       "      <td>NaN</td>\n",
       "      <td>NaN</td>\n",
       "      <td>1</td>\n",
       "      <td>2007-01-06</td>\n",
       "      <td>337</td>\n",
       "    </tr>\n",
       "    <tr>\n",
       "      <th>1</th>\n",
       "      <td>148666</td>\n",
       "      <td>2007-01-05</td>\n",
       "      <td>2007-01-05</td>\n",
       "      <td>FCS</td>\n",
       "      <td>Legal/Regulatory</td>\n",
       "      <td>Fairchild Semiconductor Appeals Ruling in ZTE ...</td>\n",
       "      <td>8.4</td>\n",
       "      <td>$M</td>\n",
       "      <td>Zhongxing Telecom Ltd</td>\n",
       "      <td>1</td>\n",
       "      <td>2007-01-06</td>\n",
       "      <td>20486</td>\n",
       "    </tr>\n",
       "    <tr>\n",
       "      <th>2</th>\n",
       "      <td>77994</td>\n",
       "      <td>2007-01-09</td>\n",
       "      <td>2007-01-09</td>\n",
       "      <td>XLNX</td>\n",
       "      <td>Legal/Regulatory</td>\n",
       "      <td>Xilinx announces dismissal of shareholder deri...</td>\n",
       "      <td>0.0</td>\n",
       "      <td>NaN</td>\n",
       "      <td>NaN</td>\n",
       "      <td>1</td>\n",
       "      <td>2007-01-10</td>\n",
       "      <td>8344</td>\n",
       "    </tr>\n",
       "  </tbody>\n",
       "</table>"
      ],
      "text/plain": [
       "   event_id  asof_date trade_date symbol        event_type  \\\n",
       "0     77848 2007-01-05 2007-01-08   AMAT  Legal/Regulatory   \n",
       "1    148666 2007-01-05 2007-01-05    FCS  Legal/Regulatory   \n",
       "2     77994 2007-01-09 2007-01-09   XLNX  Legal/Regulatory   \n",
       "\n",
       "                                      event_headline  legal_amount  \\\n",
       "0  Applied Materials' Review under the HSR Antitr...           0.0   \n",
       "1  Fairchild Semiconductor Appeals Ruling in ZTE ...           8.4   \n",
       "2  Xilinx announces dismissal of shareholder deri...           0.0   \n",
       "\n",
       "  legal_units           legal_entity  event_rating  timestamp    sid  \n",
       "0         NaN                    NaN             1 2007-01-06    337  \n",
       "1          $M  Zhongxing Telecom Ltd             1 2007-01-06  20486  \n",
       "2         NaN                    NaN             1 2007-01-10   8344  "
      ]
     },
     "execution_count": 5,
     "metadata": {},
     "output_type": "execute_result"
    }
   ],
   "source": [
    "# Let's see what the data looks like. We'll grab the first three rows.\n",
    "legal_and_regulatory[:3]"
   ]
  },
  {
   "cell_type": "markdown",
   "metadata": {},
   "source": [
    "Let's go over the columns:\n",
    "- **event_id**: the unique identifier for this event.\n",
    "- **asof_date**: EventVestor's timestamp of event capture.\n",
    "- **trade_date**: for event announcements made before trading ends, trade_date is the same as event_date. For announcements issued after market close, trade_date is next market open day.\n",
    "- **symbol**: stock ticker symbol of the affected company.\n",
    "- **event_type**: this should always be *Legal/Regulatory*.\n",
    "- **event_headline**: a brief description of the event\n",
    "- **legal_amount**: amount mentioned in the case, if any.\n",
    "- **legal_units**: units of the legal_amount: most commonly millions of dollars.\n",
    "- **legal_entity**: the related entity in the legal case.\n",
    "- **event_rating**: this is always 1. The meaning of this is uncertain.\n",
    "- **timestamp**: this is our timestamp on when we registered the data.\n",
    "- **sid**: the equity's unique identifier. Use this instead of the symbol."
   ]
  },
  {
   "cell_type": "markdown",
   "metadata": {},
   "source": [
    "We've done much of the data processing for you. Fields like `timestamp` and `sid` are standardized across all our Store Datasets, so the datasets are easy to combine. We have standardized the `sid` across all our equity databases.\n",
    "\n",
    "We can select columns and rows with ease. Below, we'll fetch all 2014 events involving General Motors."
   ]
  },
  {
   "cell_type": "code",
   "execution_count": 6,
   "metadata": {
    "collapsed": false,
    "scrolled": true
   },
   "outputs": [
    {
     "data": {
      "text/html": [
       "<table border=\"1\" class=\"dataframe\">\n",
       "  <thead>\n",
       "    <tr style=\"text-align: right;\">\n",
       "      <th></th>\n",
       "      <th>event_id</th>\n",
       "      <th>asof_date</th>\n",
       "      <th>trade_date</th>\n",
       "      <th>symbol</th>\n",
       "      <th>event_type</th>\n",
       "      <th>event_headline</th>\n",
       "      <th>legal_amount</th>\n",
       "      <th>legal_units</th>\n",
       "      <th>legal_entity</th>\n",
       "      <th>event_rating</th>\n",
       "      <th>timestamp</th>\n",
       "      <th>sid</th>\n",
       "    </tr>\n",
       "  </thead>\n",
       "  <tbody>\n",
       "    <tr>\n",
       "      <th>0</th>\n",
       "      <td>1695334</td>\n",
       "      <td>2014-03-19</td>\n",
       "      <td>2014-03-20</td>\n",
       "      <td>GM</td>\n",
       "      <td>Legal/Regulatory</td>\n",
       "      <td>General Motors Co. Faces Class Action Lawsuit ...</td>\n",
       "      <td>0</td>\n",
       "      <td>NaN</td>\n",
       "      <td>Hagens Berman</td>\n",
       "      <td>1</td>\n",
       "      <td>2014-03-20</td>\n",
       "      <td>40430</td>\n",
       "    </tr>\n",
       "    <tr>\n",
       "      <th>1</th>\n",
       "      <td>1696156</td>\n",
       "      <td>2014-03-21</td>\n",
       "      <td>2014-03-21</td>\n",
       "      <td>GM</td>\n",
       "      <td>Legal/Regulatory</td>\n",
       "      <td>General Motors Co. Faces Class Action Lawsuit</td>\n",
       "      <td>0</td>\n",
       "      <td>NaN</td>\n",
       "      <td>Pomerantz LLP</td>\n",
       "      <td>1</td>\n",
       "      <td>2014-03-22</td>\n",
       "      <td>40430</td>\n",
       "    </tr>\n",
       "    <tr>\n",
       "      <th>2</th>\n",
       "      <td>1703401</td>\n",
       "      <td>2014-04-22</td>\n",
       "      <td>2014-04-23</td>\n",
       "      <td>GM</td>\n",
       "      <td>Legal/Regulatory</td>\n",
       "      <td>General Motors Company Faces Class Action Laws...</td>\n",
       "      <td>0</td>\n",
       "      <td>NaN</td>\n",
       "      <td>Law Offices of Howard G. Smith; Glancy Binkow ...</td>\n",
       "      <td>1</td>\n",
       "      <td>2014-04-23</td>\n",
       "      <td>40430</td>\n",
       "    </tr>\n",
       "    <tr>\n",
       "      <th>3</th>\n",
       "      <td>1725393</td>\n",
       "      <td>2014-05-16</td>\n",
       "      <td>2014-05-19</td>\n",
       "      <td>GM</td>\n",
       "      <td>Legal/Regulatory</td>\n",
       "      <td>General Motors Co. Faces Class Action Lawsuits</td>\n",
       "      <td>0</td>\n",
       "      <td>NaN</td>\n",
       "      <td>Pomerantz LLP</td>\n",
       "      <td>1</td>\n",
       "      <td>2014-05-17</td>\n",
       "      <td>40430</td>\n",
       "    </tr>\n",
       "    <tr>\n",
       "      <th>4</th>\n",
       "      <td>1725455</td>\n",
       "      <td>2014-05-17</td>\n",
       "      <td>2014-05-19</td>\n",
       "      <td>GM</td>\n",
       "      <td>Legal/Regulatory</td>\n",
       "      <td>General Motors to Pay $35M Fine Over Delay to ...</td>\n",
       "      <td>35</td>\n",
       "      <td>$M</td>\n",
       "      <td>NaN</td>\n",
       "      <td>1</td>\n",
       "      <td>2014-05-18</td>\n",
       "      <td>40430</td>\n",
       "    </tr>\n",
       "    <tr>\n",
       "      <th>5</th>\n",
       "      <td>1736421</td>\n",
       "      <td>2014-06-18</td>\n",
       "      <td>2014-06-18</td>\n",
       "      <td>GM</td>\n",
       "      <td>Legal/Regulatory</td>\n",
       "      <td>General Motors Co. Faces Class Action Lawsuit</td>\n",
       "      <td>0</td>\n",
       "      <td>NaN</td>\n",
       "      <td>Hagens Berman Sobol Shapiro</td>\n",
       "      <td>1</td>\n",
       "      <td>2014-06-19</td>\n",
       "      <td>40430</td>\n",
       "    </tr>\n",
       "    <tr>\n",
       "      <th>6</th>\n",
       "      <td>1768189</td>\n",
       "      <td>2014-08-09</td>\n",
       "      <td>2014-08-09</td>\n",
       "      <td>GM</td>\n",
       "      <td>Legal/Regulatory</td>\n",
       "      <td>Judge Rejects General Motors Co. Motion to Dis...</td>\n",
       "      <td>0</td>\n",
       "      <td>NaN</td>\n",
       "      <td>NaN</td>\n",
       "      <td>1</td>\n",
       "      <td>2014-08-10</td>\n",
       "      <td>40430</td>\n",
       "    </tr>\n",
       "  </tbody>\n",
       "</table>"
      ],
      "text/plain": [
       "   event_id  asof_date trade_date symbol        event_type  \\\n",
       "0   1695334 2014-03-19 2014-03-20     GM  Legal/Regulatory   \n",
       "1   1696156 2014-03-21 2014-03-21     GM  Legal/Regulatory   \n",
       "2   1703401 2014-04-22 2014-04-23     GM  Legal/Regulatory   \n",
       "3   1725393 2014-05-16 2014-05-19     GM  Legal/Regulatory   \n",
       "4   1725455 2014-05-17 2014-05-19     GM  Legal/Regulatory   \n",
       "5   1736421 2014-06-18 2014-06-18     GM  Legal/Regulatory   \n",
       "6   1768189 2014-08-09 2014-08-09     GM  Legal/Regulatory   \n",
       "\n",
       "                                      event_headline  legal_amount  \\\n",
       "0  General Motors Co. Faces Class Action Lawsuit ...             0   \n",
       "1     General Motors Co. Faces Class Action Lawsuit              0   \n",
       "2  General Motors Company Faces Class Action Laws...             0   \n",
       "3     General Motors Co. Faces Class Action Lawsuits             0   \n",
       "4  General Motors to Pay $35M Fine Over Delay to ...            35   \n",
       "5      General Motors Co. Faces Class Action Lawsuit             0   \n",
       "6  Judge Rejects General Motors Co. Motion to Dis...             0   \n",
       "\n",
       "  legal_units                                       legal_entity  \\\n",
       "0         NaN                                      Hagens Berman   \n",
       "1         NaN                                      Pomerantz LLP   \n",
       "2         NaN  Law Offices of Howard G. Smith; Glancy Binkow ...   \n",
       "3         NaN                                      Pomerantz LLP   \n",
       "4          $M                                                NaN   \n",
       "5         NaN                        Hagens Berman Sobol Shapiro   \n",
       "6         NaN                                                NaN   \n",
       "\n",
       "   event_rating  timestamp    sid  \n",
       "0             1 2014-03-20  40430  \n",
       "1             1 2014-03-22  40430  \n",
       "2             1 2014-04-23  40430  \n",
       "3             1 2014-05-17  40430  \n",
       "4             1 2014-05-18  40430  \n",
       "5             1 2014-06-19  40430  \n",
       "6             1 2014-08-10  40430  "
      ]
     },
     "execution_count": 6,
     "metadata": {},
     "output_type": "execute_result"
    }
   ],
   "source": [
    "# get GM's sid first\n",
    "gm_sid = symbols('GM').sid\n",
    "cases = legal_and_regulatory[('2013-12-31' < legal_and_regulatory['asof_date']) & \n",
    "                        (legal_and_regulatory['asof_date'] <'2015-01-01') & \n",
    "                        (legal_and_regulatory.sid == gm_sid)]\n",
    "# When displaying a Blaze Data Object, the printout is automatically truncated to ten rows.\n",
    "cases.sort('asof_date')"
   ]
  },
  {
   "cell_type": "markdown",
   "metadata": {},
   "source": [
    "Now suppose we want a DataFrame of the Blaze Data Object above, but only want entries with a non-zero legal_amount. Further, we want to drop the `event_rating` and `event_type`."
   ]
  },
  {
   "cell_type": "code",
   "execution_count": 7,
   "metadata": {
    "collapsed": false
   },
   "outputs": [
    {
     "data": {
      "text/html": [
       "<div style=\"max-height:1000px;max-width:1500px;overflow:auto;\">\n",
       "<table border=\"1\" class=\"dataframe\">\n",
       "  <thead>\n",
       "    <tr style=\"text-align: right;\">\n",
       "      <th></th>\n",
       "      <th>event_id</th>\n",
       "      <th>asof_date</th>\n",
       "      <th>trade_date</th>\n",
       "      <th>symbol</th>\n",
       "      <th>event_headline</th>\n",
       "      <th>legal_amount</th>\n",
       "      <th>legal_units</th>\n",
       "      <th>legal_entity</th>\n",
       "      <th>timestamp</th>\n",
       "      <th>sid</th>\n",
       "    </tr>\n",
       "  </thead>\n",
       "  <tbody>\n",
       "    <tr>\n",
       "      <th>4</th>\n",
       "      <td>1725455</td>\n",
       "      <td>2014-05-17</td>\n",
       "      <td>2014-05-19</td>\n",
       "      <td>GM</td>\n",
       "      <td>General Motors to Pay $35M Fine Over Delay to ...</td>\n",
       "      <td>35</td>\n",
       "      <td>$M</td>\n",
       "      <td>NaN</td>\n",
       "      <td>2014-05-18</td>\n",
       "      <td>40430</td>\n",
       "    </tr>\n",
       "  </tbody>\n",
       "</table>\n",
       "</div>"
      ],
      "text/plain": [
       "   event_id  asof_date trade_date symbol  \\\n",
       "4   1725455 2014-05-17 2014-05-19     GM   \n",
       "\n",
       "                                      event_headline  legal_amount  \\\n",
       "4  General Motors to Pay $35M Fine Over Delay to ...            35   \n",
       "\n",
       "  legal_units legal_entity  timestamp    sid  \n",
       "4          $M          NaN 2014-05-18  40430  "
      ]
     },
     "execution_count": 7,
     "metadata": {},
     "output_type": "execute_result"
    }
   ],
   "source": [
    "df = odo(cases, pd.DataFrame)\n",
    "df = df[df.legal_amount > 0]\n",
    "df.drop(df[['event_type','event_rating']], axis=1, inplace=True)\n",
    "df"
   ]
  }
 ],
 "metadata": {
  "kernelspec": {
   "display_name": "Python 2",
   "language": "python",
   "name": "python2"
  },
  "language_info": {
   "codemirror_mode": {
    "name": "ipython",
    "version": 2
   },
   "file_extension": ".py",
   "mimetype": "text/x-python",
   "name": "python",
   "nbconvert_exporter": "python",
   "pygments_lexer": "ipython2",
   "version": "2.7.10"
  }
 },
 "nbformat": 4,
 "nbformat_minor": 0
}