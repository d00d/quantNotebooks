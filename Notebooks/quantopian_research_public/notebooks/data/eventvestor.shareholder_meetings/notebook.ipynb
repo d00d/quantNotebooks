{
 "cells": [
  {
   "cell_type": "markdown",
   "metadata": {
    "collapsed": true
   },
   "source": [
    "# EventVestor: Shareholder Meetings\n",
    "\n",
    "In this notebook, we'll take a look at EventVestor's *Shareholder Meetings* dataset, available on the [Quantopian Store](https://www.quantopian.com/store). This dataset spans January 01, 2007 through the current day, and documents companies' annual and special shareholder meetings calendars.\n",
    "\n",
    "### Blaze\n",
    "Before we dig into the data, we want to tell you about how  you generally access Quantopian Store data sets. These datasets are available through an API service known as [Blaze](http://blaze.pydata.org). Blaze provides the Quantopian user with a convenient interface to access very large datasets.\n",
    "\n",
    "Blaze provides an important function for accessing these datasets. Some of these sets are many millions of records. Bringing that data directly into Quantopian Research directly just is not viable. So Blaze allows us to provide a simple querying interface and shift the burden over to the server side.\n",
    "\n",
    "It is common to use Blaze to reduce your dataset in size, convert it over to Pandas and then to use Pandas for further computation, manipulation and visualization.\n",
    "\n",
    "Helpful links:\n",
    "* [Query building for Blaze](http://blaze.pydata.org/en/latest/queries.html)\n",
    "* [Pandas-to-Blaze dictionary](http://blaze.pydata.org/en/latest/rosetta-pandas.html)\n",
    "* [SQL-to-Blaze dictionary](http://blaze.pydata.org/en/latest/rosetta-sql.html).\n",
    "\n",
    "Once you've limited the size of your Blaze object, you can convert it to a Pandas DataFrames using:\n",
    "> `from odo import odo`  \n",
    "> `odo(expr, pandas.DataFrame)`\n",
    "\n",
    "### Free samples and limits\n",
    "One other key caveat: we limit the number of results returned from any given expression to 10,000 to protect against runaway memory usage. To be clear, you have access to all the data server side. We are limiting the size of the responses back from Blaze.\n",
    "\n",
    "There is a *free* version of this dataset as well as a paid one. The free one includes about three years of historical data, though not up to the current day.\n",
    "\n",
    "With preamble in place, let's get started:"
   ]
  },
  {
   "cell_type": "code",
   "execution_count": 1,
   "metadata": {
    "collapsed": false
   },
   "outputs": [],
   "source": [
    "# import the dataset\n",
    "from quantopian.interactive.data.eventvestor import shareholder_meetings\n",
    "# or if you want to import the free dataset, use:\n",
    "# from quantopian.data.eventvestor import shareholder_meetings_free\n",
    "\n",
    "# import data operations\n",
    "from odo import odo\n",
    "# import other libraries we will use\n",
    "import pandas as pd"
   ]
  },
  {
   "cell_type": "code",
   "execution_count": 2,
   "metadata": {
    "collapsed": false
   },
   "outputs": [
    {
     "data": {
      "text/plain": [
       "dshape(\"\"\"var * {\n",
       "  event_id: ?float64,\n",
       "  asof_date: datetime,\n",
       "  symbol: ?string,\n",
       "  event_headline: ?string,\n",
       "  meeting_type: ?string,\n",
       "  record_date: ?datetime,\n",
       "  meeting_date: ?datetime,\n",
       "  timestamp: datetime,\n",
       "  sid: ?int64\n",
       "  }\"\"\")"
      ]
     },
     "execution_count": 2,
     "metadata": {},
     "output_type": "execute_result"
    }
   ],
   "source": [
    "# Let's use blaze to understand the data a bit using Blaze dshape()\n",
    "shareholder_meetings.dshape"
   ]
  },
  {
   "cell_type": "code",
   "execution_count": 3,
   "metadata": {
    "collapsed": false
   },
   "outputs": [
    {
     "data": {
      "text/html": [
       "8969"
      ],
      "text/plain": [
       "8969"
      ]
     },
     "execution_count": 3,
     "metadata": {},
     "output_type": "execute_result"
    }
   ],
   "source": [
    "# And how many rows are there?\n",
    "# N.B. we're using a Blaze function to do this, not len()\n",
    "shareholder_meetings.count()"
   ]
  },
  {
   "cell_type": "code",
   "execution_count": 4,
   "metadata": {
    "collapsed": false
   },
   "outputs": [
    {
     "data": {
      "text/html": [
       "<table border=\"1\" class=\"dataframe\">\n",
       "  <thead>\n",
       "    <tr style=\"text-align: right;\">\n",
       "      <th></th>\n",
       "      <th>event_id</th>\n",
       "      <th>asof_date</th>\n",
       "      <th>symbol</th>\n",
       "      <th>event_headline</th>\n",
       "      <th>meeting_type</th>\n",
       "      <th>record_date</th>\n",
       "      <th>meeting_date</th>\n",
       "      <th>timestamp</th>\n",
       "      <th>sid</th>\n",
       "    </tr>\n",
       "  </thead>\n",
       "  <tbody>\n",
       "    <tr>\n",
       "      <th>0</th>\n",
       "      <td>9000012933</td>\n",
       "      <td>2009-01-02</td>\n",
       "      <td>CENT</td>\n",
       "      <td>Central Garden &amp; Pet announces Shareholder Mee...</td>\n",
       "      <td>Annual Meeting</td>\n",
       "      <td>2008-12-19</td>\n",
       "      <td>2009-02-09</td>\n",
       "      <td>2009-01-03</td>\n",
       "      <td>18855</td>\n",
       "    </tr>\n",
       "    <tr>\n",
       "      <th>1</th>\n",
       "      <td>9000016639</td>\n",
       "      <td>2009-12-21</td>\n",
       "      <td>PENX</td>\n",
       "      <td>Penford Corp. announces Shareholder Meeting</td>\n",
       "      <td>Annual Meeting</td>\n",
       "      <td>2009-12-04</td>\n",
       "      <td>2010-01-26</td>\n",
       "      <td>2009-12-22</td>\n",
       "      <td>18082</td>\n",
       "    </tr>\n",
       "    <tr>\n",
       "      <th>2</th>\n",
       "      <td>9000016643</td>\n",
       "      <td>2009-12-23</td>\n",
       "      <td>CCF</td>\n",
       "      <td>Chase announces Shareholder Meeting</td>\n",
       "      <td>Annual Meeting</td>\n",
       "      <td>2009-11-30</td>\n",
       "      <td>2010-01-29</td>\n",
       "      <td>2009-12-24</td>\n",
       "      <td>13810</td>\n",
       "    </tr>\n",
       "  </tbody>\n",
       "</table>"
      ],
      "text/plain": [
       "     event_id  asof_date symbol  \\\n",
       "0  9000012933 2009-01-02   CENT   \n",
       "1  9000016639 2009-12-21   PENX   \n",
       "2  9000016643 2009-12-23    CCF   \n",
       "\n",
       "                                      event_headline    meeting_type  \\\n",
       "0  Central Garden & Pet announces Shareholder Mee...  Annual Meeting   \n",
       "1        Penford Corp. announces Shareholder Meeting  Annual Meeting   \n",
       "2                Chase announces Shareholder Meeting  Annual Meeting   \n",
       "\n",
       "  record_date meeting_date  timestamp    sid  \n",
       "0  2008-12-19   2009-02-09 2009-01-03  18855  \n",
       "1  2009-12-04   2010-01-26 2009-12-22  18082  \n",
       "2  2009-11-30   2010-01-29 2009-12-24  13810  "
      ]
     },
     "execution_count": 4,
     "metadata": {},
     "output_type": "execute_result"
    }
   ],
   "source": [
    "# Let's see what the data looks like. We'll grab the first three rows.\n",
    "shareholder_meetings[:3]"
   ]
  },
  {
   "cell_type": "markdown",
   "metadata": {},
   "source": [
    "Let's go over the columns:\n",
    "- **event_id**: the unique identifier for this event.\n",
    "- **asof_date**: EventVestor's timestamp of event capture.\n",
    "- **symbol**: stock ticker symbol of the affected company.\n",
    "- **event_headline**: a brief description of the event\n",
    "- **meeting_type**: types include *annual meeting, special meeting, proxy contest*.\n",
    "- **record_date**: record date to be eligible for proxy vote\n",
    "- **meeting_date**: shareholder meeting date\n",
    "- **timestamp**: this is our timestamp on when we registered the data.\n",
    "- **sid**: the equity's unique identifier. Use this instead of the symbol."
   ]
  },
  {
   "cell_type": "markdown",
   "metadata": {},
   "source": [
    "We've done much of the data processing for you. Fields like `timestamp` and `sid` are standardized across all our Store Datasets, so the datasets are easy to combine. We have standardized the `sid` across all our equity databases.\n",
    "\n",
    "We can select columns and rows with ease. Below, we'll fetch Tesla's 2013 and 2014 meetings."
   ]
  },
  {
   "cell_type": "code",
   "execution_count": 5,
   "metadata": {
    "collapsed": false,
    "scrolled": true
   },
   "outputs": [
    {
     "data": {
      "text/html": [
       "<table border=\"1\" class=\"dataframe\">\n",
       "  <thead>\n",
       "    <tr style=\"text-align: right;\">\n",
       "      <th></th>\n",
       "      <th>event_id</th>\n",
       "      <th>asof_date</th>\n",
       "      <th>symbol</th>\n",
       "      <th>event_headline</th>\n",
       "      <th>meeting_type</th>\n",
       "      <th>record_date</th>\n",
       "      <th>meeting_date</th>\n",
       "      <th>timestamp</th>\n",
       "      <th>sid</th>\n",
       "    </tr>\n",
       "  </thead>\n",
       "  <tbody>\n",
       "    <tr>\n",
       "      <th>0</th>\n",
       "      <td>900002592</td>\n",
       "      <td>2013-04-17</td>\n",
       "      <td>TSLA</td>\n",
       "      <td>TESLA MOTORS announces Shareholder Meeting</td>\n",
       "      <td>Annual Meeting</td>\n",
       "      <td>2013-04-10</td>\n",
       "      <td>2013-06-04</td>\n",
       "      <td>2013-04-18</td>\n",
       "      <td>39840</td>\n",
       "    </tr>\n",
       "    <tr>\n",
       "      <th>1</th>\n",
       "      <td>9000012760</td>\n",
       "      <td>2014-04-24</td>\n",
       "      <td>TSLA</td>\n",
       "      <td>Tesla Motors, Inc. announces Shareholder Meeting</td>\n",
       "      <td>Annual Meeting</td>\n",
       "      <td>2014-04-10</td>\n",
       "      <td>2014-06-03</td>\n",
       "      <td>2014-04-25</td>\n",
       "      <td>39840</td>\n",
       "    </tr>\n",
       "  </tbody>\n",
       "</table>"
      ],
      "text/plain": [
       "     event_id  asof_date symbol  \\\n",
       "0   900002592 2013-04-17   TSLA   \n",
       "1  9000012760 2014-04-24   TSLA   \n",
       "\n",
       "                                     event_headline    meeting_type  \\\n",
       "0        TESLA MOTORS announces Shareholder Meeting  Annual Meeting   \n",
       "1  Tesla Motors, Inc. announces Shareholder Meeting  Annual Meeting   \n",
       "\n",
       "  record_date meeting_date  timestamp    sid  \n",
       "0  2013-04-10   2013-06-04 2013-04-18  39840  \n",
       "1  2014-04-10   2014-06-03 2014-04-25  39840  "
      ]
     },
     "execution_count": 5,
     "metadata": {},
     "output_type": "execute_result"
    }
   ],
   "source": [
    "# get tesla's sid first\n",
    "tesla_sid = symbols('TSLA').sid\n",
    "meetings = shareholder_meetings[('2012-12-31' < shareholder_meetings['asof_date']) & \n",
    "                                (shareholder_meetings['asof_date'] <'2015-01-01') & \n",
    "                                (shareholder_meetings.sid == tesla_sid)]\n",
    "# When displaying a Blaze Data Object, the printout is automatically truncated to ten rows.\n",
    "meetings.sort('asof_date')"
   ]
  },
  {
   "cell_type": "markdown",
   "metadata": {},
   "source": [
    "Now suppose we want a DataFrame of the Blaze Data Object above, but only want the `record_date, meeting_date`, and `sid`."
   ]
  },
  {
   "cell_type": "code",
   "execution_count": 6,
   "metadata": {
    "collapsed": false
   },
   "outputs": [
    {
     "data": {
      "text/html": [
       "<div style=\"max-height:1000px;max-width:1500px;overflow:auto;\">\n",
       "<table border=\"1\" class=\"dataframe\">\n",
       "  <thead>\n",
       "    <tr style=\"text-align: right;\">\n",
       "      <th></th>\n",
       "      <th>record_date</th>\n",
       "      <th>meeting_date</th>\n",
       "      <th>sid</th>\n",
       "    </tr>\n",
       "  </thead>\n",
       "  <tbody>\n",
       "    <tr>\n",
       "      <th>0</th>\n",
       "      <td>2013-04-10</td>\n",
       "      <td>2013-06-04</td>\n",
       "      <td>39840</td>\n",
       "    </tr>\n",
       "    <tr>\n",
       "      <th>1</th>\n",
       "      <td>2014-04-10</td>\n",
       "      <td>2014-06-03</td>\n",
       "      <td>39840</td>\n",
       "    </tr>\n",
       "  </tbody>\n",
       "</table>\n",
       "</div>"
      ],
      "text/plain": [
       "  record_date meeting_date    sid\n",
       "0  2013-04-10   2013-06-04  39840\n",
       "1  2014-04-10   2014-06-03  39840"
      ]
     },
     "execution_count": 6,
     "metadata": {},
     "output_type": "execute_result"
    }
   ],
   "source": [
    "df = odo(meetings, pd.DataFrame)\n",
    "df = df[['record_date','meeting_date','sid']]\n",
    "df"
   ]
  },
  {
   "cell_type": "code",
   "execution_count": null,
   "metadata": {
    "collapsed": true
   },
   "outputs": [],
   "source": []
  }
 ],
 "metadata": {
  "kernelspec": {
   "display_name": "Python 2",
   "language": "python",
   "name": "python2"
  },
  "language_info": {
   "codemirror_mode": {
    "name": "ipython",
    "version": 2
   },
   "file_extension": ".py",
   "mimetype": "text/x-python",
   "name": "python",
   "nbconvert_exporter": "python",
   "pygments_lexer": "ipython2",
   "version": "2.7.10"
  }
 },
 "nbformat": 4,
 "nbformat_minor": 0
}