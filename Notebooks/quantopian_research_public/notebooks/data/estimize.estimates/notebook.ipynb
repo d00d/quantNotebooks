{
 "cells": [
  {
   "cell_type": "markdown",
   "metadata": {
    "collapsed": true
   },
   "source": [
    "# Estimize: Analyst-by-Analyst Estimates\n",
    "\n",
    "In this notebook, we'll take a look at Estimizes's *Analyst-by-Analyst Estimates* dataset, available on the [Quantopian](https://www.quantopian.com/store). This dataset spans January, 2010 through the current day.\n",
    "\n",
    "This data contains a record for every estimate made by an individual on the Estimize product. By comparison, the Estimize Revisions product provides rolled-up consensus numbers for each possible earnings announcement.\n",
    "\n",
    "In this notebook, we'll examine these detailed estimates and pull in that consensus data as well.\n",
    "\n",
    "### Blaze\n",
    "Before we dig into the data, we want to tell you about how  you generally access Quantopian Store data sets. These datasets are available using the [Blaze](http://blaze.pydata.org) library. Blaze provides the Quantopian user with a convenient interface to access very large datasets.\n",
    "\n",
    "Blaze provides an important function for accessing these datasets. Some of these sets are many millions of records. Bringing that data directly into Quantopian Research directly just is not viable. So Blaze allows us to provide a simple querying interface and shift the burden over to the server side.\n",
    "\n",
    "To learn more about using Blaze and generally accessing Quantopian Store data, clone [this tutorial notebook](https://www.quantopian.com/clone_notebook?id=561827d21777f45c97000054).\n",
    "\n",
    "### Free samples and limits\n",
    "A few key caveats:\n",
    "\n",
    "1) We limit the number of results returned from any given expression to 10,000 to protect against runaway memory usage. To be clear, you have access to all the data server side. We are limiting the size of the responses back from Blaze.\n",
    "\n",
    "2) There is a *free* version of this dataset as well as a paid one. The free one includes about three years of historical data, though not up to the current day.\n",
    "\n",
    "With preamble in place, let's get started:"
   ]
  },
  {
   "cell_type": "code",
   "execution_count": 1,
   "metadata": {
    "collapsed": false
   },
   "outputs": [],
   "source": [
    "# import the free sample of the dataset\n",
    "from quantopian.interactive.data.estimize import estimates_free\n",
    "\n",
    "# or if you want to import the full dataset, use:\n",
    "# from quantopian.interactive.data.estimize import estimates\n",
    "\n",
    "# import data operations\n",
    "from odo import odo\n",
    "# import other libraries we will use\n",
    "import pandas as pd\n",
    "import matplotlib.pyplot as plt"
   ]
  },
  {
   "cell_type": "code",
   "execution_count": 2,
   "metadata": {
    "collapsed": false
   },
   "outputs": [
    {
     "data": {
      "text/plain": [
       "dshape(\"\"\"var * {\n",
       "  analyst_id: ?string,\n",
       "  asof_date: datetime,\n",
       "  eps: ?float64,\n",
       "  fiscal_quarter: ?float64,\n",
       "  fiscal_year: ?float64,\n",
       "  id: ?string,\n",
       "  revenue: ?float64,\n",
       "  symbol: ?string,\n",
       "  username: ?string,\n",
       "  timestamp: datetime,\n",
       "  sid: ?int64\n",
       "  }\"\"\")"
      ]
     },
     "execution_count": 2,
     "metadata": {},
     "output_type": "execute_result"
    }
   ],
   "source": [
    "# Let's use blaze to understand the data a bit using Blaze dshape()\n",
    "estimates_free.dshape"
   ]
  },
  {
   "cell_type": "code",
   "execution_count": 3,
   "metadata": {
    "collapsed": false
   },
   "outputs": [
    {
     "data": {
      "text/html": [
       "120400"
      ],
      "text/plain": [
       "120400"
      ]
     },
     "execution_count": 3,
     "metadata": {},
     "output_type": "execute_result"
    }
   ],
   "source": [
    "# And how many rows are in this free sample?\n",
    "# N.B. we're using a Blaze function to do this, not len()\n",
    "estimates_free.count()"
   ]
  },
  {
   "cell_type": "code",
   "execution_count": 4,
   "metadata": {
    "collapsed": false
   },
   "outputs": [
    {
     "data": {
      "text/html": [
       "<table border=\"1\" class=\"dataframe\">\n",
       "  <thead>\n",
       "    <tr style=\"text-align: right;\">\n",
       "      <th></th>\n",
       "      <th>analyst_id</th>\n",
       "      <th>asof_date</th>\n",
       "      <th>eps</th>\n",
       "      <th>fiscal_quarter</th>\n",
       "      <th>fiscal_year</th>\n",
       "      <th>id</th>\n",
       "      <th>revenue</th>\n",
       "      <th>symbol</th>\n",
       "      <th>username</th>\n",
       "      <th>timestamp</th>\n",
       "      <th>sid</th>\n",
       "    </tr>\n",
       "  </thead>\n",
       "  <tbody>\n",
       "    <tr>\n",
       "      <th>0</th>\n",
       "      <td>4e679bb77cb02d0b6700000f</td>\n",
       "      <td>2010-01-02 17:00:00</td>\n",
       "      <td>0.90</td>\n",
       "      <td>1</td>\n",
       "      <td>2011</td>\n",
       "      <td>4e6dee5a7cb02d2adc000014</td>\n",
       "      <td>26430</td>\n",
       "      <td>AAPL</td>\n",
       "      <td>postsateventide</td>\n",
       "      <td>2010-01-02 17:20:00</td>\n",
       "      <td>24</td>\n",
       "    </tr>\n",
       "    <tr>\n",
       "      <th>1</th>\n",
       "      <td>4e679bb77cb02d0b67000005</td>\n",
       "      <td>2010-09-28 16:00:00</td>\n",
       "      <td>0.63</td>\n",
       "      <td>4</td>\n",
       "      <td>2010</td>\n",
       "      <td>4e6df18f7cb02d2adc000024</td>\n",
       "      <td>19530</td>\n",
       "      <td>AAPL</td>\n",
       "      <td>DennisHildebrand</td>\n",
       "      <td>2010-09-28 16:20:00</td>\n",
       "      <td>24</td>\n",
       "    </tr>\n",
       "    <tr>\n",
       "      <th>2</th>\n",
       "      <td>4e679bb87cb02d0b6700001b</td>\n",
       "      <td>2010-09-28 16:00:00</td>\n",
       "      <td>0.71</td>\n",
       "      <td>4</td>\n",
       "      <td>2010</td>\n",
       "      <td>4e6df0977cb02d2adc00001f</td>\n",
       "      <td>20500</td>\n",
       "      <td>AAPL</td>\n",
       "      <td>asymco</td>\n",
       "      <td>2010-09-28 16:20:00</td>\n",
       "      <td>24</td>\n",
       "    </tr>\n",
       "  </tbody>\n",
       "</table>"
      ],
      "text/plain": [
       "                 analyst_id           asof_date   eps  fiscal_quarter  \\\n",
       "0  4e679bb77cb02d0b6700000f 2010-01-02 17:00:00  0.90               1   \n",
       "1  4e679bb77cb02d0b67000005 2010-09-28 16:00:00  0.63               4   \n",
       "2  4e679bb87cb02d0b6700001b 2010-09-28 16:00:00  0.71               4   \n",
       "\n",
       "   fiscal_year                        id  revenue symbol          username  \\\n",
       "0         2011  4e6dee5a7cb02d2adc000014    26430   AAPL   postsateventide   \n",
       "1         2010  4e6df18f7cb02d2adc000024    19530   AAPL  DennisHildebrand   \n",
       "2         2010  4e6df0977cb02d2adc00001f    20500   AAPL            asymco   \n",
       "\n",
       "            timestamp  sid  \n",
       "0 2010-01-02 17:20:00   24  \n",
       "1 2010-09-28 16:20:00   24  \n",
       "2 2010-09-28 16:20:00   24  "
      ]
     },
     "execution_count": 4,
     "metadata": {},
     "output_type": "execute_result"
    }
   ],
   "source": [
    "# Let's see what the data looks like. We'll grab the first three rows.\n",
    "estimates_free.head(3)"
   ]
  },
  {
   "cell_type": "markdown",
   "metadata": {},
   "source": [
    "Let's go over the columns:\n",
    "- **analyst_id**: the unique identifier assigned by Estimize for the person making the estimate.\n",
    "- **asof_date**: Estimize's timestamp of event capture.\n",
    "- **eps**: EPS estimate made by the analyst on the `asof_date`\n",
    "- **fiscal_quarter**: fiscal quarter for which this estimate is made, related to `fiscal_year`\n",
    "- **fiscal_year**: fiscal year for which this estimate is made, related to `fiscal_quarter`\n",
    "- **revenue**: revenue estimate made by the analyst on the `asof_date`\n",
    "- **symbol**: ticker symbol provided by Estimize for the company for whom these estimates have been made\n",
    "- **username**: Estimize username of the analyst making this estimate\n",
    "- **timestamp**: the datetime when Quantopian registered the data. For data loaded up via initial, historic loads, this timestamp is an estimate.\n",
    "- **sid**: the equity's unique identifier. Use this instead of the symbol. Derived by Quantopian using the symbol and our market data"
   ]
  },
  {
   "cell_type": "markdown",
   "metadata": {},
   "source": [
    "We've done much of the data processing for you. Fields like `asof_date` and `sid` are standardized across all our Store Datasets, so the datasets are easy to combine. We have standardized the `sid` across all our equity databases.\n",
    "\n",
    "We can select columns and rows with ease. Below, let's just look at the estimates made for TSLA for a particular quarter. Also, we're filtering out some spurious data:"
   ]
  },
  {
   "cell_type": "code",
   "execution_count": 5,
   "metadata": {
    "collapsed": false
   },
   "outputs": [
    {
     "data": {
      "text/html": [
       "<table border=\"1\" class=\"dataframe\">\n",
       "  <thead>\n",
       "    <tr style=\"text-align: right;\">\n",
       "      <th></th>\n",
       "      <th>analyst_id</th>\n",
       "      <th>asof_date</th>\n",
       "      <th>eps</th>\n",
       "      <th>fiscal_quarter</th>\n",
       "      <th>fiscal_year</th>\n",
       "      <th>id</th>\n",
       "      <th>revenue</th>\n",
       "      <th>symbol</th>\n",
       "      <th>username</th>\n",
       "      <th>timestamp</th>\n",
       "      <th>sid</th>\n",
       "    </tr>\n",
       "  </thead>\n",
       "  <tbody>\n",
       "    <tr>\n",
       "      <th>0</th>\n",
       "      <td>500ee59d810f8d1c49000091</td>\n",
       "      <td>2013-05-30 19:00:13</td>\n",
       "      <td>0.08</td>\n",
       "      <td>1</td>\n",
       "      <td>2014</td>\n",
       "      <td>51a7a1bd810f8d6e27000362</td>\n",
       "      <td>500</td>\n",
       "      <td>TSLA</td>\n",
       "      <td>hsctiger2009</td>\n",
       "      <td>2013-05-30 19:20:13</td>\n",
       "      <td>39840</td>\n",
       "    </tr>\n",
       "    <tr>\n",
       "      <th>1</th>\n",
       "      <td>4f997632810f8d1aaf0001ec</td>\n",
       "      <td>2013-09-18 14:11:45</td>\n",
       "      <td>0.35</td>\n",
       "      <td>1</td>\n",
       "      <td>2014</td>\n",
       "      <td>5239b4a1b7529b033a001ecc</td>\n",
       "      <td>700</td>\n",
       "      <td>TSLA</td>\n",
       "      <td>aarkayne</td>\n",
       "      <td>2013-09-18 14:31:45</td>\n",
       "      <td>39840</td>\n",
       "    </tr>\n",
       "    <tr>\n",
       "      <th>2</th>\n",
       "      <td>500ee59d810f8d1c49000091</td>\n",
       "      <td>2013-09-20 21:56:58</td>\n",
       "      <td>0.33</td>\n",
       "      <td>1</td>\n",
       "      <td>2014</td>\n",
       "      <td>523cc4aab7529b009b00b0e1</td>\n",
       "      <td>620</td>\n",
       "      <td>TSLA</td>\n",
       "      <td>hsctiger2009</td>\n",
       "      <td>2013-09-20 22:16:58</td>\n",
       "      <td>39840</td>\n",
       "    </tr>\n",
       "    <tr>\n",
       "      <th>3</th>\n",
       "      <td>500ee59d810f8d1c49000091</td>\n",
       "      <td>2013-09-26 16:40:26</td>\n",
       "      <td>0.35</td>\n",
       "      <td>1</td>\n",
       "      <td>2014</td>\n",
       "      <td>5244637ab7529bb85c033499</td>\n",
       "      <td>620</td>\n",
       "      <td>TSLA</td>\n",
       "      <td>hsctiger2009</td>\n",
       "      <td>2013-09-26 17:00:26</td>\n",
       "      <td>39840</td>\n",
       "    </tr>\n",
       "    <tr>\n",
       "      <th>4</th>\n",
       "      <td>524990dfb7529b150a01af9a</td>\n",
       "      <td>2013-09-30 15:49:41</td>\n",
       "      <td>0.30</td>\n",
       "      <td>1</td>\n",
       "      <td>2014</td>\n",
       "      <td>52499d95b7529b6c8201d1ef</td>\n",
       "      <td>590</td>\n",
       "      <td>TSLA</td>\n",
       "      <td>wjhughes</td>\n",
       "      <td>2013-09-30 16:09:41</td>\n",
       "      <td>39840</td>\n",
       "    </tr>\n",
       "  </tbody>\n",
       "</table>"
      ],
      "text/plain": [
       "                 analyst_id           asof_date   eps  fiscal_quarter  \\\n",
       "0  500ee59d810f8d1c49000091 2013-05-30 19:00:13  0.08               1   \n",
       "1  4f997632810f8d1aaf0001ec 2013-09-18 14:11:45  0.35               1   \n",
       "2  500ee59d810f8d1c49000091 2013-09-20 21:56:58  0.33               1   \n",
       "3  500ee59d810f8d1c49000091 2013-09-26 16:40:26  0.35               1   \n",
       "4  524990dfb7529b150a01af9a 2013-09-30 15:49:41  0.30               1   \n",
       "\n",
       "   fiscal_year                        id  revenue symbol      username  \\\n",
       "0         2014  51a7a1bd810f8d6e27000362      500   TSLA  hsctiger2009   \n",
       "1         2014  5239b4a1b7529b033a001ecc      700   TSLA      aarkayne   \n",
       "2         2014  523cc4aab7529b009b00b0e1      620   TSLA  hsctiger2009   \n",
       "3         2014  5244637ab7529bb85c033499      620   TSLA  hsctiger2009   \n",
       "4         2014  52499d95b7529b6c8201d1ef      590   TSLA      wjhughes   \n",
       "\n",
       "            timestamp    sid  \n",
       "0 2013-05-30 19:20:13  39840  \n",
       "1 2013-09-18 14:31:45  39840  \n",
       "2 2013-09-20 22:16:58  39840  \n",
       "3 2013-09-26 17:00:26  39840  \n",
       "4 2013-09-30 16:09:41  39840  "
      ]
     },
     "execution_count": 5,
     "metadata": {},
     "output_type": "execute_result"
    }
   ],
   "source": [
    "stocks = symbols('TSLA')\n",
    "one_quarter = estimates_free[(estimates_free.sid == stocks.sid) &\n",
    "                 (estimates_free.fiscal_year == '2014') &\n",
    "                 (estimates_free.fiscal_quarter == '1') &\n",
    "                 (estimates_free.eps < 100)\n",
    "                ]\n",
    "one_quarter.head(5)"
   ]
  },
  {
   "cell_type": "markdown",
   "metadata": {},
   "source": [
    "How many records do we have now?"
   ]
  },
  {
   "cell_type": "code",
   "execution_count": 6,
   "metadata": {
    "collapsed": false,
    "scrolled": true
   },
   "outputs": [
    {
     "data": {
      "text/html": [
       "136"
      ],
      "text/plain": [
       "136"
      ]
     },
     "execution_count": 6,
     "metadata": {},
     "output_type": "execute_result"
    }
   ],
   "source": [
    "one_quarter.count()"
   ]
  },
  {
   "cell_type": "markdown",
   "metadata": {},
   "source": [
    "Let's break it down by user:"
   ]
  },
  {
   "cell_type": "code",
   "execution_count": 7,
   "metadata": {
    "collapsed": false
   },
   "outputs": [
    {
     "data": {
      "text/html": [
       "<table border=\"1\" class=\"dataframe\">\n",
       "  <thead>\n",
       "    <tr style=\"text-align: right;\">\n",
       "      <th></th>\n",
       "      <th>username</th>\n",
       "      <th>count</th>\n",
       "    </tr>\n",
       "  </thead>\n",
       "  <tbody>\n",
       "    <tr>\n",
       "      <th>0</th>\n",
       "      <td>Analyst_7066456</td>\n",
       "      <td>3</td>\n",
       "    </tr>\n",
       "    <tr>\n",
       "      <th>1</th>\n",
       "      <td>Cwill</td>\n",
       "      <td>3</td>\n",
       "    </tr>\n",
       "    <tr>\n",
       "      <th>2</th>\n",
       "      <td>hsctiger2009</td>\n",
       "      <td>3</td>\n",
       "    </tr>\n",
       "    <tr>\n",
       "      <th>3</th>\n",
       "      <td>a76marine</td>\n",
       "      <td>3</td>\n",
       "    </tr>\n",
       "    <tr>\n",
       "      <th>4</th>\n",
       "      <td>wjbuckner</td>\n",
       "      <td>3</td>\n",
       "    </tr>\n",
       "    <tr>\n",
       "      <th>5</th>\n",
       "      <td>phi16</td>\n",
       "      <td>3</td>\n",
       "    </tr>\n",
       "    <tr>\n",
       "      <th>6</th>\n",
       "      <td>Mgspooner</td>\n",
       "      <td>3</td>\n",
       "    </tr>\n",
       "    <tr>\n",
       "      <th>7</th>\n",
       "      <td>Essential</td>\n",
       "      <td>2</td>\n",
       "    </tr>\n",
       "    <tr>\n",
       "      <th>8</th>\n",
       "      <td>Nils1975</td>\n",
       "      <td>2</td>\n",
       "    </tr>\n",
       "    <tr>\n",
       "      <th>9</th>\n",
       "      <td>Cassanova23</td>\n",
       "      <td>2</td>\n",
       "    </tr>\n",
       "    <tr>\n",
       "      <th>10</th>\n",
       "      <td>golfinguy224</td>\n",
       "      <td>2</td>\n",
       "    </tr>\n",
       "  </tbody>\n",
       "</table>"
      ],
      "text/plain": [
       "           username  count\n",
       "0   Analyst_7066456      3\n",
       "1             Cwill      3\n",
       "2      hsctiger2009      3\n",
       "3         a76marine      3\n",
       "4         wjbuckner      3\n",
       "5             phi16      3\n",
       "6         Mgspooner      3\n",
       "7         Essential      2\n",
       "8          Nils1975      2\n",
       "9       Cassanova23      2\n",
       "..."
      ]
     },
     "execution_count": 7,
     "metadata": {},
     "output_type": "execute_result"
    }
   ],
   "source": [
    "one_quarter.username.count_values()"
   ]
  },
  {
   "cell_type": "markdown",
   "metadata": {},
   "source": [
    "Let's convert it over to a Pandas DataFrame so we can chart it and examine it closer"
   ]
  },
  {
   "cell_type": "code",
   "execution_count": 31,
   "metadata": {
    "collapsed": false
   },
   "outputs": [
    {
     "data": {
      "text/plain": [
       "<matplotlib.legend.Legend at 0x7f6c66b172d0>"
      ]
     },
     "execution_count": 31,
     "metadata": {},
     "output_type": "execute_result"
    },
    {
     "data": {
      "image/png": "[encoded data removed]",
      "text/plain": [
       "<matplotlib.figure.Figure at 0x7f6c66f50310>"
      ]
     },
     "metadata": {},
     "output_type": "display_data"
    }
   ],
   "source": [
    "one_q_df = odo(one_quarter.sort('asof_date'), pd.DataFrame)\n",
    "plt.plot(one_q_df.asof_date, one_q_df.eps, marker='.', linestyle='None', color='r')\n",
    "plt.xlabel(\"As Of Date (asof_date)\")\n",
    "plt.ylabel(\"EPS Estimate\")\n",
    "plt.title(\"Analyst by Analyst EPS Estimates for TSLA\")\n",
    "plt.legend([\"Individual Estimate\"], loc=2)"
   ]
  },
  {
   "cell_type": "markdown",
   "metadata": {},
   "source": [
    "That's neat. But let's add in some data from another dataset -- the Estimize Revisions data. For the same timeframe, the revisions data provides each revision to the overall consensus estimates. So where `estimates_free` data provides every single estimate made by an individual on the Estimize site, `revisions_free` provides rolled up summaries of the estimates."
   ]
  },
  {
   "cell_type": "code",
   "execution_count": 32,
   "metadata": {
    "collapsed": false
   },
   "outputs": [],
   "source": [
    "from quantopian.interactive.data.estimize import revisions_free\n",
    "consensus = revisions_free[(revisions_free.sid == stocks.sid) &\n",
    "                 (revisions_free.fiscal_year == '2014') &\n",
    "                 (revisions_free.fiscal_quarter == '1') &\n",
    "                 (revisions_free.source == 'estimize') &\n",
    "                 (revisions_free.metric == 'eps')\n",
    "                ]"
   ]
  },
  {
   "cell_type": "code",
   "execution_count": 33,
   "metadata": {
    "collapsed": false
   },
   "outputs": [
    {
     "data": {
      "text/html": [
       "<table border=\"1\" class=\"dataframe\">\n",
       "  <thead>\n",
       "    <tr style=\"text-align: right;\">\n",
       "      <th></th>\n",
       "      <th>count</th>\n",
       "      <th>high</th>\n",
       "      <th>low</th>\n",
       "      <th>mean</th>\n",
       "      <th>metric</th>\n",
       "      <th>source</th>\n",
       "      <th>standard_deviation</th>\n",
       "      <th>asof_date</th>\n",
       "      <th>consensus_eps_estimate</th>\n",
       "      <th>consensus_revenue_estimate</th>\n",
       "      <th>eps</th>\n",
       "      <th>fiscal_quarter</th>\n",
       "      <th>fiscal_year</th>\n",
       "      <th>id</th>\n",
       "      <th>name</th>\n",
       "      <th>release_date</th>\n",
       "      <th>revenue</th>\n",
       "      <th>symbol</th>\n",
       "      <th>wallstreet_eps_estimate</th>\n",
       "      <th>wallstreet_revenue_estimate</th>\n",
       "      <th>timestamp</th>\n",
       "      <th>sid</th>\n",
       "    </tr>\n",
       "  </thead>\n",
       "  <tbody>\n",
       "    <tr>\n",
       "      <th>0</th>\n",
       "      <td>112</td>\n",
       "      <td>0.42</td>\n",
       "      <td>0.04</td>\n",
       "      <td>0.210357</td>\n",
       "      <td>eps</td>\n",
       "      <td>estimize</td>\n",
       "      <td>0.095823</td>\n",
       "      <td>2014-05-07 19:22:15.904000</td>\n",
       "      <td>0.210714285714286</td>\n",
       "      <td>719.256071428571</td>\n",
       "      <td>0.12</td>\n",
       "      <td>1</td>\n",
       "      <td>2014</td>\n",
       "      <td>510c4310810f8d63ab004f49</td>\n",
       "      <td>Tesla Motors, Inc.</td>\n",
       "      <td>2014-05-07 20:00:00</td>\n",
       "      <td>713.0</td>\n",
       "      <td>TSLA</td>\n",
       "      <td>0.08</td>\n",
       "      <td>693.425</td>\n",
       "      <td>2014-05-07 19:42:15.904000</td>\n",
       "      <td>39840</td>\n",
       "    </tr>\n",
       "    <tr>\n",
       "      <th>1</th>\n",
       "      <td>111</td>\n",
       "      <td>0.42</td>\n",
       "      <td>0.04</td>\n",
       "      <td>0.211622</td>\n",
       "      <td>eps</td>\n",
       "      <td>estimize</td>\n",
       "      <td>0.095319</td>\n",
       "      <td>2014-05-07 19:08:04.281000</td>\n",
       "      <td>0.210714285714286</td>\n",
       "      <td>719.256071428571</td>\n",
       "      <td>0.12</td>\n",
       "      <td>1</td>\n",
       "      <td>2014</td>\n",
       "      <td>510c4310810f8d63ab004f49</td>\n",
       "      <td>Tesla Motors, Inc.</td>\n",
       "      <td>2014-05-07 20:00:00</td>\n",
       "      <td>713.0</td>\n",
       "      <td>TSLA</td>\n",
       "      <td>0.08</td>\n",
       "      <td>693.425</td>\n",
       "      <td>2014-05-07 19:28:04.281000</td>\n",
       "      <td>39840</td>\n",
       "    </tr>\n",
       "    <tr>\n",
       "      <th>2</th>\n",
       "      <td>110</td>\n",
       "      <td>0.42</td>\n",
       "      <td>0.04</td>\n",
       "      <td>0.212727</td>\n",
       "      <td>eps</td>\n",
       "      <td>estimize</td>\n",
       "      <td>0.095040</td>\n",
       "      <td>2014-05-07 18:38:08.005000</td>\n",
       "      <td>0.210714285714286</td>\n",
       "      <td>719.256071428571</td>\n",
       "      <td>0.12</td>\n",
       "      <td>1</td>\n",
       "      <td>2014</td>\n",
       "      <td>510c4310810f8d63ab004f49</td>\n",
       "      <td>Tesla Motors, Inc.</td>\n",
       "      <td>2014-05-07 20:00:00</td>\n",
       "      <td>713.0</td>\n",
       "      <td>TSLA</td>\n",
       "      <td>0.08</td>\n",
       "      <td>693.425</td>\n",
       "      <td>2014-05-07 18:58:08.005000</td>\n",
       "      <td>39840</td>\n",
       "    </tr>\n",
       "  </tbody>\n",
       "</table>"
      ],
      "text/plain": [
       "   count  high   low      mean metric    source  standard_deviation  \\\n",
       "0    112  0.42  0.04  0.210357    eps  estimize            0.095823   \n",
       "1    111  0.42  0.04  0.211622    eps  estimize            0.095319   \n",
       "2    110  0.42  0.04  0.212727    eps  estimize            0.095040   \n",
       "\n",
       "                   asof_date consensus_eps_estimate  \\\n",
       "0 2014-05-07 19:22:15.904000      0.210714285714286   \n",
       "1 2014-05-07 19:08:04.281000      0.210714285714286   \n",
       "2 2014-05-07 18:38:08.005000      0.210714285714286   \n",
       "\n",
       "  consensus_revenue_estimate  ...   fiscal_year                        id  \\\n",
       "0           719.256071428571  ...          2014  510c4310810f8d63ab004f49   \n",
       "1           719.256071428571  ...          2014  510c4310810f8d63ab004f49   \n",
       "2           719.256071428571  ...          2014  510c4310810f8d63ab004f49   \n",
       "\n",
       "                 name        release_date revenue symbol  \\\n",
       "0  Tesla Motors, Inc. 2014-05-07 20:00:00   713.0   TSLA   \n",
       "1  Tesla Motors, Inc. 2014-05-07 20:00:00   713.0   TSLA   \n",
       "2  Tesla Motors, Inc. 2014-05-07 20:00:00   713.0   TSLA   \n",
       "\n",
       "  wallstreet_eps_estimate wallstreet_revenue_estimate  \\\n",
       "0                    0.08                     693.425   \n",
       "1                    0.08                     693.425   \n",
       "2                    0.08                     693.425   \n",
       "\n",
       "                   timestamp    sid  \n",
       "0 2014-05-07 19:42:15.904000  39840  \n",
       "1 2014-05-07 19:28:04.281000  39840  \n",
       "2 2014-05-07 18:58:08.005000  39840  \n",
       "\n",
       "[3 rows x 22 columns]"
      ]
     },
     "execution_count": 33,
     "metadata": {},
     "output_type": "execute_result"
    }
   ],
   "source": [
    "consensus.head(3)"
   ]
  },
  {
   "cell_type": "markdown",
   "metadata": {},
   "source": [
    "For this quick demonstration, let's just grab the consensus mean from the `revisions_free` data set and convert it over to Pandas. Note, we need to rename the `mean` column name because it causes problems otherwise:"
   ]
  },
  {
   "cell_type": "code",
   "execution_count": 13,
   "metadata": {
    "collapsed": true
   },
   "outputs": [],
   "source": [
    "consensus_df = odo(consensus[['asof_date', 'mean']].sort('asof_date'), pd.DataFrame)\n",
    "consensus_df.rename(columns={'mean':'eps_mean'}, inplace=True)"
   ]
  },
  {
   "cell_type": "markdown",
   "metadata": {},
   "source": [
    "Let's chart that in the same chart again so we get a trend of the mean over time, overlayed on a chart of each individual analyst estimate:"
   ]
  },
  {
   "cell_type": "code",
   "execution_count": 30,
   "metadata": {
    "collapsed": false
   },
   "outputs": [
    {
     "data": {
      "text/plain": [
       "<matplotlib.legend.Legend at 0x7f6c66ba1dd0>"
      ]
     },
     "execution_count": 30,
     "metadata": {},
     "output_type": "execute_result"
    },
    {
     "data": {
      "image/png": "[encoded data removed]",
      "text/plain": [
       "<matplotlib.figure.Figure at 0x7f6c66bafd50>"
      ]
     },
     "metadata": {},
     "output_type": "display_data"
    }
   ],
   "source": [
    "plt.plot(consensus_df.asof_date, consensus_df.eps_mean)\n",
    "plt.plot(one_q_df.asof_date, one_q_df.eps, marker='.', linestyle='None', color='r')\n",
    "plt.xlabel(\"As Of Date (asof_date)\")\n",
    "plt.ylabel(\"EPS Estimate\")\n",
    "plt.title(\"EPS Estimates for TSLA\")\n",
    "plt.legend([\"Mean Estimate\", \"Individual Estimates\"], loc=2)"
   ]
  }
 ],
 "metadata": {
  "kernelspec": {
   "display_name": "Python 2",
   "language": "python",
   "name": "python2"
  },
  "language_info": {
   "codemirror_mode": {
    "name": "ipython",
    "version": 2
   },
   "file_extension": ".py",
   "mimetype": "text/x-python",
   "name": "python",
   "nbconvert_exporter": "python",
   "pygments_lexer": "ipython2",
   "version": "2.7.10"
  }
 },
 "nbformat": 4,
 "nbformat_minor": 0
}