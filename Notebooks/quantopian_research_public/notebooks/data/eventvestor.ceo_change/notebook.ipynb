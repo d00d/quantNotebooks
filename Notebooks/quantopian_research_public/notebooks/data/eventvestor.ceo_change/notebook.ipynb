{
 "cells": [
  {
   "cell_type": "markdown",
   "metadata": {
    "collapsed": true
   },
   "source": [
    "# EventVestor: CEO Changes\n",
    "\n",
    "In this notebook, we'll take a look at EventVestor's *CEO Changes* dataset, available on the [Quantopian Store](https://www.quantopian.com/store). This dataset spans January 01, 2007 through the current day.\n",
    "\n",
    "### Blaze\n",
    "Before we dig into the data, we want to tell you about how  you generally access Quantopian Store data sets. These datasets are available through an API service known as [Blaze](http://blaze.pydata.org). Blaze provides the Quantopian user with a convenient interface to access very large datasets.\n",
    "\n",
    "Blaze provides an important function for accessing these datasets. Some of these sets are many millions of records. Bringing that data directly into Quantopian Research directly just is not viable. So Blaze allows us to provide a simple querying interface and shift the burden over to the server side.\n",
    "\n",
    "It is common to use Blaze to reduce your dataset in size, convert it over to Pandas and then to use Pandas for further computation, manipulation and visualization.\n",
    "\n",
    "Helpful links:\n",
    "* [Query building for Blaze](http://blaze.pydata.org/en/latest/queries.html)\n",
    "* [Pandas-to-Blaze dictionary](http://blaze.pydata.org/en/latest/rosetta-pandas.html)\n",
    "* [SQL-to-Blaze dictionary](http://blaze.pydata.org/en/latest/rosetta-sql.html).\n",
    "\n",
    "Once you've limited the size of your Blaze object, you can convert it to a Pandas DataFrames using:\n",
    "> `from odo import odo`  \n",
    "> `odo(expr, pandas.DataFrame)`\n",
    "\n",
    "### Free samples and limits\n",
    "One other key caveat: we limit the number of results returned from any given expression to 10,000 to protect against runaway memory usage. To be clear, you have access to all the data server side. We are limiting the size of the responses back from Blaze.\n",
    "\n",
    "There is a *free* version of this dataset as well as a paid one. The free one includes about three years of historical data, though not up to the current day.\n",
    "\n",
    "With preamble in place, let's get started:"
   ]
  },
  {
   "cell_type": "code",
   "execution_count": 3,
   "metadata": {
    "collapsed": false
   },
   "outputs": [],
   "source": [
    "# import the dataset\n",
    "from quantopian.interactive.data.eventvestor import ceo_change\n",
    "# or if you want to import the free dataset, use:\n",
    "# from quantopian.data.eventvestor import ceo_change_free\n",
    "\n",
    "# import data operations\n",
    "from odo import odo\n",
    "# import other libraries we will use\n",
    "import pandas as pd"
   ]
  },
  {
   "cell_type": "code",
   "execution_count": 4,
   "metadata": {
    "collapsed": false
   },
   "outputs": [
    {
     "data": {
      "text/plain": [
       "dshape(\"\"\"var * {\n",
       "  event_id: ?float64,\n",
       "  asof_date: datetime,\n",
       "  trade_date: ?datetime,\n",
       "  symbol: ?string,\n",
       "  event_type: ?string,\n",
       "  event_headline: ?string,\n",
       "  change_status: ?string,\n",
       "  change_scenario: ?string,\n",
       "  change_type: ?string,\n",
       "  change_source: ?string,\n",
       "  change_reason: ?string,\n",
       "  in_ceoname: ?string,\n",
       "  in_ceogender: ?string,\n",
       "  out_ceoname: ?string,\n",
       "  out_ceogender: ?string,\n",
       "  effective_date: ?datetime,\n",
       "  event_rating: ?float64,\n",
       "  timestamp: datetime,\n",
       "  sid: ?int64\n",
       "  }\"\"\")"
      ]
     },
     "execution_count": 4,
     "metadata": {},
     "output_type": "execute_result"
    }
   ],
   "source": [
    "# Let's use blaze to understand the data a bit using Blaze dshape()\n",
    "ceo_change.dshape"
   ]
  },
  {
   "cell_type": "code",
   "execution_count": 5,
   "metadata": {
    "collapsed": false
   },
   "outputs": [
    {
     "data": {
      "text/html": [
       "4324"
      ],
      "text/plain": [
       "4324"
      ]
     },
     "execution_count": 5,
     "metadata": {},
     "output_type": "execute_result"
    }
   ],
   "source": [
    "# And how many rows are there?\n",
    "# N.B. we're using a Blaze function to do this, not len()\n",
    "ceo_change.count()"
   ]
  },
  {
   "cell_type": "code",
   "execution_count": 6,
   "metadata": {
    "collapsed": false
   },
   "outputs": [
    {
     "data": {
      "text/html": [
       "<table border=\"1\" class=\"dataframe\">\n",
       "  <thead>\n",
       "    <tr style=\"text-align: right;\">\n",
       "      <th></th>\n",
       "      <th>event_id</th>\n",
       "      <th>asof_date</th>\n",
       "      <th>trade_date</th>\n",
       "      <th>symbol</th>\n",
       "      <th>event_type</th>\n",
       "      <th>event_headline</th>\n",
       "      <th>change_status</th>\n",
       "      <th>change_scenario</th>\n",
       "      <th>change_type</th>\n",
       "      <th>change_source</th>\n",
       "      <th>change_reason</th>\n",
       "      <th>in_ceoname</th>\n",
       "      <th>in_ceogender</th>\n",
       "      <th>out_ceoname</th>\n",
       "      <th>out_ceogender</th>\n",
       "      <th>effective_date</th>\n",
       "      <th>event_rating</th>\n",
       "      <th>timestamp</th>\n",
       "      <th>sid</th>\n",
       "    </tr>\n",
       "  </thead>\n",
       "  <tbody>\n",
       "    <tr>\n",
       "      <th>0</th>\n",
       "      <td>134628</td>\n",
       "      <td>2007-01-03</td>\n",
       "      <td>2007-01-03</td>\n",
       "      <td>HD</td>\n",
       "      <td>CEO Change</td>\n",
       "      <td>Home Depot CEO Steps Down</td>\n",
       "      <td>Declaration</td>\n",
       "      <td>In/Out</td>\n",
       "      <td>Permanent</td>\n",
       "      <td>Succession</td>\n",
       "      <td>Resign</td>\n",
       "      <td>Frank Blake,</td>\n",
       "      <td>Male</td>\n",
       "      <td>Robert Nardelli</td>\n",
       "      <td>Male</td>\n",
       "      <td>2007-01-02</td>\n",
       "      <td>1</td>\n",
       "      <td>2007-01-04</td>\n",
       "      <td>3496</td>\n",
       "    </tr>\n",
       "    <tr>\n",
       "      <th>1</th>\n",
       "      <td>1133605</td>\n",
       "      <td>2007-01-04</td>\n",
       "      <td>2007-01-04</td>\n",
       "      <td>RAIL</td>\n",
       "      <td>CEO Change</td>\n",
       "      <td>FreightCar America CEO John E. Carroll to Reti...</td>\n",
       "      <td>Proposal</td>\n",
       "      <td>In/Out</td>\n",
       "      <td>Permanent</td>\n",
       "      <td>Outsider</td>\n",
       "      <td>Resign</td>\n",
       "      <td>Christian Ragot</td>\n",
       "      <td>Male</td>\n",
       "      <td>John E. Carroll, Jr.</td>\n",
       "      <td>Male</td>\n",
       "      <td>2007-04-30</td>\n",
       "      <td>1</td>\n",
       "      <td>2007-01-05</td>\n",
       "      <td>27161</td>\n",
       "    </tr>\n",
       "    <tr>\n",
       "      <th>2</th>\n",
       "      <td>950064</td>\n",
       "      <td>2007-01-04</td>\n",
       "      <td>2007-01-04</td>\n",
       "      <td>VIRL</td>\n",
       "      <td>CEO Change</td>\n",
       "      <td>Virage Logic CEO Adam Kablanian Resigns; Appoi...</td>\n",
       "      <td>Declaration</td>\n",
       "      <td>In/Out</td>\n",
       "      <td>Permanent</td>\n",
       "      <td>Succession</td>\n",
       "      <td>Out + Retained</td>\n",
       "      <td>Dan McCranie</td>\n",
       "      <td>Male</td>\n",
       "      <td>Adam Kablanian</td>\n",
       "      <td>Male</td>\n",
       "      <td>2007-01-04</td>\n",
       "      <td>1</td>\n",
       "      <td>2007-01-05</td>\n",
       "      <td>21957</td>\n",
       "    </tr>\n",
       "  </tbody>\n",
       "</table>"
      ],
      "text/plain": [
       "   event_id  asof_date trade_date symbol  event_type  \\\n",
       "0    134628 2007-01-03 2007-01-03     HD  CEO Change   \n",
       "1   1133605 2007-01-04 2007-01-04   RAIL  CEO Change   \n",
       "2    950064 2007-01-04 2007-01-04   VIRL  CEO Change   \n",
       "\n",
       "                                      event_headline change_status  \\\n",
       "0                          Home Depot CEO Steps Down   Declaration   \n",
       "1  FreightCar America CEO John E. Carroll to Reti...      Proposal   \n",
       "2  Virage Logic CEO Adam Kablanian Resigns; Appoi...   Declaration   \n",
       "\n",
       "  change_scenario change_type change_source   change_reason       in_ceoname  \\\n",
       "0          In/Out   Permanent    Succession          Resign     Frank Blake,   \n",
       "1          In/Out   Permanent      Outsider          Resign  Christian Ragot   \n",
       "2          In/Out   Permanent    Succession  Out + Retained     Dan McCranie   \n",
       "\n",
       "  in_ceogender           out_ceoname out_ceogender effective_date  \\\n",
       "0         Male       Robert Nardelli          Male     2007-01-02   \n",
       "1         Male  John E. Carroll, Jr.          Male     2007-04-30   \n",
       "2         Male        Adam Kablanian          Male     2007-01-04   \n",
       "\n",
       "   event_rating  timestamp    sid  \n",
       "0             1 2007-01-04   3496  \n",
       "1             1 2007-01-05  27161  \n",
       "2             1 2007-01-05  21957  "
      ]
     },
     "execution_count": 6,
     "metadata": {},
     "output_type": "execute_result"
    }
   ],
   "source": [
    "# Let's see what the data looks like. We'll grab the first three rows.\n",
    "ceo_change[:3]"
   ]
  },
  {
   "cell_type": "markdown",
   "metadata": {},
   "source": [
    "Let's go over the columns:\n",
    "- **event_id**: the unique identifier for this CEO Change.\n",
    "- **asof_date**: EventVestor's timestamp of event capture.\n",
    "- **trade_date**: for event announcements made before trading ends, trade_date is the same as event_date. For announcements issued after market close, trade_date is next market open day.\n",
    "- **symbol**: stock ticker symbol of the affected company.\n",
    "- **event_type**: this should always be *CEO Change*.\n",
    "- **event_headline**: a short description of the event.\n",
    "- **change_status**: indicates whether the change is a proposal or a confirmation.\n",
    "- **change_scenario**: indicates if the CEO Change is *in*, *out*, or both.\n",
    "- **change_type**: indicates if the incoming CEO is interim or permanent.\n",
    "- **change_source**: is the incoming CEO an internal candidate, or recruited from the outside?\n",
    "- **change_reason**: reason for the CEO transition\n",
    "- **in_ceoname**: name of the incoming CEO\n",
    "- **in_ceoname**: gender of the incoming CEO\n",
    "- **out_ceoname**: name of the outgoing CEO\n",
    "- **out_ceogender**: gender of the outgoing CEO\n",
    "- **effective_date**: date as of which the CEO change is effective.\n",
    "- **event_rating**: this is always 1. The meaning of this is uncertain.\n",
    "- **timestamp**: this is our timestamp on when we registered the data.\n",
    "- **sid**: the equity's unique identifier. Use this instead of the symbol."
   ]
  },
  {
   "cell_type": "markdown",
   "metadata": {},
   "source": [
    "We've done much of the data processing for you. Fields like `timestamp` and `sid` are standardized across all our Store Datasets, so the datasets are easy to combine. We have standardized the `sid` across all our equity databases.\n",
    "\n",
    "We can select columns and rows with ease. Below, we'll fetch all entries for Microsoft. We're really only interested in the CEO coming in, the CEO going out, and the date, so we'll display only those columns."
   ]
  },
  {
   "cell_type": "code",
   "execution_count": 7,
   "metadata": {
    "collapsed": false
   },
   "outputs": [
    {
     "data": {
      "text/plain": [
       "Equity(5061, symbol=u'MSFT', asset_name=u'MICROSOFT CORP', exchange=u'NASDAQ GLOBAL SELECT MARKET', start_date=u'Mon, 04 Jan 1993 00:00:00 GMT', end_date=u'Tue, 29 Sep 2015 00:00:00 GMT', first_traded=None)"
      ]
     },
     "execution_count": 7,
     "metadata": {},
     "output_type": "execute_result"
    }
   ],
   "source": [
    "# get the sid for MSFT\n",
    "symbols('MSFT')"
   ]
  },
  {
   "cell_type": "code",
   "execution_count": 8,
   "metadata": {
    "collapsed": false,
    "scrolled": false
   },
   "outputs": [
    {
     "data": {
      "text/html": [
       "<table border=\"1\" class=\"dataframe\">\n",
       "  <thead>\n",
       "    <tr style=\"text-align: right;\">\n",
       "      <th></th>\n",
       "      <th>timestamp</th>\n",
       "      <th>in_ceoname</th>\n",
       "      <th>out_ceoname</th>\n",
       "      <th>change_status</th>\n",
       "    </tr>\n",
       "  </thead>\n",
       "  <tbody>\n",
       "    <tr>\n",
       "      <th>0</th>\n",
       "      <td>2013-08-24</td>\n",
       "      <td>NaN</td>\n",
       "      <td>Steve Ballmer</td>\n",
       "      <td>Declaration</td>\n",
       "    </tr>\n",
       "    <tr>\n",
       "      <th>1</th>\n",
       "      <td>2014-02-05</td>\n",
       "      <td>Satya Nadella</td>\n",
       "      <td>NaN</td>\n",
       "      <td>Declaration</td>\n",
       "    </tr>\n",
       "  </tbody>\n",
       "</table>"
      ],
      "text/plain": [
       "   timestamp     in_ceoname    out_ceoname change_status\n",
       "0 2013-08-24            NaN  Steve Ballmer   Declaration\n",
       "1 2014-02-05  Satya Nadella            NaN   Declaration"
      ]
     },
     "execution_count": 8,
     "metadata": {},
     "output_type": "execute_result"
    }
   ],
   "source": [
    "# knowing that the MSFT sid is 5061:\n",
    "msft = ceo_change[ceo_change.sid==5061][['timestamp','in_ceoname', 'out_ceoname','change_status']].sort('timestamp')\n",
    "msft"
   ]
  },
  {
   "cell_type": "markdown",
   "metadata": {},
   "source": [
    "Note that the `in_ceoname` and `out_ceoname` in these cases were NaNs because there was a long transition period. Steve Ballmer announced his resignation on 2013-08-24, and formally stepped down on 2014-02-05.\n",
    "\n",
    "Let's try another one:"
   ]
  },
  {
   "cell_type": "code",
   "execution_count": 9,
   "metadata": {
    "collapsed": false
   },
   "outputs": [
    {
     "data": {
      "text/html": [
       "<table border=\"1\" class=\"dataframe\">\n",
       "  <thead>\n",
       "    <tr style=\"text-align: right;\">\n",
       "      <th></th>\n",
       "      <th>timestamp</th>\n",
       "      <th>in_ceoname</th>\n",
       "      <th>out_ceoname</th>\n",
       "      <th>change_status</th>\n",
       "    </tr>\n",
       "  </thead>\n",
       "  <tbody>\n",
       "    <tr>\n",
       "      <th>0</th>\n",
       "      <td>2008-07-18</td>\n",
       "      <td>Dirk Meyer</td>\n",
       "      <td>Hector Ruiz</td>\n",
       "      <td>Declaration</td>\n",
       "    </tr>\n",
       "    <tr>\n",
       "      <th>1</th>\n",
       "      <td>2011-01-11</td>\n",
       "      <td>Thomas Seifert</td>\n",
       "      <td>Dirk Meyer</td>\n",
       "      <td>Declaration</td>\n",
       "    </tr>\n",
       "    <tr>\n",
       "      <th>2</th>\n",
       "      <td>2011-08-26</td>\n",
       "      <td>Rory P. Read</td>\n",
       "      <td>NaN</td>\n",
       "      <td>Declaration</td>\n",
       "    </tr>\n",
       "    <tr>\n",
       "      <th>3</th>\n",
       "      <td>2014-10-09</td>\n",
       "      <td>Lisa Su</td>\n",
       "      <td>Rory Read</td>\n",
       "      <td>Declaration</td>\n",
       "    </tr>\n",
       "  </tbody>\n",
       "</table>"
      ],
      "text/plain": [
       "   timestamp      in_ceoname  out_ceoname change_status\n",
       "0 2008-07-18      Dirk Meyer  Hector Ruiz   Declaration\n",
       "1 2011-01-11  Thomas Seifert   Dirk Meyer   Declaration\n",
       "2 2011-08-26    Rory P. Read          NaN   Declaration\n",
       "3 2014-10-09         Lisa Su    Rory Read   Declaration"
      ]
     },
     "execution_count": 9,
     "metadata": {},
     "output_type": "execute_result"
    }
   ],
   "source": [
    "# get the sid for AMD\n",
    "sid_amd = symbols('AMD').sid\n",
    "amd = ceo_change[ceo_change.sid==sid_amd][['timestamp','in_ceoname', 'out_ceoname','change_status']].sort('timestamp')\n",
    "amd"
   ]
  },
  {
   "cell_type": "markdown",
   "metadata": {},
   "source": [
    "Now suppose want to know how many CEO changes there were in the past year in which a female CEO was incoming."
   ]
  },
  {
   "cell_type": "code",
   "execution_count": 10,
   "metadata": {
    "collapsed": false
   },
   "outputs": [
    {
     "data": {
      "text/plain": [
       "27"
      ]
     },
     "execution_count": 10,
     "metadata": {},
     "output_type": "execute_result"
    }
   ],
   "source": [
    "females_in = ceo_change[ceo_change['in_ceogender']=='Female']\n",
    "# Note that whenever you print a Blaze Data Object here, it will be automatically truncated to ten rows.\n",
    "females_in = females_in[females_in.asof_date > '2014-09-17']\n",
    "len(females_in)"
   ]
  },
  {
   "cell_type": "markdown",
   "metadata": {},
   "source": [
    "Finally, suppose want this as a DataFrame:"
   ]
  },
  {
   "cell_type": "code",
   "execution_count": 11,
   "metadata": {
    "collapsed": false
   },
   "outputs": [
    {
     "data": {
      "text/html": [
       "<div style=\"max-height:1000px;max-width:1500px;overflow:auto;\">\n",
       "<table border=\"1\" class=\"dataframe\">\n",
       "  <thead>\n",
       "    <tr style=\"text-align: right;\">\n",
       "      <th></th>\n",
       "      <th>event_id</th>\n",
       "      <th>asof_date</th>\n",
       "      <th>trade_date</th>\n",
       "      <th>symbol</th>\n",
       "      <th>event_type</th>\n",
       "      <th>event_headline</th>\n",
       "      <th>change_status</th>\n",
       "      <th>change_scenario</th>\n",
       "      <th>change_type</th>\n",
       "      <th>change_source</th>\n",
       "      <th>change_reason</th>\n",
       "      <th>in_ceoname</th>\n",
       "      <th>in_ceogender</th>\n",
       "      <th>out_ceoname</th>\n",
       "      <th>out_ceogender</th>\n",
       "      <th>effective_date</th>\n",
       "      <th>event_rating</th>\n",
       "      <th>timestamp</th>\n",
       "      <th>sid</th>\n",
       "    </tr>\n",
       "  </thead>\n",
       "  <tbody>\n",
       "    <tr>\n",
       "      <th>17</th>\n",
       "      <td>1890286</td>\n",
       "      <td>2015-06-01</td>\n",
       "      <td>2015-06-01</td>\n",
       "      <td>AJRD</td>\n",
       "      <td>CEO Change</td>\n",
       "      <td>Aerojet Rocketdynes Holdings CEO Scott Seymour...</td>\n",
       "      <td>Declaration</td>\n",
       "      <td>In/Out</td>\n",
       "      <td>Permanent</td>\n",
       "      <td>Succession</td>\n",
       "      <td>Retire</td>\n",
       "      <td>Eileen Drake</td>\n",
       "      <td>Female</td>\n",
       "      <td>Scott Seymour</td>\n",
       "      <td>Male</td>\n",
       "      <td>NaT</td>\n",
       "      <td>1</td>\n",
       "      <td>2015-06-02</td>\n",
       "      <td>3424</td>\n",
       "    </tr>\n",
       "    <tr>\n",
       "      <th>2</th>\n",
       "      <td>1783327</td>\n",
       "      <td>2014-10-08</td>\n",
       "      <td>2014-10-09</td>\n",
       "      <td>AMD</td>\n",
       "      <td>CEO Change</td>\n",
       "      <td>Advanced Micro Devices CEO Rory Read Steps Dow...</td>\n",
       "      <td>Declaration</td>\n",
       "      <td>In/Out</td>\n",
       "      <td>Permanent</td>\n",
       "      <td>Succession</td>\n",
       "      <td>Out + Retained</td>\n",
       "      <td>Lisa Su</td>\n",
       "      <td>Female</td>\n",
       "      <td>Rory Read</td>\n",
       "      <td>Male</td>\n",
       "      <td>2014-10-08</td>\n",
       "      <td>1</td>\n",
       "      <td>2014-10-09</td>\n",
       "      <td>351</td>\n",
       "    </tr>\n",
       "    <tr>\n",
       "      <th>15</th>\n",
       "      <td>1846426</td>\n",
       "      <td>2015-03-04</td>\n",
       "      <td>2015-03-05</td>\n",
       "      <td>AMSF</td>\n",
       "      <td>CEO Change</td>\n",
       "      <td>AMERISAFE Promotes COO, G. Janelle Frost to CE...</td>\n",
       "      <td>Declaration</td>\n",
       "      <td>In/Out</td>\n",
       "      <td>Permanent</td>\n",
       "      <td>Succession</td>\n",
       "      <td>Out + Retained</td>\n",
       "      <td>G. Janelle Frost</td>\n",
       "      <td>Female</td>\n",
       "      <td>C. Allen Bradley Jr.</td>\n",
       "      <td>Male</td>\n",
       "      <td>2015-04-01</td>\n",
       "      <td>1</td>\n",
       "      <td>2015-03-05</td>\n",
       "      <td>27819</td>\n",
       "    </tr>\n",
       "  </tbody>\n",
       "</table>\n",
       "</div>"
      ],
      "text/plain": [
       "    event_id  asof_date trade_date symbol  event_type  \\\n",
       "17   1890286 2015-06-01 2015-06-01   AJRD  CEO Change   \n",
       "2    1783327 2014-10-08 2014-10-09    AMD  CEO Change   \n",
       "15   1846426 2015-03-04 2015-03-05   AMSF  CEO Change   \n",
       "\n",
       "                                       event_headline change_status  \\\n",
       "17  Aerojet Rocketdynes Holdings CEO Scott Seymour...   Declaration   \n",
       "2   Advanced Micro Devices CEO Rory Read Steps Dow...   Declaration   \n",
       "15  AMERISAFE Promotes COO, G. Janelle Frost to CE...   Declaration   \n",
       "\n",
       "   change_scenario change_type change_source   change_reason  \\\n",
       "17          In/Out   Permanent    Succession          Retire   \n",
       "2           In/Out   Permanent    Succession  Out + Retained   \n",
       "15          In/Out   Permanent    Succession  Out + Retained   \n",
       "\n",
       "          in_ceoname in_ceogender           out_ceoname out_ceogender  \\\n",
       "17      Eileen Drake       Female         Scott Seymour          Male   \n",
       "2            Lisa Su       Female             Rory Read          Male   \n",
       "15  G. Janelle Frost       Female  C. Allen Bradley Jr.          Male   \n",
       "\n",
       "   effective_date  event_rating  timestamp    sid  \n",
       "17            NaT             1 2015-06-02   3424  \n",
       "2      2014-10-08             1 2014-10-09    351  \n",
       "15     2015-04-01             1 2015-03-05  27819  "
      ]
     },
     "execution_count": 11,
     "metadata": {},
     "output_type": "execute_result"
    }
   ],
   "source": [
    "females_in_df = odo(females_in, pd.DataFrame)\n",
    "females_in_df.sort('symbol', inplace=True)\n",
    "# let's get the first three rows\n",
    "females_in_df[:3]"
   ]
  },
  {
   "cell_type": "code",
   "execution_count": null,
   "metadata": {
    "collapsed": true
   },
   "outputs": [],
   "source": []
  }
 ],
 "metadata": {
  "kernelspec": {
   "display_name": "Python 2",
   "language": "python",
   "name": "python2"
  },
  "language_info": {
   "codemirror_mode": {
    "name": "ipython",
    "version": 2
   },
   "file_extension": ".py",
   "mimetype": "text/x-python",
   "name": "python",
   "nbconvert_exporter": "python",
   "pygments_lexer": "ipython2",
   "version": "2.7.12"
  }
 },
 "nbformat": 4,
 "nbformat_minor": 0
}