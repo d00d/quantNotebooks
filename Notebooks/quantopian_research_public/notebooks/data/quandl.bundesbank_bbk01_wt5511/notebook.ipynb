{
 "cells": [
  {
   "cell_type": "markdown",
   "metadata": {
    "collapsed": true
   },
   "source": [
    "# Quandl: Price of Gold\n",
    "\n",
    "In this notebook, we'll take a look at data set , available on [Quantopian](https://www.quantopian.com/data). This dataset spans from 1968 through the current day. It contains the value for the price of gold, as sourced by the Deutsche Bundesbank Data Repository. We access this data via the API provided by Quandl. See [Quandl's detail page](https://www.quandl.com/data/BUNDESBANK/BBK01_WT5511-Gold-Price-USD) for this set for more information.\n",
    "\n",
    "## Notebook Contents\n",
    "\n",
    "There are two ways to access the data and you'll find both of them listed below. Just click on the section you'd like to read through.\n",
    "\n",
    "- <a href='#interactive'><strong>Interactive overview</strong></a>: This is only available on Research and uses blaze to give you access to large amounts of data. Recommended for exploration and plotting.\n",
    "- <a href='#pipeline'><strong>Pipeline overview</strong></a>: Data is made available through pipeline which is available on both the Research & Backtesting environment. Recommended for custom factor development and moving back & forth between research/backtesting.\n",
    "\n",
    "### Limits\n",
    "One key caveat: we limit the number of results returned from any given expression to 10,000 to protect against runaway memory usage. To be clear, you have access to all the data server side. We are limiting the size of the responses back from Blaze.\n",
    "\n",
    "With preamble in place, let's get started:\n",
    "\n",
    "<a id='interactive'></a>\n",
    "#Interactive Overview\n",
    "### Accessing the data with Blaze and Interactive on Research\n",
    "Partner datasets are available on Quantopian Research through an API service known as [Blaze](http://blaze.pydata.org). Blaze provides the Quantopian user with a convenient interface to access very large datasets, in an interactive, generic manner.\n",
    "\n",
    "Blaze provides an important function for accessing these datasets. Some of these sets are many millions of records. Bringing that data directly into Quantopian Research directly just is not viable. So Blaze allows us to provide a simple querying interface and shift the burden over to the server side.\n",
    "\n",
    "It is common to use Blaze to reduce your dataset in size, convert it over to Pandas and then to use Pandas for further computation, manipulation and visualization.\n",
    "\n",
    "Helpful links:\n",
    "* [Query building for Blaze](http://blaze.readthedocs.io/en/latest/queries.html)\n",
    "* [Pandas-to-Blaze dictionary](http://blaze.readthedocs.io/en/latest/rosetta-pandas.html)\n",
    "* [SQL-to-Blaze dictionary](http://blaze.readthedocs.io/en/latest/rosetta-sql.html).\n",
    "\n",
    "Once you've limited the size of your Blaze object, you can convert it to a Pandas DataFrames using:\n",
    "> `from odo import odo`  \n",
    "> `odo(expr, pandas.DataFrame)`\n",
    "\n",
    "\n",
    "###To see how this data can be used in your algorithm, search for the `Pipeline Overview` section of this notebook or head straight to <a href='#pipeline'>Pipeline Overview</a>"
   ]
  },
  {
   "cell_type": "code",
   "execution_count": 1,
   "metadata": {
    "collapsed": false
   },
   "outputs": [],
   "source": [
    "# import the dataset\n",
    "from quantopian.interactive.data.quandl import bundesbank_bbk01_wt5511 as dataset\n",
    "# Since this data is public domain and provided by Quandl for free, there is no _free version of this\n",
    "# data set, as found in the premium sets. This import gets you the entirety of this data set.\n",
    "\n",
    "# import data operations\n",
    "from odo import odo\n",
    "# import other libraries we will use\n",
    "import pandas as pd\n",
    "import matplotlib.pyplot as plt"
   ]
  },
  {
   "cell_type": "code",
   "execution_count": 2,
   "metadata": {
    "collapsed": false
   },
   "outputs": [
    {
     "data": {
      "text/plain": [
       "dshape(\"var * {value: float64, asof_date: datetime, timestamp: datetime}\")"
      ]
     },
     "execution_count": 2,
     "metadata": {},
     "output_type": "execute_result"
    }
   ],
   "source": [
    "# Let's use blaze to understand the data a bit using Blaze dshape()\n",
    "dataset.dshape"
   ]
  },
  {
   "cell_type": "code",
   "execution_count": 3,
   "metadata": {
    "collapsed": false
   },
   "outputs": [
    {
     "data": {
      "text/html": [
       "12152"
      ],
      "text/plain": [
       "12152"
      ]
     },
     "execution_count": 3,
     "metadata": {},
     "output_type": "execute_result"
    }
   ],
   "source": [
    "# And how many rows are there?\n",
    "# N.B. we're using a Blaze function to do this, not len()\n",
    "dataset.count()"
   ]
  },
  {
   "cell_type": "code",
   "execution_count": 4,
   "metadata": {
    "collapsed": false
   },
   "outputs": [
    {
     "data": {
      "text/html": [
       "<table border=\"1\" class=\"dataframe\">\n",
       "  <thead>\n",
       "    <tr style=\"text-align: right;\">\n",
       "      <th></th>\n",
       "      <th>value</th>\n",
       "      <th>asof_date</th>\n",
       "      <th>timestamp</th>\n",
       "    </tr>\n",
       "  </thead>\n",
       "  <tbody>\n",
       "    <tr>\n",
       "      <th>0</th>\n",
       "      <td>1218.75</td>\n",
       "      <td>2016-02-23</td>\n",
       "      <td>2016-02-24 05:01:08.129270</td>\n",
       "    </tr>\n",
       "    <tr>\n",
       "      <th>1</th>\n",
       "      <td>1232.25</td>\n",
       "      <td>2016-02-24</td>\n",
       "      <td>2016-02-25 05:03:59.157245</td>\n",
       "    </tr>\n",
       "    <tr>\n",
       "      <th>2</th>\n",
       "      <td>1235.40</td>\n",
       "      <td>2016-02-25</td>\n",
       "      <td>2016-02-26 05:01:02.768591</td>\n",
       "    </tr>\n",
       "  </tbody>\n",
       "</table>"
      ],
      "text/plain": [
       "     value  asof_date                  timestamp\n",
       "0  1218.75 2016-02-23 2016-02-24 05:01:08.129270\n",
       "1  1232.25 2016-02-24 2016-02-25 05:03:59.157245\n",
       "2  1235.40 2016-02-25 2016-02-26 05:01:02.768591"
      ]
     },
     "execution_count": 4,
     "metadata": {},
     "output_type": "execute_result"
    }
   ],
   "source": [
    "# Let's see what the data looks like. We'll grab the first three rows.\n",
    "dataset[:3]"
   ]
  },
  {
   "cell_type": "markdown",
   "metadata": {},
   "source": [
    "Let's go plot it for fun."
   ]
  },
  {
   "cell_type": "code",
   "execution_count": 8,
   "metadata": {
    "collapsed": false
   },
   "outputs": [
    {
     "data": {
      "image/png": "[encoded data removed]",
      "text/plain": [
       "<matplotlib.figure.Figure at 0x7f2ee1eeaad0>"
      ]
     },
     "metadata": {},
     "output_type": "display_data"
    }
   ],
   "source": [
    "gold_df = odo(dataset, pd.DataFrame)\n",
    "\n",
    "gold_df.plot(x='asof_date', y='value')\n",
    "plt.xlabel(\"As Of Date (asof_date)\")\n",
    "plt.ylabel(\"Price of Gold\")\n",
    "plt.title(\"Gold Price\")\n",
    "plt.legend().set_visible(False)"
   ]
  },
  {
   "cell_type": "markdown",
   "metadata": {},
   "source": [
    "The data points between 2007 and 2015 are missing because the number of results is limited to 10,000. Let's narrow the timeframe to get a complete picture of recent prices."
   ]
  },
  {
   "cell_type": "code",
   "execution_count": 7,
   "metadata": {
    "collapsed": false
   },
   "outputs": [
    {
     "data": {
      "image/png": "[encoded data removed]",
      "text/plain": [
       "<matplotlib.figure.Figure at 0x7f2ee1dc6f50>"
      ]
     },
     "metadata": {},
     "output_type": "display_data"
    }
   ],
   "source": [
    "small_df = odo(dataset[dataset.asof_date >= '2002-01-01'], pd.DataFrame)\n",
    "\n",
    "small_df.plot(x='asof_date', y='value')\n",
    "plt.xlabel(\"As Of Date (asof_date)\")\n",
    "plt.ylabel(\"Price of Gold\")\n",
    "plt.title(\"Gold Price\")\n",
    "plt.legend().set_visible(False)"
   ]
  },
  {
   "cell_type": "markdown",
   "metadata": {},
   "source": [
    "<a id='pipeline'></a>\n",
    "\n",
    "#Pipeline Overview\n",
    "\n",
    "### Accessing the data in your algorithms & research\n",
    "The only method for accessing partner data within algorithms running on Quantopian is via the pipeline API. Different data sets work differently but in the case of this data, you can add this data to your pipeline as follows:\n",
    "\n",
    "Import the data set here\n",
    "> `from quantopian.pipeline.data.quandl import bundesbank_bbk01_wt5511 as gold`\n",
    "\n",
    "Then in intialize() you could do something simple like adding the raw value of one of the fields to your pipeline:\n",
    "> `pipe.add(gold.value.latest, 'value')`"
   ]
  },
  {
   "cell_type": "code",
   "execution_count": 1,
   "metadata": {
    "collapsed": true
   },
   "outputs": [],
   "source": [
    "# Import necessary Pipeline modules\n",
    "from quantopian.pipeline import Pipeline\n",
    "from quantopian.research import run_pipeline"
   ]
  },
  {
   "cell_type": "code",
   "execution_count": 2,
   "metadata": {
    "collapsed": false
   },
   "outputs": [],
   "source": [
    "# For use in your algorithms\n",
    "# Using the full dataset in your pipeline algo\n",
    "from quantopian.pipeline.data.quandl import bundesbank_bbk01_wt5511 as gold"
   ]
  },
  {
   "cell_type": "markdown",
   "metadata": {},
   "source": [
    "Now that we've imported the data, let's take a look at which fields are available for each dataset.\n",
    "\n",
    "You'll find the dataset, the available fields, and the datatypes for each of those fields."
   ]
  },
  {
   "cell_type": "code",
   "execution_count": 3,
   "metadata": {
    "collapsed": false
   },
   "outputs": [
    {
     "name": "stdout",
     "output_type": "stream",
     "text": [
      "Here are the list of available fields per dataset:\n",
      "---------------------------------------------------\n",
      "\n",
      "Dataset: bundesbank_bbk01_wt5511\n",
      "\n",
      "Fields:\n",
      "value - float64\n",
      "\n",
      "\n",
      "---------------------------------------------------\n",
      "\n"
     ]
    }
   ],
   "source": [
    "print \"Here are the list of available fields per dataset:\"\n",
    "print \"---------------------------------------------------\\n\"\n",
    "\n",
    "def _print_fields(dataset):\n",
    "    print \"Dataset: %s\\n\" % dataset.__name__\n",
    "    print \"Fields:\"\n",
    "    for field in list(dataset.columns):\n",
    "        print \"%s - %s\" % (field.name, field.dtype)\n",
    "    print \"\\n\"\n",
    "\n",
    "for data in (gold,):\n",
    "    _print_fields(data)\n",
    "\n",
    "\n",
    "print \"---------------------------------------------------\\n\""
   ]
  },
  {
   "cell_type": "markdown",
   "metadata": {},
   "source": [
    "Now that we know what fields we have access to, let's see what this data looks like when we run it through Pipeline.\n",
    "\n",
    "\n",
    "This is constructed the same way as you would in the backtester. For more information on using Pipeline in Research view this thread:\n",
    "https://www.quantopian.com/posts/pipeline-in-research-build-test-and-visualize-your-factors-and-filters"
   ]
  },
  {
   "cell_type": "code",
   "execution_count": 4,
   "metadata": {
    "collapsed": false
   },
   "outputs": [],
   "source": [
    "# Let's see what this data looks like when we run it through Pipeline\n",
    "# This is constructed the same way as you would in the backtester. For more information\n",
    "# on using Pipeline in Research view this thread:\n",
    "# https://www.quantopian.com/posts/pipeline-in-research-build-test-and-visualize-your-factors-and-filters\n",
    "pipe = Pipeline()\n",
    "       \n",
    "pipe.add(gold.value.latest, 'value')"
   ]
  },
  {
   "cell_type": "code",
   "execution_count": 5,
   "metadata": {
    "collapsed": false
   },
   "outputs": [
    {
     "data": {
      "image/png": "[encoded data removed]",
      "text/plain": [
       "<IPython.core.display.Image object>"
      ]
     },
     "execution_count": 5,
     "metadata": {},
     "output_type": "execute_result"
    }
   ],
   "source": [
    "# The show_graph() method of pipeline objects produces a graph to show how it is being calculated.\n",
    "pipe.show_graph(format='png')"
   ]
  },
  {
   "cell_type": "code",
   "execution_count": 6,
   "metadata": {
    "collapsed": false,
    "scrolled": true
   },
   "outputs": [
    {
     "data": {
      "text/html": [
       "<div style=\"max-height:1000px;max-width:1500px;overflow:auto;\">\n",
       "<table border=\"1\" class=\"dataframe\">\n",
       "  <thead>\n",
       "    <tr style=\"text-align: right;\">\n",
       "      <th></th>\n",
       "      <th></th>\n",
       "      <th>value</th>\n",
       "    </tr>\n",
       "  </thead>\n",
       "  <tbody>\n",
       "    <tr>\n",
       "      <th rowspan=\"30\" valign=\"top\">2013-11-01 00:00:00+00:00</th>\n",
       "      <th>Equity(2 [AA])</th>\n",
       "      <td>1351.0</td>\n",
       "    </tr>\n",
       "    <tr>\n",
       "      <th>Equity(21 [AAME])</th>\n",
       "      <td>1351.0</td>\n",
       "    </tr>\n",
       "    <tr>\n",
       "      <th>Equity(24 [AAPL])</th>\n",
       "      <td>1351.0</td>\n",
       "    </tr>\n",
       "    <tr>\n",
       "      <th>Equity(25 [AA_PR])</th>\n",
       "      <td>1351.0</td>\n",
       "    </tr>\n",
       "    <tr>\n",
       "      <th>Equity(31 [ABAX])</th>\n",
       "      <td>1351.0</td>\n",
       "    </tr>\n",
       "    <tr>\n",
       "      <th>Equity(39 [DDC])</th>\n",
       "      <td>1351.0</td>\n",
       "    </tr>\n",
       "    <tr>\n",
       "      <th>Equity(41 [ARCB])</th>\n",
       "      <td>1351.0</td>\n",
       "    </tr>\n",
       "    <tr>\n",
       "      <th>Equity(52 [ABM])</th>\n",
       "      <td>1351.0</td>\n",
       "    </tr>\n",
       "    <tr>\n",
       "      <th>Equity(53 [ABMD])</th>\n",
       "      <td>1351.0</td>\n",
       "    </tr>\n",
       "    <tr>\n",
       "      <th>Equity(62 [ABT])</th>\n",
       "      <td>1351.0</td>\n",
       "    </tr>\n",
       "    <tr>\n",
       "      <th>Equity(64 [ABX])</th>\n",
       "      <td>1351.0</td>\n",
       "    </tr>\n",
       "    <tr>\n",
       "      <th>Equity(66 [AB])</th>\n",
       "      <td>1351.0</td>\n",
       "    </tr>\n",
       "    <tr>\n",
       "      <th>Equity(67 [ADSK])</th>\n",
       "      <td>1351.0</td>\n",
       "    </tr>\n",
       "    <tr>\n",
       "      <th>Equity(69 [ACAT])</th>\n",
       "      <td>1351.0</td>\n",
       "    </tr>\n",
       "    <tr>\n",
       "      <th>Equity(70 [VBF])</th>\n",
       "      <td>1351.0</td>\n",
       "    </tr>\n",
       "    <tr>\n",
       "      <th>Equity(76 [TAP])</th>\n",
       "      <td>1351.0</td>\n",
       "    </tr>\n",
       "    <tr>\n",
       "      <th>Equity(84 [ACET])</th>\n",
       "      <td>1351.0</td>\n",
       "    </tr>\n",
       "    <tr>\n",
       "      <th>Equity(86 [ACG])</th>\n",
       "      <td>1351.0</td>\n",
       "    </tr>\n",
       "    <tr>\n",
       "      <th>Equity(88 [ACI])</th>\n",
       "      <td>1351.0</td>\n",
       "    </tr>\n",
       "    <tr>\n",
       "      <th>Equity(99 [ACO])</th>\n",
       "      <td>1351.0</td>\n",
       "    </tr>\n",
       "    <tr>\n",
       "      <th>Equity(100 [IEP])</th>\n",
       "      <td>1351.0</td>\n",
       "    </tr>\n",
       "    <tr>\n",
       "      <th>Equity(106 [ACU])</th>\n",
       "      <td>1351.0</td>\n",
       "    </tr>\n",
       "    <tr>\n",
       "      <th>Equity(110 [ACXM])</th>\n",
       "      <td>1351.0</td>\n",
       "    </tr>\n",
       "    <tr>\n",
       "      <th>Equity(112 [ACY])</th>\n",
       "      <td>1351.0</td>\n",
       "    </tr>\n",
       "    <tr>\n",
       "      <th>Equity(114 [ADBE])</th>\n",
       "      <td>1351.0</td>\n",
       "    </tr>\n",
       "    <tr>\n",
       "      <th>Equity(117 [AEY])</th>\n",
       "      <td>1351.0</td>\n",
       "    </tr>\n",
       "    <tr>\n",
       "      <th>Equity(122 [ADI])</th>\n",
       "      <td>1351.0</td>\n",
       "    </tr>\n",
       "    <tr>\n",
       "      <th>Equity(128 [ADM])</th>\n",
       "      <td>1351.0</td>\n",
       "    </tr>\n",
       "    <tr>\n",
       "      <th>Equity(134 [SXCL])</th>\n",
       "      <td>1351.0</td>\n",
       "    </tr>\n",
       "    <tr>\n",
       "      <th>Equity(149 [ADX])</th>\n",
       "      <td>1351.0</td>\n",
       "    </tr>\n",
       "    <tr>\n",
       "      <th>...</th>\n",
       "      <th>...</th>\n",
       "      <td>...</td>\n",
       "    </tr>\n",
       "    <tr>\n",
       "      <th rowspan=\"30\" valign=\"top\">2013-11-25 00:00:00+00:00</th>\n",
       "      <th>Equity(45864 [CDX])</th>\n",
       "      <td>1248.5</td>\n",
       "    </tr>\n",
       "    <tr>\n",
       "      <th>Equity(45865 [XNCR])</th>\n",
       "      <td>1248.5</td>\n",
       "    </tr>\n",
       "    <tr>\n",
       "      <th>Equity(45866 [ZU])</th>\n",
       "      <td>1248.5</td>\n",
       "    </tr>\n",
       "    <tr>\n",
       "      <th>Equity(45867 [EROS])</th>\n",
       "      <td>1248.5</td>\n",
       "    </tr>\n",
       "    <tr>\n",
       "      <th>Equity(45873 [IR_WI])</th>\n",
       "      <td>1248.5</td>\n",
       "    </tr>\n",
       "    <tr>\n",
       "      <th>Equity(45874 [ALLE])</th>\n",
       "      <td>1248.5</td>\n",
       "    </tr>\n",
       "    <tr>\n",
       "      <th>Equity(45875 [HFIN])</th>\n",
       "      <td>1248.5</td>\n",
       "    </tr>\n",
       "    <tr>\n",
       "      <th>Equity(45880 [CACQ])</th>\n",
       "      <td>1248.5</td>\n",
       "    </tr>\n",
       "    <tr>\n",
       "      <th>Equity(45882 [TKF_WD])</th>\n",
       "      <td>1248.5</td>\n",
       "    </tr>\n",
       "    <tr>\n",
       "      <th>Equity(45883 [IIF_WD])</th>\n",
       "      <td>1248.5</td>\n",
       "    </tr>\n",
       "    <tr>\n",
       "      <th>Equity(45885 [EGF_WD])</th>\n",
       "      <td>1248.5</td>\n",
       "    </tr>\n",
       "    <tr>\n",
       "      <th>Equity(45891 [OXFD])</th>\n",
       "      <td>1248.5</td>\n",
       "    </tr>\n",
       "    <tr>\n",
       "      <th>Equity(45892 [TLOG])</th>\n",
       "      <td>1248.5</td>\n",
       "    </tr>\n",
       "    <tr>\n",
       "      <th>Equity(45893 [VTL])</th>\n",
       "      <td>1248.5</td>\n",
       "    </tr>\n",
       "    <tr>\n",
       "      <th>Equity(45894 [RTGN])</th>\n",
       "      <td>1248.5</td>\n",
       "    </tr>\n",
       "    <tr>\n",
       "      <th>Equity(45895 [EMSH])</th>\n",
       "      <td>1248.5</td>\n",
       "    </tr>\n",
       "    <tr>\n",
       "      <th>Equity(45896 [AMZG])</th>\n",
       "      <td>1248.5</td>\n",
       "    </tr>\n",
       "    <tr>\n",
       "      <th>Equity(45902 [WBAI])</th>\n",
       "      <td>1248.5</td>\n",
       "    </tr>\n",
       "    <tr>\n",
       "      <th>Equity(45903 [GOMO])</th>\n",
       "      <td>1248.5</td>\n",
       "    </tr>\n",
       "    <tr>\n",
       "      <th>Equity(45904 [IPWR])</th>\n",
       "      <td>1248.5</td>\n",
       "    </tr>\n",
       "    <tr>\n",
       "      <th>Equity(45905 [GFIS])</th>\n",
       "      <td>1248.5</td>\n",
       "    </tr>\n",
       "    <tr>\n",
       "      <th>Equity(45906 [VNCE])</th>\n",
       "      <td>1248.5</td>\n",
       "    </tr>\n",
       "    <tr>\n",
       "      <th>Equity(45907 [RITT_W])</th>\n",
       "      <td>1248.5</td>\n",
       "    </tr>\n",
       "    <tr>\n",
       "      <th>Equity(45914 [EVGN])</th>\n",
       "      <td>1248.5</td>\n",
       "    </tr>\n",
       "    <tr>\n",
       "      <th>Equity(45915 [NVGS])</th>\n",
       "      <td>1248.5</td>\n",
       "    </tr>\n",
       "    <tr>\n",
       "      <th>Equity(48504 [ERUS])</th>\n",
       "      <td>1248.5</td>\n",
       "    </tr>\n",
       "    <tr>\n",
       "      <th>Equity(49010 [TBRA])</th>\n",
       "      <td>1248.5</td>\n",
       "    </tr>\n",
       "    <tr>\n",
       "      <th>Equity(49131 [OESX])</th>\n",
       "      <td>1248.5</td>\n",
       "    </tr>\n",
       "    <tr>\n",
       "      <th>Equity(49259 [ITUS])</th>\n",
       "      <td>1248.5</td>\n",
       "    </tr>\n",
       "    <tr>\n",
       "      <th>Equity(49523 [TLGT])</th>\n",
       "      <td>1248.5</td>\n",
       "    </tr>\n",
       "  </tbody>\n",
       "</table>\n",
       "<p>134806 rows × 1 columns</p>\n",
       "</div>"
      ],
      "text/plain": [
       "                                                   value\n",
       "2013-11-01 00:00:00+00:00 Equity(2 [AA])          1351.0\n",
       "                          Equity(21 [AAME])       1351.0\n",
       "                          Equity(24 [AAPL])       1351.0\n",
       "                          Equity(25 [AA_PR])      1351.0\n",
       "                          Equity(31 [ABAX])       1351.0\n",
       "                          Equity(39 [DDC])        1351.0\n",
       "                          Equity(41 [ARCB])       1351.0\n",
       "                          Equity(52 [ABM])        1351.0\n",
       "                          Equity(53 [ABMD])       1351.0\n",
       "                          Equity(62 [ABT])        1351.0\n",
       "                          Equity(64 [ABX])        1351.0\n",
       "                          Equity(66 [AB])         1351.0\n",
       "                          Equity(67 [ADSK])       1351.0\n",
       "                          Equity(69 [ACAT])       1351.0\n",
       "                          Equity(70 [VBF])        1351.0\n",
       "                          Equity(76 [TAP])        1351.0\n",
       "                          Equity(84 [ACET])       1351.0\n",
       "                          Equity(86 [ACG])        1351.0\n",
       "                          Equity(88 [ACI])        1351.0\n",
       "                          Equity(99 [ACO])        1351.0\n",
       "                          Equity(100 [IEP])       1351.0\n",
       "                          Equity(106 [ACU])       1351.0\n",
       "                          Equity(110 [ACXM])      1351.0\n",
       "                          Equity(112 [ACY])       1351.0\n",
       "                          Equity(114 [ADBE])      1351.0\n",
       "                          Equity(117 [AEY])       1351.0\n",
       "                          Equity(122 [ADI])       1351.0\n",
       "                          Equity(128 [ADM])       1351.0\n",
       "                          Equity(134 [SXCL])      1351.0\n",
       "                          Equity(149 [ADX])       1351.0\n",
       "...                                                  ...\n",
       "2013-11-25 00:00:00+00:00 Equity(45864 [CDX])     1248.5\n",
       "                          Equity(45865 [XNCR])    1248.5\n",
       "                          Equity(45866 [ZU])      1248.5\n",
       "                          Equity(45867 [EROS])    1248.5\n",
       "                          Equity(45873 [IR_WI])   1248.5\n",
       "                          Equity(45874 [ALLE])    1248.5\n",
       "                          Equity(45875 [HFIN])    1248.5\n",
       "                          Equity(45880 [CACQ])    1248.5\n",
       "                          Equity(45882 [TKF_WD])  1248.5\n",
       "                          Equity(45883 [IIF_WD])  1248.5\n",
       "                          Equity(45885 [EGF_WD])  1248.5\n",
       "                          Equity(45891 [OXFD])    1248.5\n",
       "                          Equity(45892 [TLOG])    1248.5\n",
       "                          Equity(45893 [VTL])     1248.5\n",
       "                          Equity(45894 [RTGN])    1248.5\n",
       "                          Equity(45895 [EMSH])    1248.5\n",
       "                          Equity(45896 [AMZG])    1248.5\n",
       "                          Equity(45902 [WBAI])    1248.5\n",
       "                          Equity(45903 [GOMO])    1248.5\n",
       "                          Equity(45904 [IPWR])    1248.5\n",
       "                          Equity(45905 [GFIS])    1248.5\n",
       "                          Equity(45906 [VNCE])    1248.5\n",
       "                          Equity(45907 [RITT_W])  1248.5\n",
       "                          Equity(45914 [EVGN])    1248.5\n",
       "                          Equity(45915 [NVGS])    1248.5\n",
       "                          Equity(48504 [ERUS])    1248.5\n",
       "                          Equity(49010 [TBRA])    1248.5\n",
       "                          Equity(49131 [OESX])    1248.5\n",
       "                          Equity(49259 [ITUS])    1248.5\n",
       "                          Equity(49523 [TLGT])    1248.5\n",
       "\n",
       "[134806 rows x 1 columns]"
      ]
     },
     "execution_count": 6,
     "metadata": {},
     "output_type": "execute_result"
    }
   ],
   "source": [
    "# run_pipeline will show the output of your pipeline\n",
    "pipe_output = run_pipeline(pipe, start_date='2013-11-01', end_date='2013-11-25')\n",
    "pipe_output"
   ]
  },
  {
   "cell_type": "markdown",
   "metadata": {},
   "source": [
    "Taking what we've seen from above, let's see how we'd move that into the backtester."
   ]
  },
  {
   "cell_type": "code",
   "execution_count": 11,
   "metadata": {
    "collapsed": false
   },
   "outputs": [],
   "source": [
    "# This section is only importable in the backtester\n",
    "from quantopian.algorithm import attach_pipeline, pipeline_output\n",
    "\n",
    "# General pipeline imports\n",
    "from quantopian.pipeline import Pipeline\n",
    "\n",
    "# Import the datasets available\n",
    "# For use in your algorithms\n",
    "# Using the full dataset in your pipeline algo\n",
    "from quantopian.pipeline.data.quandl import bundesbank_bbk01_wt5511 as gold\n",
    "\n",
    "def make_pipeline():\n",
    "    # Create our pipeline\n",
    "    pipe = Pipeline()\n",
    "\n",
    "    # Add pipeline factors\n",
    "    pipe.add(gold.value.latest, 'value')\n",
    "    \n",
    "    return pipe\n",
    "\n",
    "def initialize(context):\n",
    "    attach_pipeline(make_pipeline(), \"pipeline\")\n",
    "    \n",
    "def before_trading_start(context, data):\n",
    "    results = pipeline_output('pipeline')"
   ]
  },
  {
   "cell_type": "markdown",
   "metadata": {},
   "source": [
    "Now you can take that and begin to use it as a building block for your algorithms, for more examples on how to do that you can visit our <a href='https://www.quantopian.com/posts/pipeline-factor-library-for-data'>data pipeline factor library</a>"
   ]
  }
 ],
 "metadata": {
  "kernelspec": {
   "display_name": "Python 2",
   "language": "python",
   "name": "python2"
  },
  "language_info": {
   "codemirror_mode": {
    "name": "ipython",
    "version": 2
   },
   "file_extension": ".py",
   "mimetype": "text/x-python",
   "name": "python",
   "nbconvert_exporter": "python",
   "pygments_lexer": "ipython2",
   "version": "2.7.11"
  }
 },
 "nbformat": 4,
 "nbformat_minor": 0
}