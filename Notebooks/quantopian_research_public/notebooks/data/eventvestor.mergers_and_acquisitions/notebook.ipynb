{
 "cells": [
  {
   "cell_type": "markdown",
   "metadata": {
    "collapsed": true
   },
   "source": [
    "# EventVestor: Mergers and Acquisitions\n",
    "\n",
    "In this notebook, we'll take a look at EventVestor's *Mergers and Acquisitions* dataset, available on the [Quantopian Store](https://www.quantopian.com/store). This dataset spans January 01, 2007 through the current day.\n",
    "\n",
    "## Notebook Contents\n",
    "\n",
    "There are two ways to access the data and you'll find both of them listed below. Just click on the section you'd like to read through.\n",
    "\n",
    "- <a href='#interactive'><strong>Interactive overview</strong></a>: This is only available on Research and uses blaze to give you access to large amounts of data. Recommended for exploration and plotting.\n",
    "- <a href='#pipeline'><strong>Pipeline overview</strong></a>: Data is made available through pipeline which is available on both the Research & Backtesting environment. Recommended for custom factor development and moving back & forth between research/backtesting.\n",
    "\n",
    "### Free samples and limits\n",
    "One key caveat: we limit the number of results returned from any given expression to 10,000 to protect against runaway memory usage. To be clear, you have access to all the data server side. We are limiting the size of the responses back from Blaze.\n",
    "\n",
    "There is a *free* version of this dataset as well as a paid one. The free sample includes data until 2 months prior to the current date.\n",
    "\n",
    "To access the most up-to-date values for this data set for trading a live algorithm (as with other partner sets), you need to purchase acess to the full set.\n",
    "\n",
    "With preamble in place, let's get started:\n",
    "\n",
    "<a id='interactive'></a>\n",
    "#Interactive Overview\n",
    "### Accessing the data with Blaze and Interactive on Research\n",
    "Partner datasets are available on Quantopian Research through an API service known as [Blaze](http://blaze.pydata.org). Blaze provides the Quantopian user with a convenient interface to access very large datasets, in an interactive, generic manner.\n",
    "\n",
    "Blaze provides an important function for accessing these datasets. Some of these sets are many millions of records. Bringing that data directly into Quantopian Research directly just is not viable. So Blaze allows us to provide a simple querying interface and shift the burden over to the server side.\n",
    "\n",
    "It is common to use Blaze to reduce your dataset in size, convert it over to Pandas and then to use Pandas for further computation, manipulation and visualization.\n",
    "\n",
    "Helpful links:\n",
    "* [Query building for Blaze](http://blaze.readthedocs.io/en/latest/queries.html)\n",
    "* [Pandas-to-Blaze dictionary](http://blaze.readthedocs.io/en/latest/rosetta-pandas.html)\n",
    "* [SQL-to-Blaze dictionary](http://blaze.readthedocs.io/en/latest/rosetta-sql.html).\n",
    "\n",
    "Once you've limited the size of your Blaze object, you can convert it to a Pandas DataFrames using:\n",
    "> `from odo import odo`  \n",
    "> `odo(expr, pandas.DataFrame)`\n",
    "\n",
    "\n",
    "###To see how this data can be used in your algorithm, search for the `Pipeline Overview` section of this notebook or head straight to <a href='#pipeline'>Pipeline Overview</a>"
   ]
  },
  {
   "cell_type": "code",
   "execution_count": 1,
   "metadata": {
    "collapsed": false
   },
   "outputs": [],
   "source": [
    "# import the dataset\n",
    "from quantopian.interactive.data.eventvestor import mergers_and_acquisitions_free as dataset\n",
    "\n",
    "# or if you want to import the free dataset, use:\n",
    "#from quantopian.data.eventvestor import buyback_auth_free\n",
    "\n",
    "# import data operations\n",
    "from odo import odo\n",
    "# import other libraries we will use\n",
    "import pandas as pd\n",
    "import matplotlib.pyplot as plt"
   ]
  },
  {
   "cell_type": "code",
   "execution_count": 2,
   "metadata": {
    "collapsed": false
   },
   "outputs": [
    {
     "data": {
      "text/plain": [
       "dshape(\"\"\"var * {\n",
       "  event_id: float64,\n",
       "  mna_type: ?string,\n",
       "  trade_date: ?datetime,\n",
       "  symbol: string,\n",
       "  event_type: ?string,\n",
       "  event_headline: ?string,\n",
       "  news_type: ?string,\n",
       "  firm_type: ?string,\n",
       "  payment_mode: ?string,\n",
       "  target_type: ?string,\n",
       "  is_crossboarder: ?string,\n",
       "  deal_amount: float64,\n",
       "  deal_currency: ?string,\n",
       "  related_ticker: ?string,\n",
       "  related_entity: ?string,\n",
       "  event_rating: float64,\n",
       "  price_pershare: float64,\n",
       "  premium_pct: float64,\n",
       "  sid: int64,\n",
       "  asof_date: datetime,\n",
       "  timestamp: datetime\n",
       "  }\"\"\")"
      ]
     },
     "execution_count": 2,
     "metadata": {},
     "output_type": "execute_result"
    }
   ],
   "source": [
    "# Let's use blaze to understand the data a bit using Blaze dshape()\n",
    "dataset.dshape"
   ]
  },
  {
   "cell_type": "code",
   "execution_count": 3,
   "metadata": {
    "collapsed": false
   },
   "outputs": [
    {
     "data": {
      "text/html": [
       "16875"
      ],
      "text/plain": [
       "16875"
      ]
     },
     "execution_count": 3,
     "metadata": {},
     "output_type": "execute_result"
    }
   ],
   "source": [
    "# And how many rows are there?\n",
    "# N.B. we're using a Blaze function to do this, not len()\n",
    "dataset.count()"
   ]
  },
  {
   "cell_type": "code",
   "execution_count": 4,
   "metadata": {
    "collapsed": false
   },
   "outputs": [
    {
     "data": {
      "text/html": [
       "Timestamp('2007-01-01 00:00:00')"
      ],
      "text/plain": [
       "Timestamp('2007-01-01 00:00:00')"
      ]
     },
     "execution_count": 4,
     "metadata": {},
     "output_type": "execute_result"
    }
   ],
   "source": [
    "dataset.asof_date.min()"
   ]
  },
  {
   "cell_type": "code",
   "execution_count": 5,
   "metadata": {
    "collapsed": false
   },
   "outputs": [
    {
     "data": {
      "text/html": [
       "<table border=\"1\" class=\"dataframe\">\n",
       "  <thead>\n",
       "    <tr style=\"text-align: right;\">\n",
       "      <th></th>\n",
       "      <th>event_id</th>\n",
       "      <th>mna_type</th>\n",
       "      <th>trade_date</th>\n",
       "      <th>symbol</th>\n",
       "      <th>event_type</th>\n",
       "      <th>event_headline</th>\n",
       "      <th>news_type</th>\n",
       "      <th>firm_type</th>\n",
       "      <th>payment_mode</th>\n",
       "      <th>target_type</th>\n",
       "      <th>is_crossboarder</th>\n",
       "      <th>deal_amount</th>\n",
       "      <th>deal_currency</th>\n",
       "      <th>related_ticker</th>\n",
       "      <th>related_entity</th>\n",
       "      <th>event_rating</th>\n",
       "      <th>price_pershare</th>\n",
       "      <th>premium_pct</th>\n",
       "      <th>sid</th>\n",
       "      <th>asof_date</th>\n",
       "      <th>timestamp</th>\n",
       "    </tr>\n",
       "  </thead>\n",
       "  <tbody>\n",
       "    <tr>\n",
       "      <th>0</th>\n",
       "      <td>148664</td>\n",
       "      <td>Acquisition</td>\n",
       "      <td>2007-01-03</td>\n",
       "      <td>FCS</td>\n",
       "      <td>M&amp;A Announcement</td>\n",
       "      <td>Fairchild Semiconductor to Acquire System Gene...</td>\n",
       "      <td>Announcement</td>\n",
       "      <td>Acquirer</td>\n",
       "      <td>Mixed Offer</td>\n",
       "      <td>Public</td>\n",
       "      <td>Cross Border</td>\n",
       "      <td>200</td>\n",
       "      <td>$M</td>\n",
       "      <td>None</td>\n",
       "      <td>System General Corporatio</td>\n",
       "      <td>1</td>\n",
       "      <td>0</td>\n",
       "      <td>0</td>\n",
       "      <td>20486</td>\n",
       "      <td>2007-01-01</td>\n",
       "      <td>2007-01-02</td>\n",
       "    </tr>\n",
       "    <tr>\n",
       "      <th>1</th>\n",
       "      <td>132422</td>\n",
       "      <td>Acquisition</td>\n",
       "      <td>2007-01-03</td>\n",
       "      <td>NUE</td>\n",
       "      <td>M&amp;A Announcement</td>\n",
       "      <td>Nucor to Acquire Harris Steel Group for $1B</td>\n",
       "      <td>Announcement</td>\n",
       "      <td>Acquirer</td>\n",
       "      <td>Cash Offer</td>\n",
       "      <td>Public</td>\n",
       "      <td>Cross Border</td>\n",
       "      <td>1070</td>\n",
       "      <td>$M</td>\n",
       "      <td>None</td>\n",
       "      <td>Harris Steel Group</td>\n",
       "      <td>1</td>\n",
       "      <td>0</td>\n",
       "      <td>0</td>\n",
       "      <td>5488</td>\n",
       "      <td>2007-01-02</td>\n",
       "      <td>2007-01-03</td>\n",
       "    </tr>\n",
       "    <tr>\n",
       "      <th>2</th>\n",
       "      <td>134823</td>\n",
       "      <td>Acquisition</td>\n",
       "      <td>2007-01-03</td>\n",
       "      <td>BNI</td>\n",
       "      <td>M&amp;A Announcement</td>\n",
       "      <td>Burlington Northern Unit Acquires Pro-Am Trans...</td>\n",
       "      <td>Announcement</td>\n",
       "      <td>Acquirer</td>\n",
       "      <td>None</td>\n",
       "      <td>Private</td>\n",
       "      <td>National</td>\n",
       "      <td>0</td>\n",
       "      <td>None</td>\n",
       "      <td>None</td>\n",
       "      <td>Pro-Am Transportation Ser</td>\n",
       "      <td>1</td>\n",
       "      <td>0</td>\n",
       "      <td>0</td>\n",
       "      <td>995</td>\n",
       "      <td>2007-01-02</td>\n",
       "      <td>2007-01-03</td>\n",
       "    </tr>\n",
       "  </tbody>\n",
       "</table>"
      ],
      "text/plain": [
       "   event_id     mna_type trade_date symbol        event_type  \\\n",
       "0    148664  Acquisition 2007-01-03    FCS  M&A Announcement   \n",
       "1    132422  Acquisition 2007-01-03    NUE  M&A Announcement   \n",
       "2    134823  Acquisition 2007-01-03    BNI  M&A Announcement   \n",
       "\n",
       "                                      event_headline     news_type firm_type  \\\n",
       "0  Fairchild Semiconductor to Acquire System Gene...  Announcement  Acquirer   \n",
       "1        Nucor to Acquire Harris Steel Group for $1B  Announcement  Acquirer   \n",
       "2  Burlington Northern Unit Acquires Pro-Am Trans...  Announcement  Acquirer   \n",
       "\n",
       "  payment_mode target_type    ...     deal_amount  deal_currency  \\\n",
       "0  Mixed Offer      Public    ...             200             $M   \n",
       "1   Cash Offer      Public    ...            1070             $M   \n",
       "2         None     Private    ...               0           None   \n",
       "\n",
       "  related_ticker             related_entity event_rating  price_pershare  \\\n",
       "0           None  System General Corporatio            1               0   \n",
       "1           None         Harris Steel Group            1               0   \n",
       "2           None  Pro-Am Transportation Ser            1               0   \n",
       "\n",
       "   premium_pct    sid  asof_date  timestamp  \n",
       "0            0  20486 2007-01-01 2007-01-02  \n",
       "1            0   5488 2007-01-02 2007-01-03  \n",
       "2            0    995 2007-01-02 2007-01-03  \n",
       "\n",
       "[3 rows x 21 columns]"
      ]
     },
     "execution_count": 5,
     "metadata": {},
     "output_type": "execute_result"
    }
   ],
   "source": [
    "# Let's see what the data looks like. We'll grab the first three rows.\n",
    "dataset[:3]"
   ]
  },
  {
   "cell_type": "code",
   "execution_count": 6,
   "metadata": {
    "collapsed": false
   },
   "outputs": [
    {
     "data": {
      "text/html": [
       "<table border=\"1\" class=\"dataframe\">\n",
       "  <thead>\n",
       "    <tr style=\"text-align: right;\">\n",
       "      <th></th>\n",
       "      <th>is_crossboarder</th>\n",
       "    </tr>\n",
       "  </thead>\n",
       "  <tbody>\n",
       "    <tr>\n",
       "      <th>0</th>\n",
       "      <td>None</td>\n",
       "    </tr>\n",
       "    <tr>\n",
       "      <th>1</th>\n",
       "      <td>National</td>\n",
       "    </tr>\n",
       "    <tr>\n",
       "      <th>2</th>\n",
       "      <td>Other</td>\n",
       "    </tr>\n",
       "    <tr>\n",
       "      <th>3</th>\n",
       "      <td>Cross Border</td>\n",
       "    </tr>\n",
       "  </tbody>\n",
       "</table>"
      ],
      "text/plain": [
       "  is_crossboarder\n",
       "0            None\n",
       "1        National\n",
       "2           Other\n",
       "3    Cross Border"
      ]
     },
     "execution_count": 6,
     "metadata": {},
     "output_type": "execute_result"
    }
   ],
   "source": [
    "dataset.is_crossboarder.distinct()"
   ]
  },
  {
   "cell_type": "markdown",
   "metadata": {},
   "source": [
    "Let's go over the columns:\n",
    "- **event_id**: the unique identifier for this buyback authorization.\n",
    "- **asof_date**: EventVestor's timestamp of event capture.\n",
    "- **trade_date**: for event announcements made before trading ends, trade_date is the same as event_date. For announcements issued after market close, trade_date is next market open day.\n",
    "- **symbol**: stock ticker symbol of the affected company.\n",
    "- **event_type**: this should always be *Buyback*.\n",
    "- **event_headline**: a short description of the event.\n",
    "- **timestamp**: this is our timestamp on when we registered the data.\n",
    "- **sid**: the equity's unique identifier. Use this instead of the symbol.\n",
    "- **news_type**: the type of news - `Announcement, Close, Proposal, Termination, Rumor, Rejection, None`\n",
    "- **firm_type**: either `Target` or `Acquirer`\n",
    "- **payment_mode**: the type of offer made - `Mixed Offer, Cash Offer, Other, Stock Offer, None`\n",
    "- **target_type**: `Public, Private, PE Holding, VC Funded, None`\n",
    "- **is_crossboarder**: `None, National, Other, Cross Border`\n",
    "- **deal_amount, deal_currency**: the amount of the deal and its corresponding currency\n",
    "- **related_ticker**: if present, this indicates the ticker being acquired or that is acquiring\n",
    "- **price_pershare, premium_pct**: the price per share and the premium paid\n",
    "\n",
    "\n",
    "We've done much of the data processing for you. Fields like `timestamp` and `sid` are standardized across all our Store Datasets, so the datasets are easy to combine. We have standardized the `sid` across all our equity databases.\n",
    "\n",
    "We can select columns and rows with ease. Below, we'll fetch all entries for Microsoft. We're really only interested in the buyback amount, the units, and the date, so we'll display only those columns."
   ]
  },
  {
   "cell_type": "code",
   "execution_count": 7,
   "metadata": {
    "collapsed": false
   },
   "outputs": [
    {
     "data": {
      "text/plain": [
       "Equity(5061, symbol=u'MSFT', asset_name=u'MICROSOFT CORP', exchange=u'NASDAQ', start_date=Timestamp('2002-01-01 00:00:00+0000', tz='UTC'), end_date=Timestamp('2016-09-06 00:00:00+0000', tz='UTC'), first_traded=None, auto_close_date=Timestamp('2016-09-09 00:00:00+0000', tz='UTC'), exchange_full=u'NASDAQ GLOBAL SELECT MARKET')"
      ]
     },
     "execution_count": 7,
     "metadata": {},
     "output_type": "execute_result"
    }
   ],
   "source": [
    "# get the sid for MSFT\n",
    "symbols('MSFT')"
   ]
  },
  {
   "cell_type": "code",
   "execution_count": 8,
   "metadata": {
    "collapsed": false
   },
   "outputs": [
    {
     "data": {
      "text/html": [
       "<table border=\"1\" class=\"dataframe\">\n",
       "  <thead>\n",
       "    <tr style=\"text-align: right;\">\n",
       "      <th></th>\n",
       "      <th>event_id</th>\n",
       "      <th>mna_type</th>\n",
       "      <th>trade_date</th>\n",
       "      <th>symbol</th>\n",
       "      <th>event_type</th>\n",
       "      <th>event_headline</th>\n",
       "      <th>news_type</th>\n",
       "      <th>firm_type</th>\n",
       "      <th>payment_mode</th>\n",
       "      <th>target_type</th>\n",
       "      <th>is_crossboarder</th>\n",
       "      <th>deal_amount</th>\n",
       "      <th>deal_currency</th>\n",
       "      <th>related_ticker</th>\n",
       "      <th>related_entity</th>\n",
       "      <th>event_rating</th>\n",
       "      <th>price_pershare</th>\n",
       "      <th>premium_pct</th>\n",
       "      <th>sid</th>\n",
       "      <th>asof_date</th>\n",
       "      <th>timestamp</th>\n",
       "    </tr>\n",
       "  </thead>\n",
       "  <tbody>\n",
       "    <tr>\n",
       "      <th>0</th>\n",
       "      <td>78373</td>\n",
       "      <td>Acquisition</td>\n",
       "      <td>2007-05-25</td>\n",
       "      <td>MSFT</td>\n",
       "      <td>M&amp;A Announcement</td>\n",
       "      <td>Microsoft to Acquire aQuantive for $6B</td>\n",
       "      <td>Announcement</td>\n",
       "      <td>Acquirer</td>\n",
       "      <td>Cash Offer</td>\n",
       "      <td>Public</td>\n",
       "      <td>National</td>\n",
       "      <td>6000</td>\n",
       "      <td>$M</td>\n",
       "      <td>AQNT</td>\n",
       "      <td>None</td>\n",
       "      <td>1</td>\n",
       "      <td>0.00</td>\n",
       "      <td>0</td>\n",
       "      <td>5061</td>\n",
       "      <td>2007-05-24</td>\n",
       "      <td>2007-05-25</td>\n",
       "    </tr>\n",
       "    <tr>\n",
       "      <th>1</th>\n",
       "      <td>78370</td>\n",
       "      <td>None</td>\n",
       "      <td>2007-08-13</td>\n",
       "      <td>MSFT</td>\n",
       "      <td>M&amp;A Announcement</td>\n",
       "      <td>Microsoft Completes Acquisition of aQuantive, ...</td>\n",
       "      <td>Close</td>\n",
       "      <td>None</td>\n",
       "      <td>None</td>\n",
       "      <td>None</td>\n",
       "      <td>None</td>\n",
       "      <td>0</td>\n",
       "      <td>None</td>\n",
       "      <td>None</td>\n",
       "      <td>None</td>\n",
       "      <td>1</td>\n",
       "      <td>0.00</td>\n",
       "      <td>0</td>\n",
       "      <td>5061</td>\n",
       "      <td>2007-08-13</td>\n",
       "      <td>2007-08-14</td>\n",
       "    </tr>\n",
       "    <tr>\n",
       "      <th>2</th>\n",
       "      <td>125294</td>\n",
       "      <td>Acquisition</td>\n",
       "      <td>2007-11-12</td>\n",
       "      <td>MSFT</td>\n",
       "      <td>M&amp;A Announcement</td>\n",
       "      <td>Microsoft Intends to Acquire Musiwave</td>\n",
       "      <td>Announcement</td>\n",
       "      <td>Acquirer</td>\n",
       "      <td>Cash Offer</td>\n",
       "      <td>Private</td>\n",
       "      <td>Cross Border</td>\n",
       "      <td>0</td>\n",
       "      <td>None</td>\n",
       "      <td>None</td>\n",
       "      <td>Musiwave SA</td>\n",
       "      <td>1</td>\n",
       "      <td>0.00</td>\n",
       "      <td>0</td>\n",
       "      <td>5061</td>\n",
       "      <td>2007-11-12</td>\n",
       "      <td>2007-11-13</td>\n",
       "    </tr>\n",
       "    <tr>\n",
       "      <th>3</th>\n",
       "      <td>134224</td>\n",
       "      <td>None</td>\n",
       "      <td>2007-12-12</td>\n",
       "      <td>MSFT</td>\n",
       "      <td>M&amp;A Announcement</td>\n",
       "      <td>Microsoft Completes Acquisition of UK based Mu...</td>\n",
       "      <td>Close</td>\n",
       "      <td>None</td>\n",
       "      <td>None</td>\n",
       "      <td>None</td>\n",
       "      <td>None</td>\n",
       "      <td>0</td>\n",
       "      <td>None</td>\n",
       "      <td>None</td>\n",
       "      <td>Multimap</td>\n",
       "      <td>1</td>\n",
       "      <td>0.00</td>\n",
       "      <td>0</td>\n",
       "      <td>5061</td>\n",
       "      <td>2007-12-12</td>\n",
       "      <td>2007-12-13</td>\n",
       "    </tr>\n",
       "    <tr>\n",
       "      <th>4</th>\n",
       "      <td>137589</td>\n",
       "      <td>Acquisition</td>\n",
       "      <td>2008-01-08</td>\n",
       "      <td>MSFT</td>\n",
       "      <td>M&amp;A Announcement</td>\n",
       "      <td>Microsoft to Acquire Norway's Fast Search for ...</td>\n",
       "      <td>Announcement</td>\n",
       "      <td>Acquirer</td>\n",
       "      <td>Cash Offer</td>\n",
       "      <td>Public</td>\n",
       "      <td>Cross Border</td>\n",
       "      <td>1200</td>\n",
       "      <td>$M</td>\n",
       "      <td>FAST</td>\n",
       "      <td>Fast Search &amp; Transfer AS</td>\n",
       "      <td>1</td>\n",
       "      <td>3.54</td>\n",
       "      <td>42</td>\n",
       "      <td>5061</td>\n",
       "      <td>2008-01-08</td>\n",
       "      <td>2008-01-09</td>\n",
       "    </tr>\n",
       "  </tbody>\n",
       "</table>"
      ],
      "text/plain": [
       "   event_id     mna_type trade_date symbol        event_type  \\\n",
       "0     78373  Acquisition 2007-05-25   MSFT  M&A Announcement   \n",
       "1     78370         None 2007-08-13   MSFT  M&A Announcement   \n",
       "2    125294  Acquisition 2007-11-12   MSFT  M&A Announcement   \n",
       "3    134224         None 2007-12-12   MSFT  M&A Announcement   \n",
       "4    137589  Acquisition 2008-01-08   MSFT  M&A Announcement   \n",
       "\n",
       "                                      event_headline     news_type firm_type  \\\n",
       "0             Microsoft to Acquire aQuantive for $6B  Announcement  Acquirer   \n",
       "1  Microsoft Completes Acquisition of aQuantive, ...         Close      None   \n",
       "2            Microsoft Intends to Acquire Musiwave    Announcement  Acquirer   \n",
       "3  Microsoft Completes Acquisition of UK based Mu...         Close      None   \n",
       "4  Microsoft to Acquire Norway's Fast Search for ...  Announcement  Acquirer   \n",
       "\n",
       "  payment_mode target_type    ...     deal_amount  deal_currency  \\\n",
       "0   Cash Offer      Public    ...            6000             $M   \n",
       "1         None        None    ...               0           None   \n",
       "2   Cash Offer     Private    ...               0           None   \n",
       "3         None        None    ...               0           None   \n",
       "4   Cash Offer      Public    ...            1200             $M   \n",
       "\n",
       "  related_ticker             related_entity event_rating  price_pershare  \\\n",
       "0           AQNT                       None            1            0.00   \n",
       "1           None                       None            1            0.00   \n",
       "2           None                Musiwave SA            1            0.00   \n",
       "3           None                   Multimap            1            0.00   \n",
       "4           FAST  Fast Search & Transfer AS            1            3.54   \n",
       "\n",
       "   premium_pct   sid  asof_date  timestamp  \n",
       "0            0  5061 2007-05-24 2007-05-25  \n",
       "1            0  5061 2007-08-13 2007-08-14  \n",
       "2            0  5061 2007-11-12 2007-11-13  \n",
       "3            0  5061 2007-12-12 2007-12-13  \n",
       "4           42  5061 2008-01-08 2008-01-09  \n",
       "\n",
       "[5 rows x 21 columns]"
      ]
     },
     "execution_count": 8,
     "metadata": {},
     "output_type": "execute_result"
    }
   ],
   "source": [
    "# knowing that the MSFT sid is 5061:\n",
    "msft = dataset[dataset.sid==5061]\n",
    "msft[:5]"
   ]
  },
  {
   "cell_type": "markdown",
   "metadata": {},
   "source": [
    "<a id='pipeline'></a>\n",
    "\n",
    "#Pipeline Overview\n",
    "\n",
    "### Accessing the data in your algorithms & research\n",
    "The only method for accessing partner data within algorithms running on Quantopian is via the pipeline API.\n",
    "\n",
    "There are a few factors available using the M&A dataset through Pipeline. **They allow you to identify securities that are the current target of an acquisition.** You can also view the payment mode used in the offer as well as the number of business days since the offer was made."
   ]
  },
  {
   "cell_type": "code",
   "execution_count": 9,
   "metadata": {
    "collapsed": true
   },
   "outputs": [],
   "source": [
    "# Import necessary Pipeline modules\n",
    "from quantopian.pipeline import Pipeline\n",
    "from quantopian.research import run_pipeline\n",
    "from quantopian.pipeline.factors import AverageDollarVolume"
   ]
  },
  {
   "cell_type": "markdown",
   "metadata": {},
   "source": [
    "### Filtering out ANNOUNCED targets\n",
    "\n",
    "The following code below shows you how to filter out targets of acquisitions."
   ]
  },
  {
   "cell_type": "code",
   "execution_count": 11,
   "metadata": {
    "collapsed": false
   },
   "outputs": [],
   "source": [
    "from quantopian.pipeline.classifiers.eventvestor import (\n",
    "    AnnouncedAcqTargetType,\n",
    "    ProposedAcqTargetType,\n",
    ")\n",
    "from quantopian.pipeline.factors.eventvestor import (\n",
    "    BusinessDaysSinceAnnouncedAcquisition,\n",
    "    BusinessDaysSinceProposedAcquisition\n",
    ")\n",
    "from quantopian.pipeline.filters.eventvestor import (\n",
    "    IsAnnouncedAcqTarget\n",
    ")\n",
    "\n",
    "from quantopian.pipeline import Pipeline\n",
    "from quantopian.research import run_pipeline\n",
    "    \n",
    "def screen_ma_targets_by_type(target_type='cash'):\n",
    "    \"\"\"\n",
    "    target_type:\n",
    "        (string) Available options are 'cash', 'stock', 'mixed', 'all'.\n",
    "        This will filter all offers of type target_type.\n",
    "    \"\"\"\n",
    "    if target_type == 'all':\n",
    "        return (~IsAnnouncedAcqTarget())\n",
    "    else:\n",
    "        if target_type == 'cash':\n",
    "            filter_offer = 'Cash Offer'\n",
    "        elif target_type == 'stock':\n",
    "            filter_offer = 'Stock Offer'\n",
    "        elif target_type == 'mixed':\n",
    "            filter_offer = 'Mixed Offer'\n",
    "        return (~AnnouncedAcqTargetType().eq(filter_offer))\n",
    "    \n",
    "def screen_ma_targets_by_days(days=200):\n",
    "    \"\"\"\n",
    "    days:\n",
    "        (int) Filters out securities that have had an announcement\n",
    "        less than X days. So if days is 200, all securities\n",
    "        that have had an announcement less than 200 days ago will be\n",
    "        filtered out.\n",
    "    \"\"\"\n",
    "    b_days = BusinessDaysSinceAnnouncedAcquisition()\n",
    "    return ((b_days > days) | b_days.isnull())\n",
    "\n",
    "pipe = Pipeline(\n",
    "    columns={\n",
    "            'AnnouncedAcqTargetType': AnnouncedAcqTargetType(),\n",
    "            'BusinessDays': BusinessDaysSinceAnnouncedAcquisition()\n",
    "            },\n",
    "    screen=(screen_ma_targets_by_days(60) &\n",
    "            screen_ma_targets_by_type(target_type='stock'))\n",
    ")\n",
    "\n",
    "output = run_pipeline(pipe, start_date='2016-07-28', end_date='2016-07-28')"
   ]
  },
  {
   "cell_type": "markdown",
   "metadata": {},
   "source": [
    "### Filtering out PROPOSED targets\n",
    "\n",
    "If you'd also like to filter out proposed targets, please view below"
   ]
  },
  {
   "cell_type": "code",
   "execution_count": 12,
   "metadata": {
    "collapsed": true
   },
   "outputs": [],
   "source": [
    "\"\"\"\n",
    "Similar functions for M&A Proposals (different from Announcements)\n",
    "\"\"\"\n",
    "\n",
    "def screen_ma_proposal_targets_by_type(target_type='cash'):\n",
    "    \"\"\"\n",
    "    target_type:\n",
    "        (string) Available options are 'cash', 'stock', 'mixed', 'all'.\n",
    "        This will filter all offers of type target_type.\n",
    "    \"\"\"\n",
    "    if target_type == 'all':\n",
    "        return (ProposedAcqTargetType().isnull() &\n",
    "                BusinessDaysSinceProposedAcquisition().isnull())\n",
    "    if target_type == 'cash':\n",
    "        filter_offer = 'Cash Offer'\n",
    "    elif target_type == 'stock':\n",
    "        filter_offer = 'Stock Offer'\n",
    "    elif target_type == 'mixed':\n",
    "        filter_offer = 'Mixed Offer'\n",
    "    return (~ProposedAcqTargetType().eq(filter_offer))\n",
    "    \n",
    "def screen_ma_proposal_targets_by_days(days=200):\n",
    "    \"\"\"\n",
    "    days:\n",
    "        (int) Filters out securities that have had an announcement\n",
    "        less than X days. So if days is 200, all securities\n",
    "        that have had an announcement less than 200 days ago will be\n",
    "        filtered out.\n",
    "    \"\"\"\n",
    "    b_days = BusinessDaysSinceProposedAcquisition()\n",
    "    return ((b_days > days) | b_days.isnull())"
   ]
  }
 ],
 "metadata": {
  "kernelspec": {
   "display_name": "Python 2",
   "language": "python",
   "name": "python2"
  },
  "language_info": {
   "codemirror_mode": {
    "name": "ipython",
    "version": 2
   },
   "file_extension": ".py",
   "mimetype": "text/x-python",
   "name": "python",
   "nbconvert_exporter": "python",
   "pygments_lexer": "ipython2",
   "version": "2.7.12"
  }
 },
 "nbformat": 4,
 "nbformat_minor": 0
}