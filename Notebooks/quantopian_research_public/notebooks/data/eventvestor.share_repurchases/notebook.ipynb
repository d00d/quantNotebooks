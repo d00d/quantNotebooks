{
 "cells": [
  {
   "cell_type": "markdown",
   "metadata": {
    "collapsed": true
   },
   "source": [
    "# EventVestor: Share Repurchases\n",
    "\n",
    "In this notebook, we'll take a look at EventVestor's *Share Repurchases* dataset, available on the [Quantopian Store](https://www.quantopian.com/store). This dataset spans January 01, 2007 through the current day, and documents actual share repurchase announcements by companies. Note that this is **different** from [Share Buyback Authorizations](https://www.quantopian.com/store/eventvestor/buyback_auth).\n",
    "\n",
    "### Blaze\n",
    "Before we dig into the data, we want to tell you about how  you generally access Quantopian Store data sets. These datasets are available through an API service known as [Blaze](http://blaze.pydata.org). Blaze provides the Quantopian user with a convenient interface to access very large datasets.\n",
    "\n",
    "Blaze provides an important function for accessing these datasets. Some of these sets are many millions of records. Bringing that data directly into Quantopian Research directly just is not viable. So Blaze allows us to provide a simple querying interface and shift the burden over to the server side.\n",
    "\n",
    "It is common to use Blaze to reduce your dataset in size, convert it over to Pandas and then to use Pandas for further computation, manipulation and visualization.\n",
    "\n",
    "Helpful links:\n",
    "* [Query building for Blaze](http://blaze.pydata.org/en/latest/queries.html)\n",
    "* [Pandas-to-Blaze dictionary](http://blaze.pydata.org/en/latest/rosetta-pandas.html)\n",
    "* [SQL-to-Blaze dictionary](http://blaze.pydata.org/en/latest/rosetta-sql.html).\n",
    "\n",
    "Once you've limited the size of your Blaze object, you can convert it to a Pandas DataFrames using:\n",
    "> `from odo import odo`  \n",
    "> `odo(expr, pandas.DataFrame)`\n",
    "\n",
    "### Free samples and limits\n",
    "One other key caveat: we limit the number of results returned from any given expression to 10,000 to protect against runaway memory usage. To be clear, you have access to all the data server side. We are limiting the size of the responses back from Blaze.\n",
    "\n",
    "There is a *free* version of this dataset as well as a paid one. The free one includes about three years of historical data, though not up to the current day.\n",
    "\n",
    "With preamble in place, let's get started:"
   ]
  },
  {
   "cell_type": "code",
   "execution_count": 1,
   "metadata": {
    "collapsed": false
   },
   "outputs": [],
   "source": [
    "# import the dataset\n",
    "from quantopian.interactive.data.eventvestor import share_repurchases\n",
    "# or if you want to import the free dataset, use:\n",
    "# from quantopian.interactive.data.eventvestor import share_repurchases_free\n",
    "\n",
    "# import data operations\n",
    "from odo import odo\n",
    "# import other libraries we will use\n",
    "import pandas as pd"
   ]
  },
  {
   "cell_type": "code",
   "execution_count": 2,
   "metadata": {
    "collapsed": false
   },
   "outputs": [
    {
     "data": {
      "text/plain": [
       "dshape(\"\"\"var * {\n",
       "  event_id: ?float64,\n",
       "  asof_date: datetime,\n",
       "  trade_date: ?datetime,\n",
       "  symbol: ?string,\n",
       "  event_type: ?string,\n",
       "  event_headline: ?string,\n",
       "  repurchase_amount: ?float64,\n",
       "  repurchase_units: ?string,\n",
       "  event_rating: ?float64,\n",
       "  timestamp: datetime,\n",
       "  sid: ?int64\n",
       "  }\"\"\")"
      ]
     },
     "execution_count": 2,
     "metadata": {},
     "output_type": "execute_result"
    }
   ],
   "source": [
    "# Let's use blaze to understand the data a bit using Blaze dshape()\n",
    "share_repurchases.dshape"
   ]
  },
  {
   "cell_type": "code",
   "execution_count": 3,
   "metadata": {
    "collapsed": false
   },
   "outputs": [
    {
     "data": {
      "text/html": [
       "15509"
      ],
      "text/plain": [
       "15509"
      ]
     },
     "execution_count": 3,
     "metadata": {},
     "output_type": "execute_result"
    }
   ],
   "source": [
    "# And how many rows are there?\n",
    "# N.B. we're using a Blaze function to do this, not len()\n",
    "share_repurchases.count()"
   ]
  },
  {
   "cell_type": "code",
   "execution_count": 4,
   "metadata": {
    "collapsed": false
   },
   "outputs": [
    {
     "data": {
      "text/html": [
       "<table border=\"1\" class=\"dataframe\">\n",
       "  <thead>\n",
       "    <tr style=\"text-align: right;\">\n",
       "      <th></th>\n",
       "      <th>event_id</th>\n",
       "      <th>asof_date</th>\n",
       "      <th>trade_date</th>\n",
       "      <th>symbol</th>\n",
       "      <th>event_type</th>\n",
       "      <th>event_headline</th>\n",
       "      <th>repurchase_amount</th>\n",
       "      <th>repurchase_units</th>\n",
       "      <th>event_rating</th>\n",
       "      <th>timestamp</th>\n",
       "      <th>sid</th>\n",
       "    </tr>\n",
       "  </thead>\n",
       "  <tbody>\n",
       "    <tr>\n",
       "      <th>0</th>\n",
       "      <td>1113050</td>\n",
       "      <td>2007-01-17</td>\n",
       "      <td>2007-01-17</td>\n",
       "      <td>TESS</td>\n",
       "      <td>Buyback Update</td>\n",
       "      <td>TESSCO Tech Repurchases $1.7M Shares in 3Q 07 ...</td>\n",
       "      <td>1.7</td>\n",
       "      <td>$M</td>\n",
       "      <td>1</td>\n",
       "      <td>2007-01-18</td>\n",
       "      <td>11968</td>\n",
       "    </tr>\n",
       "    <tr>\n",
       "      <th>1</th>\n",
       "      <td>131345</td>\n",
       "      <td>2007-01-17</td>\n",
       "      <td>2007-01-18</td>\n",
       "      <td>WM</td>\n",
       "      <td>Buyback Update</td>\n",
       "      <td>Washington Mutual Announces $2.7B Accelerated ...</td>\n",
       "      <td>2700.0</td>\n",
       "      <td>$M</td>\n",
       "      <td>1</td>\n",
       "      <td>2007-01-18</td>\n",
       "      <td>19181</td>\n",
       "    </tr>\n",
       "    <tr>\n",
       "      <th>2</th>\n",
       "      <td>137183</td>\n",
       "      <td>2007-01-23</td>\n",
       "      <td>2007-01-23</td>\n",
       "      <td>RDN</td>\n",
       "      <td>Buyback Update</td>\n",
       "      <td>Radian Group Repurchased 1.5M shares for $81.1...</td>\n",
       "      <td>81.1</td>\n",
       "      <td>$M</td>\n",
       "      <td>1</td>\n",
       "      <td>2007-01-24</td>\n",
       "      <td>20276</td>\n",
       "    </tr>\n",
       "  </tbody>\n",
       "</table>"
      ],
      "text/plain": [
       "   event_id  asof_date trade_date symbol      event_type  \\\n",
       "0   1113050 2007-01-17 2007-01-17   TESS  Buyback Update   \n",
       "1    131345 2007-01-17 2007-01-18     WM  Buyback Update   \n",
       "2    137183 2007-01-23 2007-01-23    RDN  Buyback Update   \n",
       "\n",
       "                                      event_headline  repurchase_amount  \\\n",
       "0  TESSCO Tech Repurchases $1.7M Shares in 3Q 07 ...                1.7   \n",
       "1  Washington Mutual Announces $2.7B Accelerated ...             2700.0   \n",
       "2  Radian Group Repurchased 1.5M shares for $81.1...               81.1   \n",
       "\n",
       "  repurchase_units  event_rating  timestamp    sid  \n",
       "0               $M             1 2007-01-18  11968  \n",
       "1               $M             1 2007-01-18  19181  \n",
       "2               $M             1 2007-01-24  20276  "
      ]
     },
     "execution_count": 4,
     "metadata": {},
     "output_type": "execute_result"
    }
   ],
   "source": [
    "# Let's see what the data looks like. We'll grab the first three rows.\n",
    "share_repurchases[:3]"
   ]
  },
  {
   "cell_type": "markdown",
   "metadata": {},
   "source": [
    "Let's go over the columns:\n",
    "- **event_id**: the unique identifier for this event.\n",
    "- **asof_date**: EventVestor's timestamp of event capture.\n",
    "- **trade_date**: for event announcements made before trading ends, trade_date is the same as event_date. For announcements issued after market close, trade_date is next market open day.\n",
    "- **symbol**: stock ticker symbol of the affected company.\n",
    "- **event_type**: this should always be *Buyback Update*.\n",
    "- **event_headline**: a brief description of the event\n",
    "- **repurchase_amount**: amount of shares (in repurchase_units) repurchased during the reported period\n",
    "- **repurchase_units**: millions of dollars or percent of total shares outstanding.\n",
    "- **event_rating**: this is always 1. The meaning of this is uncertain.\n",
    "- **timestamp**: this is our timestamp on when we registered the data.\n",
    "- **sid**: the equity's unique identifier. Use this instead of the symbol."
   ]
  },
  {
   "cell_type": "markdown",
   "metadata": {},
   "source": [
    "We've done much of the data processing for you. Fields like `timestamp` and `sid` are standardized across all our Store Datasets, so the datasets are easy to combine. We have standardized the `sid` across all our equity databases.\n",
    "\n",
    "We can select columns and rows with ease. Below, we'll fetch Apple's 2014 share repurchases."
   ]
  },
  {
   "cell_type": "code",
   "execution_count": 5,
   "metadata": {
    "collapsed": false,
    "scrolled": true
   },
   "outputs": [
    {
     "data": {
      "text/html": [
       "<table border=\"1\" class=\"dataframe\">\n",
       "  <thead>\n",
       "    <tr style=\"text-align: right;\">\n",
       "      <th></th>\n",
       "      <th>event_id</th>\n",
       "      <th>asof_date</th>\n",
       "      <th>trade_date</th>\n",
       "      <th>symbol</th>\n",
       "      <th>event_type</th>\n",
       "      <th>event_headline</th>\n",
       "      <th>repurchase_amount</th>\n",
       "      <th>repurchase_units</th>\n",
       "      <th>event_rating</th>\n",
       "      <th>timestamp</th>\n",
       "      <th>sid</th>\n",
       "    </tr>\n",
       "  </thead>\n",
       "  <tbody>\n",
       "    <tr>\n",
       "      <th>0</th>\n",
       "      <td>1918241</td>\n",
       "      <td>2014-01-27</td>\n",
       "      <td>2014-01-27</td>\n",
       "      <td>AAPL</td>\n",
       "      <td>Buyback Update</td>\n",
       "      <td>Apple Repurchases $5.03B Common Stock in 1Q 14</td>\n",
       "      <td>5029</td>\n",
       "      <td>$M</td>\n",
       "      <td>1</td>\n",
       "      <td>2014-01-28</td>\n",
       "      <td>24</td>\n",
       "    </tr>\n",
       "    <tr>\n",
       "      <th>1</th>\n",
       "      <td>1674141</td>\n",
       "      <td>2014-02-07</td>\n",
       "      <td>2014-02-07</td>\n",
       "      <td>AAPL</td>\n",
       "      <td>Buyback Update</td>\n",
       "      <td>Apple Repurchases $14B Common Stock Since 1Q 1...</td>\n",
       "      <td>14000</td>\n",
       "      <td>$M</td>\n",
       "      <td>1</td>\n",
       "      <td>2014-02-08</td>\n",
       "      <td>24</td>\n",
       "    </tr>\n",
       "    <tr>\n",
       "      <th>2</th>\n",
       "      <td>1918254</td>\n",
       "      <td>2014-04-23</td>\n",
       "      <td>2014-04-23</td>\n",
       "      <td>AAPL</td>\n",
       "      <td>Buyback Update</td>\n",
       "      <td>Apple Repurchases $23B Common Stock in FY 14 YTD</td>\n",
       "      <td>23000</td>\n",
       "      <td>$M</td>\n",
       "      <td>1</td>\n",
       "      <td>2014-04-24</td>\n",
       "      <td>24</td>\n",
       "    </tr>\n",
       "    <tr>\n",
       "      <th>3</th>\n",
       "      <td>1918258</td>\n",
       "      <td>2014-07-22</td>\n",
       "      <td>2014-07-22</td>\n",
       "      <td>AAPL</td>\n",
       "      <td>Buyback Update</td>\n",
       "      <td>Apple Repurchases $28B Common Stock in FY 14 YTD</td>\n",
       "      <td>5000</td>\n",
       "      <td>$M</td>\n",
       "      <td>1</td>\n",
       "      <td>2014-07-23</td>\n",
       "      <td>24</td>\n",
       "    </tr>\n",
       "    <tr>\n",
       "      <th>4</th>\n",
       "      <td>1918275</td>\n",
       "      <td>2014-10-20</td>\n",
       "      <td>2014-10-20</td>\n",
       "      <td>AAPL</td>\n",
       "      <td>Buyback Update</td>\n",
       "      <td>Apple Repurchases $45B Common Stock in FY 14</td>\n",
       "      <td>17000</td>\n",
       "      <td>$M</td>\n",
       "      <td>1</td>\n",
       "      <td>2014-10-21</td>\n",
       "      <td>24</td>\n",
       "    </tr>\n",
       "  </tbody>\n",
       "</table>"
      ],
      "text/plain": [
       "   event_id  asof_date trade_date symbol      event_type  \\\n",
       "0   1918241 2014-01-27 2014-01-27   AAPL  Buyback Update   \n",
       "1   1674141 2014-02-07 2014-02-07   AAPL  Buyback Update   \n",
       "2   1918254 2014-04-23 2014-04-23   AAPL  Buyback Update   \n",
       "3   1918258 2014-07-22 2014-07-22   AAPL  Buyback Update   \n",
       "4   1918275 2014-10-20 2014-10-20   AAPL  Buyback Update   \n",
       "\n",
       "                                      event_headline  repurchase_amount  \\\n",
       "0     Apple Repurchases $5.03B Common Stock in 1Q 14               5029   \n",
       "1  Apple Repurchases $14B Common Stock Since 1Q 1...              14000   \n",
       "2   Apple Repurchases $23B Common Stock in FY 14 YTD              23000   \n",
       "3   Apple Repurchases $28B Common Stock in FY 14 YTD               5000   \n",
       "4       Apple Repurchases $45B Common Stock in FY 14              17000   \n",
       "\n",
       "  repurchase_units  event_rating  timestamp  sid  \n",
       "0               $M             1 2014-01-28   24  \n",
       "1               $M             1 2014-02-08   24  \n",
       "2               $M             1 2014-04-24   24  \n",
       "3               $M             1 2014-07-23   24  \n",
       "4               $M             1 2014-10-21   24  "
      ]
     },
     "execution_count": 5,
     "metadata": {},
     "output_type": "execute_result"
    }
   ],
   "source": [
    "# get apple's sid first\n",
    "apple_sid = symbols('AAPL').sid\n",
    "buybacks = share_repurchases[('2013-12-31' < share_repurchases['asof_date']) & \n",
    "                                (share_repurchases['asof_date'] <'2015-01-01') & \n",
    "                                (share_repurchases.sid == apple_sid)]\n",
    "# When displaying a Blaze Data Object, the printout is automatically truncated to ten rows.\n",
    "buybacks.sort('asof_date')"
   ]
  },
  {
   "cell_type": "markdown",
   "metadata": {},
   "source": [
    "Now suppose we want a DataFrame of the Blaze Data Object above, but only want the `asof_date, repurchase_units`, and the `repurchase_amount`."
   ]
  },
  {
   "cell_type": "code",
   "execution_count": 6,
   "metadata": {
    "collapsed": false
   },
   "outputs": [
    {
     "data": {
      "text/html": [
       "<div style=\"max-height:1000px;max-width:1500px;overflow:auto;\">\n",
       "<table border=\"1\" class=\"dataframe\">\n",
       "  <thead>\n",
       "    <tr style=\"text-align: right;\">\n",
       "      <th></th>\n",
       "      <th>asof_date</th>\n",
       "      <th>repurchase_amount</th>\n",
       "      <th>repurchase_units</th>\n",
       "    </tr>\n",
       "  </thead>\n",
       "  <tbody>\n",
       "    <tr>\n",
       "      <th>0</th>\n",
       "      <td>2014-01-27</td>\n",
       "      <td>5029</td>\n",
       "      <td>$M</td>\n",
       "    </tr>\n",
       "    <tr>\n",
       "      <th>1</th>\n",
       "      <td>2014-02-07</td>\n",
       "      <td>14000</td>\n",
       "      <td>$M</td>\n",
       "    </tr>\n",
       "    <tr>\n",
       "      <th>2</th>\n",
       "      <td>2014-04-23</td>\n",
       "      <td>23000</td>\n",
       "      <td>$M</td>\n",
       "    </tr>\n",
       "    <tr>\n",
       "      <th>3</th>\n",
       "      <td>2014-07-22</td>\n",
       "      <td>5000</td>\n",
       "      <td>$M</td>\n",
       "    </tr>\n",
       "    <tr>\n",
       "      <th>4</th>\n",
       "      <td>2014-10-20</td>\n",
       "      <td>17000</td>\n",
       "      <td>$M</td>\n",
       "    </tr>\n",
       "  </tbody>\n",
       "</table>\n",
       "</div>"
      ],
      "text/plain": [
       "   asof_date  repurchase_amount repurchase_units\n",
       "0 2014-01-27               5029               $M\n",
       "1 2014-02-07              14000               $M\n",
       "2 2014-04-23              23000               $M\n",
       "3 2014-07-22               5000               $M\n",
       "4 2014-10-20              17000               $M"
      ]
     },
     "execution_count": 6,
     "metadata": {},
     "output_type": "execute_result"
    }
   ],
   "source": [
    "df = odo(buybacks, pd.DataFrame)\n",
    "df = df[['asof_date','repurchase_amount','repurchase_units']]\n",
    "df"
   ]
  }
 ],
 "metadata": {
  "kernelspec": {
   "display_name": "Python 2",
   "language": "python",
   "name": "python2"
  },
  "language_info": {
   "codemirror_mode": {
    "name": "ipython",
    "version": 2
   },
   "file_extension": ".py",
   "mimetype": "text/x-python",
   "name": "python",
   "nbconvert_exporter": "python",
   "pygments_lexer": "ipython2",
   "version": "2.7.12"
  }
 },
 "nbformat": 4,
 "nbformat_minor": 0
}