{
 "cells": [
  {
   "cell_type": "markdown",
   "metadata": {},
   "source": [
    "## Lesson 2: Futures in Research"
   ]
  },
  {
   "cell_type": "markdown",
   "metadata": {},
   "source": [
    "### Futures Data\n",
    "Quantopian has open, high, low, close, and volume (OHLCV) data for 72 US futures from the beginning of 2002 to the current date. This dataset contains both day and minute frequency data for 24 hours x 5 days a week, and is collected from electronic trade data.\n",
    "\n",
    "The list of US futures currently available on Quantopian can be found at the <a href=\"#futures_list\">end of this notebook.</a>"
   ]
  },
  {
   "cell_type": "markdown",
   "metadata": {},
   "source": [
    "### Future Object"
   ]
  },
  {
   "cell_type": "markdown",
   "metadata": {},
   "source": [
    "On Quantopian, a `Future` is an instance of a specific futures contract denoted by a base symbol + a code for month/year of delivery. For example, `CLF16` is a contract for <a href=\"http://www.cmegroup.com/trading/energy/crude-oil/light-sweet-crude.html\">crude oil</a> with delivery date in January (`F`) 2016 (`16`). Here is a reference for delivery months and their corresponding codes:  \n",
    "\n",
    "Code | Delivery Month |\n",
    "--- | --- | \n",
    "F | January\n",
    "G | February\n",
    "H | March\n",
    "J | April\n",
    "K | May\n",
    "M | June\n",
    "N | July\n",
    "Q | August\n",
    "U | September\n",
    "V | October\n",
    "X | November\n",
    "Z | December"
   ]
  },
  {
   "cell_type": "markdown",
   "metadata": {},
   "source": [
    "Let's start by looking at a particular contract of the Light Sweet Crude Oil future (`CL`). In Research, a reference to a futures contract is obtained via the <a href=\"https://www.quantopian.com/help#quantopian_research_symbols\">symbols</a> function. Run the following code in a new cell to output the `Future` object corresponding to `CLF16`."
   ]
  },
  {
   "cell_type": "code",
   "execution_count": 1,
   "metadata": {
    "collapsed": false
   },
   "outputs": [
    {
     "data": {
      "text/plain": [
       "Future(1058201601, symbol=u'CLF16', root_symbol=u'CL', asset_name=u'Light Sweet Crude Oil', exchange=u'NYMEX', start_date=Timestamp('2012-01-19 00:00:00+0000', tz='UTC'), end_date=Timestamp('2015-12-21 00:00:00+0000', tz='UTC'), first_traded=None, notice_date=Timestamp('2015-12-23 00:00:00+0000', tz='UTC'), expiration_date=Timestamp('2015-12-21 00:00:00+0000', tz='UTC'), auto_close_date=Timestamp('2015-12-17 00:00:00+0000', tz='UTC'), tick_size=0.01, multiplier=1000.0, exchange_full=u'NYMEX')"
      ]
     },
     "execution_count": 1,
     "metadata": {},
     "output_type": "execute_result"
    }
   ],
   "source": [
    "clf16 = symbols('CLF16')\n",
    "clf16"
   ]
  },
  {
   "cell_type": "markdown",
   "metadata": {},
   "source": [
    "Here is a brief description of some of the properies of the `Future` object:\n",
    "\n",
    "- **`root_symbol`**: The root symbol of the underlying asset. For example, `CL` corresponds to crude oil.\n",
    "- **`start_date`**: The date the contract becomes available on Quantopian. Note that the price of a contract might be `NaN` near the `start_date`, as it may not be actively traded until it gets closer to its delivery date.\n",
    "- **`end_date`**: The last date the contract can be traded or closed before delivery.\n",
    "- **`notice_date`**: The date in which the exchange can start assigning delivery to accounts holding long positions on the contract.\n",
    "- **`auto_close_date`**: This is two days prior to either `notice_date` or `end_date`, whichever is earlier.  In backtesting, positions in contracts will be automatically closed out on their `auto_close_date`.\n",
    "- **`tick_size`**: The price of a future can only change in increments of its `tick_size`. For example, `CL` changes in increments of \\$0.01.\n",
    "- **`multiplier`**: The number of units per contract. A contract for `CL` corresponds to 1000 barrels of oil."
   ]
  },
  {
   "cell_type": "markdown",
   "metadata": {},
   "source": [
    "In the following lesson, we'll take a look at how to get pricing and volume data for a particular futures contract."
   ]
  },
  {
   "cell_type": "markdown",
   "metadata": {},
   "source": [
    "<a></a></a>\n",
    "\n",
    "### List of Available Futures\n",
    "These are the 72 US futures that are currently available on Quantopian.\n",
    "\n",
    "Symbol | Future |\n",
    "--- | --- | \n",
    "BD | Big Dow\n",
    "BO | Soybean Oil\n",
    "CM | Corn E-Mini\n",
    "CN | Corn\n",
    "DJ | DJIA Futures\n",
    "ET | Ethanol\n",
    "FF | 30-Day Federal Funds\n",
    "FI | 5-Year Deliverable Interest Rate Swap Futures\n",
    "FS | 5-Year Interest Rate Swap Futures\n",
    "FV | 5-Year T-Note\n",
    "MB | Municipal Bonds\n",
    "MS | Soybeans E-Mini\n",
    "MW | Wheat E-Mini\n",
    "OA | Oats\n",
    "RR | Rough Rice\n",
    "SM | Soybean Meal\n",
    "SY | Soybeans\n",
    "TN | 10-Year Deliverable Interest Rate Swap Futures\n",
    "TS | 10-Year Interest Rate Swap Futures\n",
    "TU | 2-Year T-Note\n",
    "TY | 10-Year T-Note\n",
    "UB | Ultra Tbond\n",
    "US | 30-Year T-Bond\n",
    "WC | Wheat\n",
    "YM | Dow Jones E-mini\n",
    "VX | VIX Futures\n",
    "AD | Australian Dollar\n",
    "AI | Bloomberg Commodity Index Futures\n",
    "BP | British Pound\n",
    "CD | Canadian Dollar\n",
    "EC | Euro FX\n",
    "ED | Eurodollar\n",
    "EE | Euro FX E-mini\n",
    "ES | S&P 500 E-Mini\n",
    "EU | E-micro EUR/USD Futures\n",
    "FC | Feeder Cattle\n",
    "JE | Japanese Yen E-mini\n",
    "JY | Japanese Yen\n",
    "LB | Lumber\n",
    "LC | Live Cattle\n",
    "LH | Lean Hogs\n",
    "MD | S&P 400 MidCap Futures\n",
    "ME | Mexican Peso\n",
    "MI | S&P 400 MidCap E-Mini\n",
    "ND | NASDAQ 100 Futures\n",
    "NK | Nikkei 225 Futures\n",
    "NQ | NASDAQ 100 E-Mini\n",
    "NZ | New Zealand Dollar\n",
    "SF | Swiss Franc\n",
    "SP | S&P 500 Futures\n",
    "TB | TBills\n",
    "GC | Gold\n",
    "HG | Copper High Grade\n",
    "SV | Silver\n",
    "CL | Light Sweet Crude Oil\n",
    "HO | NY Harbor ULSD Futures\n",
    "HU | Unleaded Gasoline\n",
    "NG | Natural Gas\n",
    "PA | Palladium\n",
    "PL | Platinum\n",
    "PB | Pork Bellies\n",
    "QG | Natural Gas E-mini\n",
    "QM | Crude Oil E-Mini\n",
    "XB | RBOB Gasoline Futures\n",
    "EI | MSCI Emerging Markets Mini\n",
    "EL | Eurodollar NYSE LIFFE\n",
    "MG | MSCI EAFE Mini\n",
    "XG | Gold mini-sized\n",
    "YS | Silver mini-sized\n",
    "RM | Russell 1000 Mini\n",
    "SB | Sugar #11\n",
    "ER | Russell 2000 Mini"
   ]
  }
 ],
 "metadata": {
  "kernelspec": {
   "display_name": "Python 2",
   "language": "python",
   "name": "python2"
  },
  "language_info": {
   "codemirror_mode": {
    "name": "ipython",
    "version": 2
   },
   "file_extension": ".py",
   "mimetype": "text/x-python",
   "name": "python",
   "nbconvert_exporter": "python",
   "pygments_lexer": "ipython2",
   "version": "2.7.12"
  }
 },
 "nbformat": 4,
 "nbformat_minor": 2
}