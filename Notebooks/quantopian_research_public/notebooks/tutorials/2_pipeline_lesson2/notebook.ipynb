{
 "cells": [
  {
   "cell_type": "markdown",
   "metadata": {},
   "source": [
    "##Creating a Pipeline\n",
    "In this lesson, we will take a look at creating an empty pipeline. First, let's import the Pipeline class:"
   ]
  },
  {
   "cell_type": "code",
   "execution_count": 1,
   "metadata": {
    "collapsed": true
   },
   "outputs": [],
   "source": [
    "from quantopian.pipeline import Pipeline"
   ]
  },
  {
   "cell_type": "markdown",
   "metadata": {},
   "source": [
    "In a new cell, let's define a function to create our pipeline. Wrapping our pipeline creation in a function sets up a structure for more complex pipelines that we will see later on. For now, this function simply returns an empty pipeline:"
   ]
  },
  {
   "cell_type": "code",
   "execution_count": 2,
   "metadata": {
    "collapsed": true
   },
   "outputs": [],
   "source": [
    "def make_pipeline():\n",
    "    return Pipeline()"
   ]
  },
  {
   "cell_type": "markdown",
   "metadata": {},
   "source": [
    "In a new cell, let's instantiate our pipeline by running `make_pipeline()`:"
   ]
  },
  {
   "cell_type": "code",
   "execution_count": 3,
   "metadata": {
    "collapsed": false
   },
   "outputs": [],
   "source": [
    "my_pipe = make_pipeline()"
   ]
  },
  {
   "cell_type": "markdown",
   "metadata": {},
   "source": [
    "###Running a Pipeline\n",
    "\n",
    "Now that we have a reference to an empty Pipeline, `my_pipe` let's run it to see what it looks like. Before running our pipeline, we first need to import `run_pipeline`, a research-only function that allows us to run a pipeline over a specified time period."
   ]
  },
  {
   "cell_type": "code",
   "execution_count": 4,
   "metadata": {
    "collapsed": true
   },
   "outputs": [],
   "source": [
    "from quantopian.research import run_pipeline"
   ]
  },
  {
   "cell_type": "markdown",
   "metadata": {},
   "source": [
    "Let's run our pipeline for one day (2015-05-05) with `run_pipeline` and display it. Note that the 2nd and 3rd arguments are the start and end dates of the simulation, respectively."
   ]
  },
  {
   "cell_type": "code",
   "execution_count": 5,
   "metadata": {
    "collapsed": false
   },
   "outputs": [],
   "source": [
    "result = run_pipeline(my_pipe, '2015-05-05', '2015-05-05')"
   ]
  },
  {
   "cell_type": "markdown",
   "metadata": {},
   "source": [
    "A call to `run_pipeline` returns a [pandas DataFrame](http://pandas.pydata.org/pandas-docs/stable/generated/pandas.DataFrame.html) indexed by date and securities. Let's see what the empty pipeline looks like:"
   ]
  },
  {
   "cell_type": "code",
   "execution_count": 6,
   "metadata": {
    "collapsed": false
   },
   "outputs": [
    {
     "data": {
      "text/html": [
       "<div style=\"max-height:1000px;max-width:1500px;overflow:auto;\">\n",
       "<table border=\"1\" class=\"dataframe\">\n",
       "  <thead>\n",
       "    <tr style=\"text-align: right;\">\n",
       "      <th></th>\n",
       "      <th></th>\n",
       "    </tr>\n",
       "  </thead>\n",
       "  <tbody>\n",
       "    <tr>\n",
       "      <th rowspan=\"61\" valign=\"top\">2015-05-05 00:00:00+00:00</th>\n",
       "      <th>Equity(2 [AA])</th>\n",
       "    </tr>\n",
       "    <tr>\n",
       "      <th>Equity(21 [AAME])</th>\n",
       "    </tr>\n",
       "    <tr>\n",
       "      <th>Equity(24 [AAPL])</th>\n",
       "    </tr>\n",
       "    <tr>\n",
       "      <th>Equity(25 [AA_PR])</th>\n",
       "    </tr>\n",
       "    <tr>\n",
       "      <th>Equity(31 [ABAX])</th>\n",
       "    </tr>\n",
       "    <tr>\n",
       "      <th>Equity(39 [DDC])</th>\n",
       "    </tr>\n",
       "    <tr>\n",
       "      <th>Equity(41 [ARCB])</th>\n",
       "    </tr>\n",
       "    <tr>\n",
       "      <th>Equity(52 [ABM])</th>\n",
       "    </tr>\n",
       "    <tr>\n",
       "      <th>Equity(53 [ABMD])</th>\n",
       "    </tr>\n",
       "    <tr>\n",
       "      <th>Equity(62 [ABT])</th>\n",
       "    </tr>\n",
       "    <tr>\n",
       "      <th>Equity(64 [ABX])</th>\n",
       "    </tr>\n",
       "    <tr>\n",
       "      <th>Equity(66 [AB])</th>\n",
       "    </tr>\n",
       "    <tr>\n",
       "      <th>Equity(67 [ADSK])</th>\n",
       "    </tr>\n",
       "    <tr>\n",
       "      <th>Equity(69 [ACAT])</th>\n",
       "    </tr>\n",
       "    <tr>\n",
       "      <th>Equity(70 [VBF])</th>\n",
       "    </tr>\n",
       "    <tr>\n",
       "      <th>Equity(76 [TAP])</th>\n",
       "    </tr>\n",
       "    <tr>\n",
       "      <th>Equity(84 [ACET])</th>\n",
       "    </tr>\n",
       "    <tr>\n",
       "      <th>Equity(86 [ACG])</th>\n",
       "    </tr>\n",
       "    <tr>\n",
       "      <th>Equity(88 [ACI])</th>\n",
       "    </tr>\n",
       "    <tr>\n",
       "      <th>Equity(100 [IEP])</th>\n",
       "    </tr>\n",
       "    <tr>\n",
       "      <th>Equity(106 [ACU])</th>\n",
       "    </tr>\n",
       "    <tr>\n",
       "      <th>Equity(110 [ACXM])</th>\n",
       "    </tr>\n",
       "    <tr>\n",
       "      <th>Equity(112 [ACY])</th>\n",
       "    </tr>\n",
       "    <tr>\n",
       "      <th>Equity(114 [ADBE])</th>\n",
       "    </tr>\n",
       "    <tr>\n",
       "      <th>Equity(117 [AEY])</th>\n",
       "    </tr>\n",
       "    <tr>\n",
       "      <th>Equity(122 [ADI])</th>\n",
       "    </tr>\n",
       "    <tr>\n",
       "      <th>Equity(128 [ADM])</th>\n",
       "    </tr>\n",
       "    <tr>\n",
       "      <th>Equity(134 [SXCL])</th>\n",
       "    </tr>\n",
       "    <tr>\n",
       "      <th>Equity(149 [ADX])</th>\n",
       "    </tr>\n",
       "    <tr>\n",
       "      <th>Equity(153 [AE])</th>\n",
       "    </tr>\n",
       "    <tr>\n",
       "      <th>...</th>\n",
       "    </tr>\n",
       "    <tr>\n",
       "      <th>Equity(48961 [NYMT_O])</th>\n",
       "    </tr>\n",
       "    <tr>\n",
       "      <th>Equity(48962 [CSAL])</th>\n",
       "    </tr>\n",
       "    <tr>\n",
       "      <th>Equity(48963 [PAK])</th>\n",
       "    </tr>\n",
       "    <tr>\n",
       "      <th>Equity(48969 [NSA])</th>\n",
       "    </tr>\n",
       "    <tr>\n",
       "      <th>Equity(48971 [BSM])</th>\n",
       "    </tr>\n",
       "    <tr>\n",
       "      <th>Equity(48972 [EVA])</th>\n",
       "    </tr>\n",
       "    <tr>\n",
       "      <th>Equity(48981 [APIC])</th>\n",
       "    </tr>\n",
       "    <tr>\n",
       "      <th>Equity(48989 [UK])</th>\n",
       "    </tr>\n",
       "    <tr>\n",
       "      <th>Equity(48990 [ACWF])</th>\n",
       "    </tr>\n",
       "    <tr>\n",
       "      <th>Equity(48991 [ISCF])</th>\n",
       "    </tr>\n",
       "    <tr>\n",
       "      <th>Equity(48992 [INTF])</th>\n",
       "    </tr>\n",
       "    <tr>\n",
       "      <th>Equity(48993 [JETS])</th>\n",
       "    </tr>\n",
       "    <tr>\n",
       "      <th>Equity(48994 [ACTX])</th>\n",
       "    </tr>\n",
       "    <tr>\n",
       "      <th>Equity(48995 [LRGF])</th>\n",
       "    </tr>\n",
       "    <tr>\n",
       "      <th>Equity(48996 [SMLF])</th>\n",
       "    </tr>\n",
       "    <tr>\n",
       "      <th>Equity(48997 [VKTX])</th>\n",
       "    </tr>\n",
       "    <tr>\n",
       "      <th>Equity(48998 [OPGN])</th>\n",
       "    </tr>\n",
       "    <tr>\n",
       "      <th>Equity(48999 [AAPC])</th>\n",
       "    </tr>\n",
       "    <tr>\n",
       "      <th>Equity(49000 [BPMC])</th>\n",
       "    </tr>\n",
       "    <tr>\n",
       "      <th>Equity(49001 [CLCD])</th>\n",
       "    </tr>\n",
       "    <tr>\n",
       "      <th>Equity(49004 [TNP_PRD])</th>\n",
       "    </tr>\n",
       "    <tr>\n",
       "      <th>Equity(49005 [ARWA_U])</th>\n",
       "    </tr>\n",
       "    <tr>\n",
       "      <th>Equity(49006 [BVXV])</th>\n",
       "    </tr>\n",
       "    <tr>\n",
       "      <th>Equity(49007 [BVXV_W])</th>\n",
       "    </tr>\n",
       "    <tr>\n",
       "      <th>Equity(49008 [OPGN_W])</th>\n",
       "    </tr>\n",
       "    <tr>\n",
       "      <th>Equity(49009 [PRKU])</th>\n",
       "    </tr>\n",
       "    <tr>\n",
       "      <th>Equity(49010 [TBRA])</th>\n",
       "    </tr>\n",
       "    <tr>\n",
       "      <th>Equity(49131 [OESX])</th>\n",
       "    </tr>\n",
       "    <tr>\n",
       "      <th>Equity(49259 [ITUS])</th>\n",
       "    </tr>\n",
       "    <tr>\n",
       "      <th>Equity(49523 [TLGT])</th>\n",
       "    </tr>\n",
       "  </tbody>\n",
       "</table>\n",
       "<p>8236 rows × 0 columns</p>\n",
       "</div>"
      ],
      "text/plain": [
       "Empty DataFrame\n",
       "Columns: []\n",
       "Index: [(2015-05-05 00:00:00+00:00, Equity(2 [AA])), (2015-05-05 00:00:00+00:00, Equity(21 [AAME])), (2015-05-05 00:00:00+00:00, Equity(24 [AAPL])), (2015-05-05 00:00:00+00:00, Equity(25 [AA_PR])), (2015-05-05 00:00:00+00:00, Equity(31 [ABAX])), (2015-05-05 00:00:00+00:00, Equity(39 [DDC])), (2015-05-05 00:00:00+00:00, Equity(41 [ARCB])), (2015-05-05 00:00:00+00:00, Equity(52 [ABM])), (2015-05-05 00:00:00+00:00, Equity(53 [ABMD])), (2015-05-05 00:00:00+00:00, Equity(62 [ABT])), (2015-05-05 00:00:00+00:00, Equity(64 [ABX])), (2015-05-05 00:00:00+00:00, Equity(66 [AB])), (2015-05-05 00:00:00+00:00, Equity(67 [ADSK])), (2015-05-05 00:00:00+00:00, Equity(69 [ACAT])), (2015-05-05 00:00:00+00:00, Equity(70 [VBF])), (2015-05-05 00:00:00+00:00, Equity(76 [TAP])), (2015-05-05 00:00:00+00:00, Equity(84 [ACET])), (2015-05-05 00:00:00+00:00, Equity(86 [ACG])), (2015-05-05 00:00:00+00:00, Equity(88 [ACI])), (2015-05-05 00:00:00+00:00, Equity(100 [IEP])), (2015-05-05 00:00:00+00:00, Equity(106 [ACU])), (2015-05-05 00:00:00+00:00, Equity(110 [ACXM])), (2015-05-05 00:00:00+00:00, Equity(112 [ACY])), (2015-05-05 00:00:00+00:00, Equity(114 [ADBE])), (2015-05-05 00:00:00+00:00, Equity(117 [AEY])), (2015-05-05 00:00:00+00:00, Equity(122 [ADI])), (2015-05-05 00:00:00+00:00, Equity(128 [ADM])), (2015-05-05 00:00:00+00:00, Equity(134 [SXCL])), (2015-05-05 00:00:00+00:00, Equity(149 [ADX])), (2015-05-05 00:00:00+00:00, Equity(153 [AE])), (2015-05-05 00:00:00+00:00, Equity(154 [AEM])), (2015-05-05 00:00:00+00:00, Equity(157 [AEG])), (2015-05-05 00:00:00+00:00, Equity(161 [AEP])), (2015-05-05 00:00:00+00:00, Equity(162 [AEPI])), (2015-05-05 00:00:00+00:00, Equity(166 [AES])), (2015-05-05 00:00:00+00:00, Equity(168 [AET])), (2015-05-05 00:00:00+00:00, Equity(185 [AFL])), (2015-05-05 00:00:00+00:00, Equity(192 [ATAX])), (2015-05-05 00:00:00+00:00, Equity(197 [AGCO])), (2015-05-05 00:00:00+00:00, Equity(216 [HES])), (2015-05-05 00:00:00+00:00, Equity(225 [AHPI])), (2015-05-05 00:00:00+00:00, Equity(239 [AIG])), (2015-05-05 00:00:00+00:00, Equity(247 [AIN])), (2015-05-05 00:00:00+00:00, Equity(253 [AIR])), (2015-05-05 00:00:00+00:00, Equity(266 [AJG])), (2015-05-05 00:00:00+00:00, Equity(270 [AKRX])), (2015-05-05 00:00:00+00:00, Equity(273 [ALU])), (2015-05-05 00:00:00+00:00, Equity(283 [ALCO])), (2015-05-05 00:00:00+00:00, Equity(289 [MATX])), (2015-05-05 00:00:00+00:00, Equity(300 [ALK])), (2015-05-05 00:00:00+00:00, Equity(301 [ALKS])), (2015-05-05 00:00:00+00:00, Equity(311 [ALOG])), (2015-05-05 00:00:00+00:00, Equity(312 [ALOT])), (2015-05-05 00:00:00+00:00, Equity(328 [ALTR])), (2015-05-05 00:00:00+00:00, Equity(332 [ALX])), (2015-05-05 00:00:00+00:00, Equity(337 [AMAT])), (2015-05-05 00:00:00+00:00, Equity(351 [AMD])), (2015-05-05 00:00:00+00:00, Equity(353 [AME])), (2015-05-05 00:00:00+00:00, Equity(357 [TWX])), (2015-05-05 00:00:00+00:00, Equity(366 [AVD])), (2015-05-05 00:00:00+00:00, Equity(368 [AMGN])), (2015-05-05 00:00:00+00:00, Equity(371 [HWAY])), (2015-05-05 00:00:00+00:00, Equity(392 [AMS])), (2015-05-05 00:00:00+00:00, Equity(393 [AMSC])), (2015-05-05 00:00:00+00:00, Equity(397 [AMSW_A])), (2015-05-05 00:00:00+00:00, Equity(405 [AMWD])), (2015-05-05 00:00:00+00:00, Equity(410 [AN])), (2015-05-05 00:00:00+00:00, Equity(412 [ANAT])), (2015-05-05 00:00:00+00:00, Equity(430 [ANN])), (2015-05-05 00:00:00+00:00, Equity(438 [AON])), (2015-05-05 00:00:00+00:00, Equity(447 [AP])), (2015-05-05 00:00:00+00:00, Equity(448 [APA])), (2015-05-05 00:00:00+00:00, Equity(450 [CLFD])), (2015-05-05 00:00:00+00:00, Equity(451 [APB])), (2015-05-05 00:00:00+00:00, Equity(455 [APC])), (2015-05-05 00:00:00+00:00, Equity(460 [APD])), (2015-05-05 00:00:00+00:00, Equity(465 [APH])), (2015-05-05 00:00:00+00:00, Equity(468 [API])), (2015-05-05 00:00:00+00:00, Equity(474 [APOG])), (2015-05-05 00:00:00+00:00, Equity(484 [ATU])), (2015-05-05 00:00:00+00:00, Equity(508 [AIRM])), (2015-05-05 00:00:00+00:00, Equity(510 [ARG])), (2015-05-05 00:00:00+00:00, Equity(523 [AAN])), (2015-05-05 00:00:00+00:00, Equity(526 [AROW])), (2015-05-05 00:00:00+00:00, Equity(535 [ARTW])), (2015-05-05 00:00:00+00:00, Equity(538 [ARW])), (2015-05-05 00:00:00+00:00, Equity(542 [ASA])), (2015-05-05 00:00:00+00:00, Equity(547 [ASB])), (2015-05-05 00:00:00+00:00, Equity(548 [ASBI])), (2015-05-05 00:00:00+00:00, Equity(553 [ASEI])), (2015-05-05 00:00:00+00:00, Equity(557 [ASGN])), (2015-05-05 00:00:00+00:00, Equity(559 [ASH])), (2015-05-05 00:00:00+00:00, Equity(567 [ASMI])), (2015-05-05 00:00:00+00:00, Equity(576 [ASR])), (2015-05-05 00:00:00+00:00, Equity(579 [ASTE])), (2015-05-05 00:00:00+00:00, Equity(595 [GAS])), (2015-05-05 00:00:00+00:00, Equity(600 [OA])), (2015-05-05 00:00:00+00:00, Equity(607 [ATML])), (2015-05-05 00:00:00+00:00, Equity(610 [ATNI])), (2015-05-05 00:00:00+00:00, Equity(612 [ATO])), ...]\n",
       "\n",
       "[8236 rows x 0 columns]"
      ]
     },
     "execution_count": 6,
     "metadata": {},
     "output_type": "execute_result"
    }
   ],
   "source": [
    "result"
   ]
  },
  {
   "cell_type": "markdown",
   "metadata": {},
   "source": [
    "The output of an empty pipeline is a DataFrame with no columns. In this example, our pipeline has an index made up of all 8000+ securities (truncated in the display) for May 5th, 2015, but doesn't have any columns.\n",
    "\n",
    "In the following lessons, we'll take a look at how to add columns to our pipeline output, and how to filter down to a subset of securities."
   ]
  }
 ],
 "metadata": {
  "kernelspec": {
   "display_name": "Python 2",
   "language": "python",
   "name": "python2"
  },
  "language_info": {
   "codemirror_mode": {
    "name": "ipython",
    "version": 2
   },
   "file_extension": ".py",
   "mimetype": "text/x-python",
   "name": "python",
   "nbconvert_exporter": "python",
   "pygments_lexer": "ipython2",
   "version": "2.7.11"
  }
 },
 "nbformat": 4,
 "nbformat_minor": 0
}